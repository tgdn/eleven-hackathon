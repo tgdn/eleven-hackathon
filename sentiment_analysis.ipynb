{
 "cells": [
  {
   "cell_type": "code",
   "execution_count": 57,
   "id": "547dc317",
   "metadata": {},
   "outputs": [],
   "source": [
    "import pandas as pd\n",
    "import numpy as np\n",
    "import matplotlib.pyplot as plt\n",
    "%matplotlib inline\n",
    "\n",
    "# import nltk\n",
    "# nltk.download('vader_lexicon')\n",
    "from nltk.tokenize import word_tokenize\n",
    "from nltk.corpus import stopwords\n",
    "from nltk.stem.porter import *\n",
    "from nltk.stem import WordNetLemmatizer\n",
    "from nltk.sentiment.vader import SentimentIntensityAnalyzer\n",
    "from tqdm import tqdm\n",
    "\n",
    "import re\n",
    "import gensim\n",
    "\n",
    "from wordcloud import WordCloud, STOPWORDS, ImageColorGenerator\n",
    "# import seaborn as sns\n",
    "# sns.set_palette('Set2')"
   ]
  },
  {
   "cell_type": "code",
   "execution_count": 84,
   "id": "cacaa4ef",
   "metadata": {},
   "outputs": [],
   "source": [
    "sid = SentimentIntensityAnalyzer()\n",
    "df = pd.read_csv(\"p_skytrax.csv\")"
   ]
  },
  {
   "cell_type": "code",
   "execution_count": 85,
   "id": "114113e3",
   "metadata": {},
   "outputs": [],
   "source": [
    "# get the polarity scores and parse them to different columns\n",
    "df['scores'] = df['cleaned_body'].apply(lambda review: sid.polarity_scores(review))\n",
    "\n",
    "df['pos_score']  = df['scores'].apply(lambda score_dict: score_dict['pos'])\n",
    "df['neu_score']  = df['scores'].apply(lambda score_dict: score_dict['neu'])\n",
    "df['neg_score']  = df['scores'].apply(lambda score_dict: score_dict['neg'])\n",
    "df['compound_score']  = df['scores'].apply(lambda score_dict: score_dict['compound'])"
   ]
  },
  {
   "cell_type": "code",
   "execution_count": 86,
   "id": "889ed8ab",
   "metadata": {},
   "outputs": [],
   "source": [
    "# extract the reviews, rating and scores columns to separate df\n",
    "col_names = ['cleaned_body', 'pos_score', 'neu_score', 'neg_score', 'compound_score', 'rating']\n",
    "review_df = df[col_names]\n",
    "review_df.to_csv(\"reviews_scores.csv\")"
   ]
  },
  {
   "cell_type": "code",
   "execution_count": 88,
   "id": "66f94e1f",
   "metadata": {},
   "outputs": [
    {
     "name": "stderr",
     "output_type": "stream",
     "text": [
      "/var/folders/y_/ff7_m0c146ddrr_mctd4vpkh0000gn/T/ipykernel_10895/2125841316.py:5: SettingWithCopyWarning: \n",
      "A value is trying to be set on a copy of a slice from a DataFrame.\n",
      "Try using .loc[row_indexer,col_indexer] = value instead\n",
      "\n",
      "See the caveats in the documentation: https://pandas.pydata.org/pandas-docs/stable/user_guide/indexing.html#returning-a-view-versus-a-copy\n",
      "  review_df[\"cs_scaled\"] = review_df.apply(scale_compound_score,axis=1)\n"
     ]
    }
   ],
   "source": [
    "# scale the compound score\n",
    "def scale_compound_score(scores, mi = min(review_df[\"compound_score\"]),ma = max(review_df[\"compound_score\"]) ):\n",
    "    return (scores[\"compound_score\"] - mi) / (ma - mi)\n",
    "\n",
    "review_df[\"cs_scaled\"] = review_df.apply(scale_compound_score,axis=1)"
   ]
  },
  {
   "cell_type": "code",
   "execution_count": 89,
   "id": "65c8c2d8",
   "metadata": {},
   "outputs": [
    {
     "data": {
      "text/html": [
       "<div>\n",
       "<style scoped>\n",
       "    .dataframe tbody tr th:only-of-type {\n",
       "        vertical-align: middle;\n",
       "    }\n",
       "\n",
       "    .dataframe tbody tr th {\n",
       "        vertical-align: top;\n",
       "    }\n",
       "\n",
       "    .dataframe thead th {\n",
       "        text-align: right;\n",
       "    }\n",
       "</style>\n",
       "<table border=\"1\" class=\"dataframe\">\n",
       "  <thead>\n",
       "    <tr style=\"text-align: right;\">\n",
       "      <th></th>\n",
       "      <th>cleaned_body</th>\n",
       "      <th>pos_score</th>\n",
       "      <th>neu_score</th>\n",
       "      <th>neg_score</th>\n",
       "      <th>compound_score</th>\n",
       "      <th>rating</th>\n",
       "      <th>cs_scaled</th>\n",
       "    </tr>\n",
       "  </thead>\n",
       "  <tbody>\n",
       "    <tr>\n",
       "      <th>0</th>\n",
       "      <td>newer aircraft leg room awful seat comfortable...</td>\n",
       "      <td>0.256</td>\n",
       "      <td>0.604</td>\n",
       "      <td>0.139</td>\n",
       "      <td>0.3626</td>\n",
       "      <td>0.3</td>\n",
       "      <td>0.679267</td>\n",
       "    </tr>\n",
       "    <tr>\n",
       "      <th>1</th>\n",
       "      <td>check easy boarding zone think paid check kg l...</td>\n",
       "      <td>0.227</td>\n",
       "      <td>0.705</td>\n",
       "      <td>0.068</td>\n",
       "      <td>0.7430</td>\n",
       "      <td>0.6</td>\n",
       "      <td>0.871768</td>\n",
       "    </tr>\n",
       "    <tr>\n",
       "      <th>2</th>\n",
       "      <td>solid experience start finish especially given...</td>\n",
       "      <td>0.172</td>\n",
       "      <td>0.777</td>\n",
       "      <td>0.051</td>\n",
       "      <td>0.8979</td>\n",
       "      <td>0.7</td>\n",
       "      <td>0.950154</td>\n",
       "    </tr>\n",
       "    <tr>\n",
       "      <th>3</th>\n",
       "      <td>discovered upon boarding four year old allocat...</td>\n",
       "      <td>0.113</td>\n",
       "      <td>0.726</td>\n",
       "      <td>0.161</td>\n",
       "      <td>-0.5267</td>\n",
       "      <td>0.1</td>\n",
       "      <td>0.229239</td>\n",
       "    </tr>\n",
       "    <tr>\n",
       "      <th>4</th>\n",
       "      <td>got seat near emergency exit different standar...</td>\n",
       "      <td>0.183</td>\n",
       "      <td>0.660</td>\n",
       "      <td>0.157</td>\n",
       "      <td>0.2960</td>\n",
       "      <td>0.7</td>\n",
       "      <td>0.645564</td>\n",
       "    </tr>\n",
       "  </tbody>\n",
       "</table>\n",
       "</div>"
      ],
      "text/plain": [
       "                                        cleaned_body  pos_score  neu_score  \\\n",
       "0  newer aircraft leg room awful seat comfortable...      0.256      0.604   \n",
       "1  check easy boarding zone think paid check kg l...      0.227      0.705   \n",
       "2  solid experience start finish especially given...      0.172      0.777   \n",
       "3  discovered upon boarding four year old allocat...      0.113      0.726   \n",
       "4  got seat near emergency exit different standar...      0.183      0.660   \n",
       "\n",
       "   neg_score  compound_score  rating  cs_scaled  \n",
       "0      0.139          0.3626     0.3   0.679267  \n",
       "1      0.068          0.7430     0.6   0.871768  \n",
       "2      0.051          0.8979     0.7   0.950154  \n",
       "3      0.161         -0.5267     0.1   0.229239  \n",
       "4      0.157          0.2960     0.7   0.645564  "
      ]
     },
     "execution_count": 89,
     "metadata": {},
     "output_type": "execute_result"
    }
   ],
   "source": [
    "review_df.head()"
   ]
  },
  {
   "cell_type": "code",
   "execution_count": 90,
   "id": "ca064cc9",
   "metadata": {},
   "outputs": [
    {
     "data": {
      "image/png": "[encoded data removed]",
      "text/plain": [
       "<Figure size 432x288 with 1 Axes>"
      ]
     },
     "metadata": {
      "needs_background": "light"
     },
     "output_type": "display_data"
    },
    {
     "name": "stdout",
     "output_type": "stream",
     "text": [
      "pos_score 0.256\n",
      "neu_score 0.604\n",
      "neg_score 0.139\n",
      "compound_score 0.3626\n"
     ]
    }
   ],
   "source": [
    "# view an instance of the review\n",
    "review = review_df.loc[0] \n",
    "# print(\"text\",review[\"cleaned_body\"])\n",
    "\n",
    "wordcloud = WordCloud(max_font_size=50, max_words=100, background_color=\"white\").generate(review[\"cleaned_body\"])\n",
    "plt.imshow(wordcloud, interpolation='bilinear')\n",
    "plt.axis(\"off\")\n",
    "plt.show()\n",
    "\n",
    "print(\"pos_score\",review[\"pos_score\"])\n",
    "print(\"neu_score\",review[\"neu_score\"])\n",
    "print(\"neg_score\",review[\"neg_score\"])\n",
    "print(\"compound_score\",review[\"compound_score\"])"
   ]
  },
  {
   "cell_type": "code",
   "execution_count": 91,
   "id": "5c70e320",
   "metadata": {},
   "outputs": [
    {
     "name": "stderr",
     "output_type": "stream",
     "text": [
      "/var/folders/y_/ff7_m0c146ddrr_mctd4vpkh0000gn/T/ipykernel_10895/547962512.py:10: SettingWithCopyWarning: \n",
      "A value is trying to be set on a copy of a slice from a DataFrame.\n",
      "Try using .loc[row_indexer,col_indexer] = value instead\n",
      "\n",
      "See the caveats in the documentation: https://pandas.pydata.org/pandas-docs/stable/user_guide/indexing.html#returning-a-view-versus-a-copy\n",
      "  review_df[\"sentiment\"] = review_df.apply(get_sentiment,axis=1)\n"
     ]
    }
   ],
   "source": [
    "# classify the review based on compound score\n",
    "def get_sentiment(scores, threshold=0.05):\n",
    "    val = \"neutral\"\n",
    "    if scores[\"compound_score\"] > threshold:\n",
    "        val = \"positive\"\n",
    "    elif scores[\"compound_score\"] < -threshold:\n",
    "        val = \"negative\"\n",
    "    return val\n",
    "\n",
    "\n",
    "review_df[\"sentiment\"] = review_df.apply(get_sentiment,axis=1)"
   ]
  },
  {
   "cell_type": "code",
   "execution_count": 93,
   "id": "bf1fa030",
   "metadata": {},
   "outputs": [
    {
     "data": {
      "text/plain": [
       "<AxesSubplot:>"
      ]
     },
     "execution_count": 93,
     "metadata": {},
     "output_type": "execute_result"
    },
    {
     "data": {
      "image/png": "[encoded data removed]",
      "text/plain": [
       "<Figure size 432x288 with 1 Axes>"
      ]
     },
     "metadata": {
      "needs_background": "light"
     },
     "output_type": "display_data"
    }
   ],
   "source": [
    "review_df[\"sentiment\"].value_counts().plot(kind='bar')"
   ]
  },
  {
   "cell_type": "code",
   "execution_count": 99,
   "id": "27011f0e",
   "metadata": {},
   "outputs": [
    {
     "data": {
      "text/html": [
       "<div>\n",
       "<style scoped>\n",
       "    .dataframe tbody tr th:only-of-type {\n",
       "        vertical-align: middle;\n",
       "    }\n",
       "\n",
       "    .dataframe tbody tr th {\n",
       "        vertical-align: top;\n",
       "    }\n",
       "\n",
       "    .dataframe thead th {\n",
       "        text-align: right;\n",
       "    }\n",
       "</style>\n",
       "<table border=\"1\" class=\"dataframe\">\n",
       "  <thead>\n",
       "    <tr style=\"text-align: right;\">\n",
       "      <th></th>\n",
       "      <th>rating</th>\n",
       "      <th>cs_scaled</th>\n",
       "    </tr>\n",
       "  </thead>\n",
       "  <tbody>\n",
       "    <tr>\n",
       "      <th>rating</th>\n",
       "      <td>1.000000</td>\n",
       "      <td>0.626758</td>\n",
       "    </tr>\n",
       "    <tr>\n",
       "      <th>cs_scaled</th>\n",
       "      <td>0.626758</td>\n",
       "      <td>1.000000</td>\n",
       "    </tr>\n",
       "  </tbody>\n",
       "</table>\n",
       "</div>"
      ],
      "text/plain": [
       "             rating  cs_scaled\n",
       "rating     1.000000   0.626758\n",
       "cs_scaled  0.626758   1.000000"
      ]
     },
     "execution_count": 99,
     "metadata": {},
     "output_type": "execute_result"
    }
   ],
   "source": [
    "# check the correlation between rating and the score predicted by the model\n",
    "corr_values = review_df[[\"rating\",\"cs_scaled\"]].dropna(axis=0).corr()\n",
    "corr_values"
   ]
  },
  {
   "cell_type": "code",
   "execution_count": 96,
   "id": "46610a0f",
   "metadata": {},
   "outputs": [],
   "source": [
    "# Extract only the negative reviews\n",
    "negative_reviews = review_df[review_df.sentiment == \"negative\"]\n",
    "negative_reviews.to_csv(\"negative_reviews.csv\")\n",
    "negative_reviews.head()"
   ]
  },
  {
   "cell_type": "code",
   "execution_count": null,
   "id": "cef6abe3",
   "metadata": {},
   "outputs": [],
   "source": []
  }
 ],
 "metadata": {
  "kernelspec": {
   "display_name": "Python 3.9.7 ('hackathon_env')",
   "language": "python",
   "name": "python397jvsc74a57bd02d0db2975f6943ef3a2d576975ca33659f29e7e034ec48e7aee3bfd5ea653fc2"
  },
  "language_info": {
   "codemirror_mode": {
    "name": "ipython",
    "version": 3
   },
   "file_extension": ".py",
   "mimetype": "text/x-python",
   "name": "python",
   "nbconvert_exporter": "python",
   "pygments_lexer": "ipython3",
   "version": "3.8.8"
  }
 },
 "nbformat": 4,
 "nbformat_minor": 5
}
