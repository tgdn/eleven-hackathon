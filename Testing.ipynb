{
 "cells": [
  {
   "cell_type": "code",
   "execution_count": 7,
   "id": "aa66d92b",
   "metadata": {},
   "outputs": [],
   "source": [
    "import logging\n",
    "\n",
    "logging.basicConfig(\n",
    "    filename=\"log.txt\",\n",
    "    filemode=\"a\",\n",
    "    format=\"%(asctime)s,%(msecs)d %(name)s %(levelname)s %(message)s\",\n",
    "    datefmt=\"%H:%M:%S\",\n",
    "    level=logging.DEBUG,\n",
    ")"
   ]
  },
  {
   "cell_type": "code",
   "execution_count": 13,
   "id": "e56a2b97",
   "metadata": {},
   "outputs": [],
   "source": [
    "from eleven.scraper import Scraper"
   ]
  },
  {
   "cell_type": "code",
   "execution_count": 14,
   "id": "d8baf817",
   "metadata": {},
   "outputs": [
    {
     "name": "stderr",
     "output_type": "stream",
     "text": [
      "\n",
      "\n",
      "====== WebDriver manager ======\n",
      "Current google-chrome version is 98.0.4758\n",
      "Get LATEST chromedriver version for 98.0.4758 google-chrome\n",
      "Driver [/Users/tgdn/.wdm/drivers/chromedriver/mac64/98.0.4758.80/chromedriver] found in cache\n"
     ]
    }
   ],
   "source": [
    "s = Scraper()"
   ]
  },
  {
   "cell_type": "code",
   "execution_count": 24,
   "id": "5ea8b808",
   "metadata": {},
   "outputs": [],
   "source": [
    "soup = s.get('https://www.airlinequality.com/seat-reviews/alitalia/?sortby=post_date%3ADesc&pagesize=100')"
   ]
  },
  {
   "cell_type": "code",
   "execution_count": 29,
   "id": "d5a72a7c",
   "metadata": {},
   "outputs": [
    {
     "data": {
      "text/plain": [
       "'25'"
      ]
     },
     "execution_count": 29,
     "metadata": {},
     "output_type": "execute_result"
    }
   ],
   "source": [
    "int(soup.find(itemprop=\"reviewCount\").get_text().strip())"
   ]
  },
  {
   "cell_type": "code",
   "execution_count": 25,
   "id": "5e339951",
   "metadata": {},
   "outputs": [
    {
     "data": {
      "text/plain": [
       "[]"
      ]
     },
     "execution_count": 25,
     "metadata": {},
     "output_type": "execute_result"
    }
   ],
   "source": [
    "soup.body.findAll(text='<<')"
   ]
  },
  {
   "cell_type": "code",
   "execution_count": null,
   "id": "6f960f7f",
   "metadata": {},
   "outputs": [],
   "source": [
    "sop"
   ]
  },
  {
   "cell_type": "code",
   "execution_count": 16,
   "id": "f34b97e5",
   "metadata": {},
   "outputs": [],
   "source": [
    "article = soup.find_all('article', itemprop=\"review\")[93]"
   ]
  },
  {
   "cell_type": "code",
   "execution_count": 43,
   "id": "1b4e89cc",
   "metadata": {},
   "outputs": [],
   "source": [
    "rating = article.find(itemprop=\"reviewRating\")\n",
    "review_rating = float(rating.find(itemprop=\"ratingValue\").next) / float(rating.find(itemprop=\"bestRating\").next)"
   ]
  },
  {
   "cell_type": "code",
   "execution_count": 44,
   "id": "f37d74f1",
   "metadata": {},
   "outputs": [],
   "source": [
    "review_title = article.find(class_='text_header').next"
   ]
  },
  {
   "cell_type": "code",
   "execution_count": 9,
   "id": "a255aa3d",
   "metadata": {},
   "outputs": [
    {
     "ename": "AttributeError",
     "evalue": "'NoneType' object has no attribute 'next'",
     "output_type": "error",
     "traceback": [
      "\u001b[0;31m---------------------------------------------------------------------------\u001b[0m",
      "\u001b[0;31mAttributeError\u001b[0m                            Traceback (most recent call last)",
      "Input \u001b[0;32mIn [9]\u001b[0m, in \u001b[0;36m<module>\u001b[0;34m\u001b[0m\n\u001b[1;32m      1\u001b[0m author \u001b[38;5;241m=\u001b[39m article\u001b[38;5;241m.\u001b[39mfind(itemprop\u001b[38;5;241m=\u001b[39m\u001b[38;5;124m\"\u001b[39m\u001b[38;5;124mauthor\u001b[39m\u001b[38;5;124m\"\u001b[39m)\n\u001b[0;32m----> 2\u001b[0m review_author_review_count \u001b[38;5;241m=\u001b[39m \u001b[38;5;28mint\u001b[39m(\u001b[43mauthor\u001b[49m\u001b[38;5;241;43m.\u001b[39;49m\u001b[43mfind\u001b[49m\u001b[43m(\u001b[49m\u001b[43mclass_\u001b[49m\u001b[38;5;241;43m=\u001b[39;49m\u001b[38;5;124;43m\"\u001b[39;49m\u001b[38;5;124;43muserStatusReviewCount\u001b[39;49m\u001b[38;5;124;43m\"\u001b[39;49m\u001b[43m)\u001b[49m\u001b[38;5;241;43m.\u001b[39;49m\u001b[43mnext\u001b[49m\u001b[38;5;241m.\u001b[39msplit(\u001b[38;5;124m'\u001b[39m\u001b[38;5;124m \u001b[39m\u001b[38;5;124m'\u001b[39m)[\u001b[38;5;241m0\u001b[39m])\n",
      "\u001b[0;31mAttributeError\u001b[0m: 'NoneType' object has no attribute 'next'"
     ]
    }
   ],
   "source": [
    "author = article.find(itemprop=\"author\")\n",
    "review_author_review_count = int(author.find(class_=\"userStatusReviewCount\").next.split(' ')[0])"
   ]
  },
  {
   "cell_type": "code",
   "execution_count": 60,
   "id": "a9b803ef",
   "metadata": {},
   "outputs": [],
   "source": [
    "review_date = article.find(itemprop=\"datePublished\")['content']"
   ]
  },
  {
   "cell_type": "code",
   "execution_count": 71,
   "id": "ac11428d",
   "metadata": {},
   "outputs": [],
   "source": [
    "review_location = author.next_sibling.strip().replace('(', '').replace(')', '')"
   ]
  },
  {
   "cell_type": "code",
   "execution_count": 84,
   "id": "5253ebe3",
   "metadata": {},
   "outputs": [
    {
     "data": {
      "text/plain": [
       "'The economy class on Qantas could only be described as cattle class. I had a window seat and had no access whatever to the aisle. I had to wait 12 hours of a 14 hour flight to use the toilet as the persons in the seats next to me were both asleep. I found the seat to be hard uncomfortable and seriously in need of further adjustment. When paying an honest fare you expect honest comfort not to be penned in like cattle and whoever designed the seats for Qantas seriously needs further education in ergonomics.'"
      ]
     },
     "execution_count": 84,
     "metadata": {},
     "output_type": "execute_result"
    }
   ],
   "source": [
    "body = article.find(itemprop=\"reviewBody\")\n",
    "has_link = not not body.find_all('a')\n",
    "\n",
    "#verification_status = 'unknown'\n",
    "#if body.get_text()[:1] == '✅':\n",
    "#    verification_status = 'verified'\n",
    "#elif body.get_text()[:1] == '❎':\n",
    "#    verification_status = 'unverified'\n",
    "\n",
    "left, *right = body.get_text().split('|')\n",
    "if has_link:\n",
    "    review_body = ''.join(right).strip()\n",
    "else:\n",
    "    review_body = left\n",
    "review_body"
   ]
  },
  {
   "cell_type": "code",
   "execution_count": 52,
   "id": "a5fe3be5",
   "metadata": {},
   "outputs": [
    {
     "data": {
      "text/plain": [
       "'The A380 has an extremely private and comfortable First Class seat. The cushioning, additional memory foam mattress for bed time and the size of the seat make travelling in First Class worth your while. The screen, lighting options, storage space, and inflight entertainment make this seat one of the best I have tried. The swivel and adjustment features if this seat are incredible.  In my short 8 hour flight I was able to try out the different massage options and my sore upper back was very grateful for that.'"
      ]
     },
     "execution_count": 52,
     "metadata": {},
     "output_type": "execute_result"
    }
   ],
   "source": []
  },
  {
   "cell_type": "code",
   "execution_count": 21,
   "id": "0bbf909f",
   "metadata": {},
   "outputs": [
    {
     "data": {
      "text/plain": [
       "<ul class=\"thumbnail_bar\"><li class=\"thumbnail\"><a alt=\"\" href=\"https://www.airlinequality.com/wp-content/uploads/2014/08/2016-11-30-16.15.55-500x500.jpg\"><img alt=\"\" data-id=\"447488\" src=\"https://www.airlinequality.com/wp-content/uploads/2014/08/2016-11-30-16.15.55-50x50.jpg\"/></a></li><li class=\"thumbnail\"><a alt=\"\" href=\"https://www.airlinequality.com/wp-content/uploads/2014/08/2016-11-30-16.18.19-500x500.jpg\"><img alt=\"\" data-id=\"447489\" src=\"https://www.airlinequality.com/wp-content/uploads/2014/08/2016-11-30-16.18.19-50x50.jpg\"/></a></li><li class=\"thumbnail\"><a alt=\"\" href=\"https://www.airlinequality.com/wp-content/uploads/2014/08/2016-11-30-16.18.56-500x500.jpg\"><img alt=\"\" data-id=\"447490\" src=\"https://www.airlinequality.com/wp-content/uploads/2014/08/2016-11-30-16.18.56-50x50.jpg\"/></a></li><li class=\"thumbnail\"><a alt=\"\" href=\"https://www.airlinequality.com/wp-content/uploads/2014/08/2016-11-30-16.28.04-500x500.jpg\"><img alt=\"\" data-id=\"447491\" src=\"https://www.airlinequality.com/wp-content/uploads/2014/08/2016-11-30-16.28.04-50x50.jpg\"/></a></li></ul>"
      ]
     },
     "execution_count": 21,
     "metadata": {},
     "output_type": "execute_result"
    }
   ],
   "source": [
    "#body.next.next.next.next.next.next.get_text()\n",
    "body.next.next.next.next.next"
   ]
  },
  {
   "cell_type": "code",
   "execution_count": 12,
   "id": "2ef69a74",
   "metadata": {},
   "outputs": [
    {
     "ename": "TypeError",
     "evalue": "unhashable type: 'slice'",
     "output_type": "error",
     "traceback": [
      "\u001b[0;31m---------------------------------------------------------------------------\u001b[0m",
      "\u001b[0;31mTypeError\u001b[0m                                 Traceback (most recent call last)",
      "Input \u001b[0;32mIn [12]\u001b[0m, in \u001b[0;36m<module>\u001b[0;34m\u001b[0m\n\u001b[1;32m      2\u001b[0m \u001b[38;5;28;01mif\u001b[39;00m \u001b[38;5;129;01mnot\u001b[39;00m review_verified:\n\u001b[1;32m      3\u001b[0m     raw_body \u001b[38;5;241m=\u001b[39m body\u001b[38;5;241m.\u001b[39mnext\u001b[38;5;241m.\u001b[39mnext\u001b[38;5;241m.\u001b[39mnext\u001b[38;5;241m.\u001b[39mnext\u001b[38;5;241m.\u001b[39mnext\n\u001b[0;32m----> 4\u001b[0m review_body \u001b[38;5;241m=\u001b[39m \u001b[43mraw_body\u001b[49m\u001b[43m[\u001b[49m\u001b[38;5;241;43m4\u001b[39;49m\u001b[43m:\u001b[49m\u001b[43m]\u001b[49m\u001b[38;5;241m.\u001b[39mstrip()\n",
      "File \u001b[0;32m~/Documents/Centrale/Year 2/hackathon/code/venv/lib/python3.9/site-packages/bs4/element.py:1486\u001b[0m, in \u001b[0;36mTag.__getitem__\u001b[0;34m(self, key)\u001b[0m\n\u001b[1;32m   1483\u001b[0m \u001b[38;5;28;01mdef\u001b[39;00m \u001b[38;5;21m__getitem__\u001b[39m(\u001b[38;5;28mself\u001b[39m, key):\n\u001b[1;32m   1484\u001b[0m     \u001b[38;5;124;03m\"\"\"tag[key] returns the value of the 'key' attribute for the Tag,\u001b[39;00m\n\u001b[1;32m   1485\u001b[0m \u001b[38;5;124;03m    and throws an exception if it's not there.\"\"\"\u001b[39;00m\n\u001b[0;32m-> 1486\u001b[0m     \u001b[38;5;28;01mreturn\u001b[39;00m \u001b[38;5;28;43mself\u001b[39;49m\u001b[38;5;241;43m.\u001b[39;49m\u001b[43mattrs\u001b[49m\u001b[43m[\u001b[49m\u001b[43mkey\u001b[49m\u001b[43m]\u001b[49m\n",
      "\u001b[0;31mTypeError\u001b[0m: unhashable type: 'slice'"
     ]
    }
   ],
   "source": [
    "raw_body = body.next.next.next.next.next.next.get_text()\n",
    "if not review_verified:\n",
    "    raw_body = body.next.next.next.next.next\n",
    "review_body = raw_body[4:].strip()"
   ]
  },
  {
   "cell_type": "code",
   "execution_count": 18,
   "id": "7ff31a55",
   "metadata": {},
   "outputs": [],
   "source": [
    "tabl = article.find(\"table\", class_=\"review-ratings\")"
   ]
  },
  {
   "cell_type": "code",
   "execution_count": 19,
   "id": "c94b6cfa",
   "metadata": {},
   "outputs": [
    {
     "name": "stdout",
     "output_type": "stream",
     "text": [
      "Seat Type: Economy Class\n",
      "Aircraft Type: A320\n",
      "Seat Layout: 3x3\n",
      "Seat Legroom: 12345\n",
      "Seat Recline: 12345\n",
      "Seat Width: 12345\n",
      "Aisle Space: 12345\n",
      "Viewing Tv Screen: N/A\n",
      "Recommended: no\n"
     ]
    }
   ],
   "source": [
    "for tr in tabl.find_all('tr'):\n",
    "    left, right = tr.find_all('td')\n",
    "    left, right = left.get_text(), right.get_text()\n",
    "    print(f\"{left}: {right}\")"
   ]
  },
  {
   "cell_type": "code",
   "execution_count": 22,
   "id": "7701ff61",
   "metadata": {},
   "outputs": [
    {
     "data": {
      "text/plain": [
       "'N/A'"
      ]
     },
     "execution_count": 22,
     "metadata": {},
     "output_type": "execute_result"
    }
   ],
   "source": [
    "tr = tabl.find_all('tr')[7]\n",
    "left, right = tr.find_all('td')\n",
    "right.get_text()"
   ]
  },
  {
   "cell_type": "code",
   "execution_count": 170,
   "id": "0e2b670f",
   "metadata": {},
   "outputs": [
    {
     "name": "stdout",
     "output_type": "stream",
     "text": [
      "Seat Type: Economy Class\n",
      "Aircraft Type: A330-200\n",
      "Seat Layout: 2x4x2 / 2x3x2\n",
      "Date Flown: October 2019\n",
      "Type Of Traveller: Family Leisure\n",
      "Seat Legroom: 0.2\n",
      "Seat Recline: 0.2\n",
      "Seat Width: 0.4\n",
      "Aisle Space: 0.6\n",
      "Viewing Tv Screen: 0.6\n",
      "Power Supply: 0.2\n",
      "Seat Storage: 0.2\n",
      "Recommended: True\n"
     ]
    }
   ],
   "source": [
    "def extract_rating(td_soup):\n",
    "    total = 0\n",
    "    for span in td_soup.find_all('span'):\n",
    "        if 'fill' not in span.get('class'):\n",
    "            break\n",
    "        total += 1.0\n",
    "    return total / 5.0\n",
    "\n",
    "for tr in tabl.find_all('tr'):\n",
    "    left, right = tr.find_all('td')\n",
    "    label = left.get_text()\n",
    "    if 'review-rating-stars' in right.get('class'):\n",
    "        value = extract_rating(right)\n",
    "    elif 'rating-yes' in right.get('class'):\n",
    "        value = True if right.get_text().strip().lower() == 'yes' else False\n",
    "    else:\n",
    "        value = right.get_text()\n",
    "    \n",
    "    print(f\"{label}: {value}\")\n",
    "    \n",
    "    "
   ]
  },
  {
   "cell_type": "code",
   "execution_count": 157,
   "id": "e50c77f4",
   "metadata": {},
   "outputs": [
    {
     "data": {
      "text/plain": [
       "<td class=\"review-rating-stars stars\"><span class=\"star fill\">1</span><span class=\"star\">2</span><span class=\"star\">3</span><span class=\"star\">4</span><span class=\"star\">5</span></td>"
      ]
     },
     "execution_count": 157,
     "metadata": {},
     "output_type": "execute_result"
    }
   ],
   "source": [
    "tabl.find_all('tr')[5].find_all('td')[1]"
   ]
  },
  {
   "cell_type": "code",
   "execution_count": 1,
   "id": "6e0d1edc",
   "metadata": {},
   "outputs": [],
   "source": [
    "from eleven.scraper import Scraper\n",
    "from eleven.skytrax import SkyTraxParser"
   ]
  },
  {
   "cell_type": "code",
   "execution_count": 2,
   "id": "5bc5edc5",
   "metadata": {},
   "outputs": [
    {
     "name": "stderr",
     "output_type": "stream",
     "text": [
      "\n",
      "\n",
      "====== WebDriver manager ======\n",
      "Current google-chrome version is 98.0.4758\n",
      "Get LATEST chromedriver version for 98.0.4758 google-chrome\n",
      "Driver [/Users/tgdn/.wdm/drivers/chromedriver/mac64/98.0.4758.80/chromedriver] found in cache\n"
     ]
    }
   ],
   "source": [
    "scraper = Scraper()\n",
    "st = SkyTraxParser(scraper)"
   ]
  },
  {
   "cell_type": "code",
   "execution_count": 3,
   "id": "efab9aaf",
   "metadata": {},
   "outputs": [],
   "source": [
    "articles = st.scrape_airline('air-france')"
   ]
  },
  {
   "cell_type": "code",
   "execution_count": 4,
   "id": "0e87f2d3",
   "metadata": {},
   "outputs": [
    {
     "data": {
      "text/plain": [
       "108"
      ]
     },
     "execution_count": 4,
     "metadata": {},
     "output_type": "execute_result"
    }
   ],
   "source": [
    "len(articles)"
   ]
  },
  {
   "cell_type": "markdown",
   "id": "e2da6e39",
   "metadata": {},
   "source": [
    "# Scraping airlines"
   ]
  },
  {
   "cell_type": "code",
   "execution_count": 6,
   "id": "e1574ab1",
   "metadata": {},
   "outputs": [
    {
     "name": "stderr",
     "output_type": "stream",
     "text": [
      "\n",
      "\n",
      "====== WebDriver manager ======\n",
      "Current google-chrome version is 98.0.4758\n",
      "Get LATEST chromedriver version for 98.0.4758 google-chrome\n",
      "Driver [/Users/tgdn/.wdm/drivers/chromedriver/mac64/98.0.4758.80/chromedriver] found in cache\n"
     ]
    }
   ],
   "source": [
    "from eleven.scraper import Scraper\n",
    "s = Scraper()\n",
    "soup = s.get('https://skytraxratings.com/a-z-of-airline-ratings')"
   ]
  },
  {
   "cell_type": "code",
   "execution_count": 7,
   "id": "50c7abd2",
   "metadata": {},
   "outputs": [],
   "source": [
    "table = soup.find(id=\"tablepress-1\")"
   ]
  },
  {
   "cell_type": "code",
   "execution_count": 22,
   "id": "6b5df90e",
   "metadata": {},
   "outputs": [],
   "source": [
    "def parse_slug(tr):\n",
    "    name = tr.get_text().strip()\n",
    "    slug = tr.find('a').get('href').split('/')[-2].replace('-rating', '')\n",
    "    return name, slug\n",
    "\n",
    "airlines = [parse_slug(tr) for tr in table.find_all('tr')]"
   ]
  },
  {
   "cell_type": "code",
   "execution_count": 23,
   "id": "e71f25be",
   "metadata": {},
   "outputs": [
    {
     "data": {
      "text/plain": [
       "[('9 Air', '9-air'),\n",
       " ('Aegean Airlines', 'aegean-airlines'),\n",
       " ('Aer Lingus', 'aer-lingus'),\n",
       " ('Aeroflot Russian Airlines', 'aeroflot-russian-airlines'),\n",
       " ('Aerolineas Argentinas', 'airlines'),\n",
       " ('Aeromexico', 'airlines'),\n",
       " ('Air Algerie', 'airlines'),\n",
       " ('Air Arabia', 'airlines'),\n",
       " ('Air Astana', 'air-astana'),\n",
       " ('Air Botswana', 'air-botswana'),\n",
       " ('Air Busan', 'air-busan'),\n",
       " ('Air Canada', 'air-canada'),\n",
       " ('Air Canada rouge', 'air-canada-rouge'),\n",
       " ('Air Caraibes', 'air-caraibes'),\n",
       " ('Air China', 'air-china'),\n",
       " ('Air Dolomiti', 'air-dolomiti'),\n",
       " ('Air Europa', 'air-europa'),\n",
       " ('Air France', 'air-france'),\n",
       " ('Air India', 'air-india'),\n",
       " ('Air India Express', 'air-india-express'),\n",
       " ('Air Macau', 'air-macau'),\n",
       " ('Air Madagascar', 'air-madagascar'),\n",
       " ('Air Malta', 'air-malta'),\n",
       " ('Air Mauritius', 'air-mauritius'),\n",
       " ('Air Moldova', 'air-moldova'),\n",
       " ('Air Namibia', 'air-namibia'),\n",
       " ('Air New Zealand', 'air-new-zealand'),\n",
       " ('Air Niugini', 'air-niugini'),\n",
       " ('Air Nostrum', 'air-nostrum'),\n",
       " ('Air Serbia', 'air-serbia'),\n",
       " ('Air Seychelles', 'air-seychelles'),\n",
       " ('Air Tahiti Nui', 'air-tahiti-nui'),\n",
       " ('Air Transat', 'air-transat'),\n",
       " ('Air Vanuatu', 'air-vanuatu'),\n",
       " ('AirAsia', 'airasia'),\n",
       " ('AirAsia X', 'airasia-x'),\n",
       " ('AirAsia India', 'airasia-india'),\n",
       " ('airBaltic', 'airbaltic'),\n",
       " ('airblue', 'airblue'),\n",
       " ('Aircalin', 'aircalin'),\n",
       " ('Alaska Airlines', 'alaska-airlines'),\n",
       " ('Alitalia', 'alitalia'),\n",
       " ('Allegiant Air', 'allegiant-air'),\n",
       " ('American Airlines', 'american-airlines'),\n",
       " ('ANA All Nippon Airways', 'ana-all-nippon-airways'),\n",
       " ('AnadoluJet', 'anadolujet'),\n",
       " ('Arik Air', 'arik-air'),\n",
       " ('Asiana Airlines', 'asiana-airlines'),\n",
       " ('Austrian Airlines', 'austrian-airlines'),\n",
       " ('Avianca', 'avianca'),\n",
       " ('Azerbaijan Airlines', 'azerbaijan-airlines'),\n",
       " ('Azul Brazilian Airlines', 'azul-linhas-aereas-brasileiras'),\n",
       " ('Bahamasair', 'bahamasair'),\n",
       " ('Bamboo Airways', 'bamboo-airways'),\n",
       " ('Bangkok Airways', 'bangkok-airways'),\n",
       " ('Batik Air', 'batik-air'),\n",
       " ('Belavia Belarusian Airlines', 'belavia-belarusian-airlines'),\n",
       " ('Biman Bangladesh Airlines', 'biman-bangladesh-airlines'),\n",
       " ('Blue Air', 'blue-air'),\n",
       " ('Boliviana de Aviación', 'boliviana-de-aviacion'),\n",
       " ('British Airways', 'british-airways'),\n",
       " ('Brussels Airlines', 'brussels-airlines'),\n",
       " ('Bulgaria Air', 'bulgaria-air'),\n",
       " ('Cabo Verde Airlines', 'cabo-verde-airlines'),\n",
       " ('Capital Airlines', 'capital-airlines'),\n",
       " ('Caribbean Airlines', 'caribbean-airlines'),\n",
       " ('Cathay Pacific Airways', 'cathay-pacific-airways'),\n",
       " ('Cayman Airways', 'cayman-airways'),\n",
       " ('Cebu Pacific', 'cebu-pacific'),\n",
       " ('Chengdu Airlines', 'chengdu-airlines'),\n",
       " ('China Airlines', 'china-airlines'),\n",
       " ('China Eastern Airlines', 'china-eastern-airlines'),\n",
       " ('China Express Airlines', 'china-express-airlines'),\n",
       " ('China Southern Airlines', 'china-southern-airlines'),\n",
       " ('China United Airlines', 'china-united-airlines'),\n",
       " ('Chongqing Airlines', 'chongqing-airlines'),\n",
       " ('Citilink', 'citilink'),\n",
       " ('Colorful Guizhou Airlines', 'colorful-guizhou-airlines'),\n",
       " ('Condor Airlines', 'condor-airlines'),\n",
       " ('Copa Airlines', 'copa-airlines'),\n",
       " ('Corendon Airlines', 'corendon-airlines'),\n",
       " ('Croatia Airlines', 'croatia-airlines'),\n",
       " ('CSA Czech Airlines', 'csa-czech-airlines'),\n",
       " ('Dalian Airlines', 'dalian-airlines'),\n",
       " ('Delta Air Lines', 'delta-air-lines'),\n",
       " ('Donghai Airlines', 'donghai-airlines'),\n",
       " ('Eastar Jet', 'eastar-jet'),\n",
       " ('Easyfly', 'easyfly'),\n",
       " ('easyJet', 'easyjet'),\n",
       " ('Edelweiss Air', 'edelweiss-air'),\n",
       " ('Egyptair', 'egyptair'),\n",
       " ('El Al Israel Airlines', 'el-al-israel-airlines'),\n",
       " ('Emirates', 'emirates'),\n",
       " ('Ethiopian Airlines', 'ethiopian-airlines'),\n",
       " ('Etihad Airways', 'etihad-airways'),\n",
       " ('Eurowings', 'eurowings'),\n",
       " ('EVA Air', 'eva-air'),\n",
       " ('fastjet', 'fastjet'),\n",
       " ('Fiji Airways', 'fiji-airways'),\n",
       " ('Finnair', 'finnair'),\n",
       " ('Flair Airlines', 'flair-airlines'),\n",
       " ('Flyadeal', 'flyadeal'),\n",
       " ('flydubai', 'flydubai'),\n",
       " ('flynas', 'flynas'),\n",
       " ('FlyOne', 'flyone'),\n",
       " ('FlySafair', 'flysafair'),\n",
       " ('French Bee', 'french-bee'),\n",
       " ('Frontier Airlines', 'frontier-airlines'),\n",
       " ('Fuzhou Airlines', 'fuzhou-airlines'),\n",
       " ('Garuda Indonesia', 'garuda-indonesia'),\n",
       " ('GoAir', 'goair'),\n",
       " ('GOL Airlines', 'gol-airlines'),\n",
       " ('Gulf Air', 'gulf-air'),\n",
       " ('GX Airlines (Beibu Gulf\\xa0Air)', 'gx-airlines'),\n",
       " ('Hainan Airlines', 'hainan-airlines'),\n",
       " ('Hawaiian Airlines', 'hawaiian-airlines'),\n",
       " ('Hebei Airlines', 'hebei-airlines'),\n",
       " ('Hong Kong Airlines', 'hong-kong-airlines'),\n",
       " ('HK Express', 'hk-express'),\n",
       " ('Iberia', 'iberia'),\n",
       " ('Icelandair', 'icelandair'),\n",
       " ('IndiGo', 'indigo'),\n",
       " ('Interjet', 'interjet'),\n",
       " ('ITA Airways', 'ita-airways'),\n",
       " ('Jazeera Airways', 'jazeera-airways'),\n",
       " ('Jeju Air', 'jeju-air'),\n",
       " ('Jet2.com', 'jet2-com'),\n",
       " ('JetBlue Airways', 'jetblue-airways'),\n",
       " ('Jetstar Airways', 'jetstar-airways'),\n",
       " ('Jetstar Asia Airways', 'jetstar-asia-airways'),\n",
       " ('Jiangxi Airlines', 'jiangxi-air'),\n",
       " ('Jin Air', 'jin-air'),\n",
       " ('Juneyao Airlines', 'juneyao-airlines'),\n",
       " ('Kenya Airways', 'kenya-airways'),\n",
       " ('KLM Royal Dutch Airlines', 'klm-royal-dutch-airlines'),\n",
       " ('Korean Air', 'korean-air'),\n",
       " ('Kulula', 'kulula'),\n",
       " ('Kunming Airlines', 'kunming-airlines'),\n",
       " ('Kuwait Airways', 'kuwait-airways'),\n",
       " ('La Compagnie', 'la-compagnie'),\n",
       " ('LAM Mozambique Airlines', 'lam-mozambique-airlines'),\n",
       " ('Lao Airlines', 'lao-airlines'),\n",
       " ('LATAM Airlines', 'latam-airlines'),\n",
       " ('Lion Air', 'lion-air'),\n",
       " ('LOT Polish Airlines', 'lot-polish-airlines'),\n",
       " ('Loong Air', 'loong-air'),\n",
       " ('Lucky Air', 'lucky-air'),\n",
       " ('Lufthansa', 'lufthansa'),\n",
       " ('Luxair', 'luxair'),\n",
       " ('Malaysia Airlines', 'malaysia-airlines'),\n",
       " ('Malindo Air', 'malindo-air'),\n",
       " ('Mandarin Airlines', 'mandarin-airlines'),\n",
       " ('Mango', 'mango-airlines'),\n",
       " ('MIAT Mongolian Airlines', 'miat-mongolian-airlines'),\n",
       " ('Middle East Airlines', 'middle-east-airlines'),\n",
       " ('Myanmar Airways International', 'myanmar-airways-international'),\n",
       " ('Myanmar National Airlines', 'myanmar-national-airlines'),\n",
       " ('Nile Air', 'nile-air'),\n",
       " ('Nok Air', 'nok-air'),\n",
       " ('Norwegian', 'norwegian'),\n",
       " ('Nouvelair', 'nouvelair'),\n",
       " ('Okay Airways', 'okay-airways'),\n",
       " ('Oman Air', 'oman-air'),\n",
       " ('Onur Air', 'onur-air'),\n",
       " ('Peach Aviation', 'peach-aviation'),\n",
       " ('Pegasus Airlines', 'pegasus-airlines'),\n",
       " ('Philippine Airlines', 'philippine-airlines'),\n",
       " ('PIA Pakistan International Airlines',\n",
       "  'pia-pakistan-international-airlines'),\n",
       " ('Porter Airlines', 'porter-airlines'),\n",
       " ('Qantas Airways', 'qantas'),\n",
       " ('Qatar Airways', 'qatar-airways'),\n",
       " ('Qingdao Airlines', 'qingdao-airlines'),\n",
       " ('Royal Air Maroc', 'royal-air-maroc'),\n",
       " ('Royal Brunei Airlines', 'royal-brunei-airlines'),\n",
       " ('Royal Jordanian Airlines', 'royal-jordanian-airlines'),\n",
       " ('Ruili Airlines', 'ruili-airlines'),\n",
       " ('Rwandair', 'rwandair'),\n",
       " ('Ryanair', 'ryanair'),\n",
       " ('S7 Siberia Airlines', 's7-siberia-airlines'),\n",
       " ('SAS Scandinavian Airlines', 'sas-scandinavian-airlines'),\n",
       " ('SATA Azores Airlines', 'sata-azores-airlines'),\n",
       " ('Saudi Arabian Airlines', 'saudi-arabian-airlines'),\n",
       " ('Shandong Airlines', 'shandong-airlines'),\n",
       " ('Shenzhen Airlines', 'shenzhen-airlines'),\n",
       " ('Sichuan Airlines', 'sichuan-airlines'),\n",
       " ('SilkAir', 'silkair'),\n",
       " ('Silver Airways', 'silver-airways'),\n",
       " ('Singapore Airlines', 'singapore-airlines'),\n",
       " ('SKY Airline', 'sky-airline'),\n",
       " ('Skymark Airlines', 'skymark-airlines'),\n",
       " ('Solaseed Air', 'solaseed-air'),\n",
       " ('South African Airways', 'south-african-airways'),\n",
       " ('Southwest Airlines', 'southwest-airlines'),\n",
       " ('SpiceJet', 'spicejet'),\n",
       " ('Spirit Airlines', 'spirit-airlines'),\n",
       " ('Spring Airlines', 'spring-airlines'),\n",
       " ('SriLankan Airlines', 'srilankan-airlines'),\n",
       " ('Sriwijaya Air', 'sriwijaya-air'),\n",
       " ('Star Flyer', 'star-flyer'),\n",
       " ('Sun Country Airlines', 'sun-country-airlines'),\n",
       " ('SunExpress', 'sunexpress'),\n",
       " ('Sunwing Airlines', 'sunwing-airlines'),\n",
       " ('Swiss International Air Lines', 'swiss-international-air-lines'),\n",
       " ('Swoop', 'swoop'),\n",
       " ('TAP Portugal', 'tap-air-portugal'),\n",
       " ('TAROM', 'tarom'),\n",
       " ('Thai Airways', 'thai-airways'),\n",
       " ('Tianjin Airlines', 'tianjin-airlines'),\n",
       " ('Transavia', 'transavia'),\n",
       " ('TUI Airways', 'tui-airways'),\n",
       " ('Tunisair', 'tunisair'),\n",
       " ('Turkish Airlines', 'turkish-airlines'),\n",
       " (\"T'way Air\", 'tway-air'),\n",
       " ('United Airlines', 'united-airlines'),\n",
       " ('Ural Airlines', 'ural-airlines'),\n",
       " ('Urumqi Air', 'urumqi-air'),\n",
       " ('VietJet Air', 'vietjet-air'),\n",
       " ('Vietnam Airlines', 'vietnam-airlines'),\n",
       " ('Virgin Atlantic', 'virgin-atlantic'),\n",
       " ('Virgin Australia', 'virgin-australia'),\n",
       " ('Vistara', 'vistara'),\n",
       " ('Viva Aerobus', 'viva-aerobus'),\n",
       " ('Viva Air', 'viva-air'),\n",
       " ('Volaris', 'volaris'),\n",
       " ('Volotea', 'volotea'),\n",
       " ('Vueling Airlines', 'vueling-airlines'),\n",
       " ('West Air', 'west-air'),\n",
       " ('WestJet Airlines', 'westjet-airlines'),\n",
       " ('Wizz Air', 'wizz-air'),\n",
       " ('Xiamen Airlines', 'xiamen-airlines')]"
      ]
     },
     "execution_count": 23,
     "metadata": {},
     "output_type": "execute_result"
    }
   ],
   "source": [
    "airlines"
   ]
  },
  {
   "cell_type": "code",
   "execution_count": 3,
   "id": "db63298a",
   "metadata": {},
   "outputs": [],
   "source": [
    "from eleven.skytrax import SkyTraxParser\n",
    "from eleven.scraper import Scraper"
   ]
  },
  {
   "cell_type": "code",
   "execution_count": 4,
   "id": "9c5b2ac6",
   "metadata": {},
   "outputs": [
    {
     "name": "stderr",
     "output_type": "stream",
     "text": [
      "\n",
      "\n",
      "====== WebDriver manager ======\n",
      "Current google-chrome version is 98.0.4758\n",
      "Get LATEST chromedriver version for 98.0.4758 google-chrome\n",
      "Driver [/Users/tgdn/.wdm/drivers/chromedriver/mac64/98.0.4758.80/chromedriver] found in cache\n"
     ]
    }
   ],
   "source": [
    "s = Scraper()\n",
    "st = SkyTraxParser(s)"
   ]
  },
  {
   "cell_type": "code",
   "execution_count": 6,
   "id": "09376a2b",
   "metadata": {},
   "outputs": [
    {
     "data": {
      "text/plain": [
       "[{'author_review_count': 0,\n",
       "  'rating': 0.7,\n",
       "  'title': '\"Very comfortable flat seats\"',\n",
       "  'date': '2020-01-31',\n",
       "  'location': 'United Kingdom',\n",
       "  'body': 'Very comfortable flat seats, and a great lounge in Rome. During the trip lots of passengers from economy plus and economy walked in to our cabin and used the facilities and even seats! There has to be more checking.',\n",
       "  'Seat Type': 'Business Class',\n",
       "  'Aircraft Type': 'Boeing 777',\n",
       "  'Seat Layout': '2x2x2',\n",
       "  'Date Flown': 'January 2020',\n",
       "  'Type Of Traveller': 'Business',\n",
       "  'Sleep Comfort': 1.0,\n",
       "  'Sitting Comfort': 1.0,\n",
       "  'Seat/bed Width': 1.0,\n",
       "  'Seat/bed Length': 1.0,\n",
       "  'Seat Privacy': 0.6,\n",
       "  'Power Supply': 1.0,\n",
       "  'Seat Storage': 0.6,\n",
       "  'Recommended': True},\n",
       " {'author_review_count': 0,\n",
       "  'rating': 0.3,\n",
       "  'title': '\"legroom is absolutely horrible\"',\n",
       "  'date': '2019-10-09',\n",
       "  'location': 'Netherlands',\n",
       "  'body': 'Palermo from Amsterdam via Milan in A319s. The legroom on these planes is absolutely horrible. Your knees hurt pretty soon after sitting down. Only when there is no one in the seat next to you can get some diagonal legroom. I actually could not even lower the tray table because my legs were in the way. I am not even 1.90m. Must be even worse for people taller than me.',\n",
       "  'Seat Type': 'Economy Class',\n",
       "  'Aircraft Type': 'A319',\n",
       "  'Seat Layout': '3x3',\n",
       "  'Date Flown': 'October 2019',\n",
       "  'Type Of Traveller': 'Business',\n",
       "  'Seat Legroom': 0.2,\n",
       "  'Seat Recline': 0.2,\n",
       "  'Seat Width': 0.6,\n",
       "  'Aisle Space': 0.4,\n",
       "  'Seat Storage': 0.4,\n",
       "  'Recommended': 'no'},\n",
       " {'author_review_count': 0,\n",
       "  'rating': 0.1,\n",
       "  'title': '\"Worst legroom experienced\"',\n",
       "  'date': '2019-06-17',\n",
       "  'location': 'United Kingdom',\n",
       "  'body': 'Worst legroom ever experienced. Apparently the seats offer 30 inches seat pitch- I don’t think so. Incredibly uncomfortable. I am less than 6 foot and my knees were hard pressed against the seat in front. My partner is 6 foot 2 and had to angle his legs outwards to be able to sit down. Will not fly with this airline again.',\n",
       "  'Seat Type': 'Economy Class',\n",
       "  'Aircraft Type': 'A319',\n",
       "  'Seat Layout': '3x3',\n",
       "  'Date Flown': 'June 2019',\n",
       "  'Type Of Traveller': 'Couple Leisure',\n",
       "  'Seat Legroom': 0.2,\n",
       "  'Seat Recline': 0.2,\n",
       "  'Seat Width': 0.4,\n",
       "  'Aisle Space': 0.2,\n",
       "  'Seat Storage': 0.2,\n",
       "  'Recommended': 'no'},\n",
       " {'author_review_count': 0,\n",
       "  'rating': 0.1,\n",
       "  'title': '\"Broken seats and headrests\"',\n",
       "  'date': '2019-01-11',\n",
       "  'location': 'Italy',\n",
       "  'body': \"Horrible airline. Old Boeing 777-200 ER aircraft with only the premium and business class seats slightly refurbished. Broken seats and headrests which made sleeping extremely difficult. Food was okay but Alitalia has an abysmal entertainment system which has copyright logos from 2001. Very old, tiny, and low quality screen which will damage your eyes. When the person in front reclined their seat, the screen was so dim, that I could not see anything on my screen. The plane also has huge entertainment boxes in 4 seats in each (3-4-3) row which take up 60% of the leg room. No charging ports in economy. Moreover, on my way to Mexico, I experienced a 2h50min delay. Very cheeky from the airline knowing that customer compensation rights start after the 3h mark. Even though we boarded within the delay period, we plane was not rolled out of the gate for another 40min. Yet I cannot receive my compensation. Italian national airline, Italian airport, what can you do. Avoid this airline at all costs even if it means you'll need to give up a direct connection.\",\n",
       "  'Seat Type': 'Economy Class',\n",
       "  'Aircraft Type': 'Boeing 777-200 ER',\n",
       "  'Seat Layout': '3x4x3',\n",
       "  'Date Flown': 'January 2019',\n",
       "  'Type Of Traveller': 'Solo Leisure',\n",
       "  'Seat Legroom': 0.4,\n",
       "  'Seat Recline': 0.2,\n",
       "  'Seat Width': 0.4,\n",
       "  'Aisle Space': 0.2,\n",
       "  'Viewing Tv Screen': 0.2,\n",
       "  'Seat Storage': 0.2,\n",
       "  'Recommended': 'no'},\n",
       " {'author_review_count': 1,\n",
       "  'rating': 0.6,\n",
       "  'title': '\"didn\\'t have lots of legroom\"',\n",
       "  'date': '2018-11-18',\n",
       "  'location': 'Brazil',\n",
       "  'body': \"Seat 22L was ok. It didn't have lots of legroom, but it was in good condition although the A330 wasn't brand new. Entertainment system was very good, with good screen size and variety of programs.\",\n",
       "  'Seat Type': 'Economy Class',\n",
       "  'Aircraft Type': 'A330',\n",
       "  'Seat Layout': '2x4x2',\n",
       "  'Date Flown': 'November 2018',\n",
       "  'Type Of Traveller': 'Business',\n",
       "  'Seat Legroom': 0.4,\n",
       "  'Seat Recline': 0.6,\n",
       "  'Seat Width': 0.6,\n",
       "  'Aisle Space': 0.6,\n",
       "  'Viewing Tv Screen': 0.8,\n",
       "  'Power Supply': 1.0,\n",
       "  'Seat Storage': 0.6,\n",
       "  'Recommended': 'no'},\n",
       " {'author_review_count': 0,\n",
       "  'rating': 0.4,\n",
       "  'title': '\"the seats were spacious\"',\n",
       "  'date': '2018-11-05',\n",
       "  'location': 'Brazil',\n",
       "  'body': 'The Boeing 777-200 was not new, but the seats were spacious. Hard cushion, very hard, but spacious. Old entertainment system with very small screen and no usb port to charge personal devices.',\n",
       "  'Seat Type': 'Economy Class',\n",
       "  'Aircraft Type': 'Boeing 777-200',\n",
       "  'Seat Layout': '3x4x3',\n",
       "  'Date Flown': 'November 2018',\n",
       "  'Type Of Traveller': 'Business',\n",
       "  'Seat Legroom': 0.8,\n",
       "  'Seat Recline': 0.6,\n",
       "  'Seat Width': 0.6,\n",
       "  'Aisle Space': 0.6,\n",
       "  'Viewing Tv Screen': 0.2,\n",
       "  'Seat Storage': 0.6,\n",
       "  'Recommended': 'no'},\n",
       " {'author_review_count': 0,\n",
       "  'rating': 0.2,\n",
       "  'title': '\"the worst legroom\"',\n",
       "  'date': '2018-04-30',\n",
       "  'location': 'Netherlands',\n",
       "  'body': \"My flight leg from Paris to Rome was the worst with respect to legroom I've ever had (despite the fact that I have flown with Spirit before). I'm 192cm tall, and I had no position where my legs would fit, even when sitting completely upright. I ended up having my knee up against the seat in front of me with my foot dangling in the air for a good part of the flight. Otherwise the seats were fairly comfortable. The seat backs had holes in them where there seemed to have been a screen at some point, maybe Alitalia has bought it used?\",\n",
       "  'Seat Type': 'Economy Class',\n",
       "  'Aircraft Type': 'A320',\n",
       "  'Seat Layout': '3x3',\n",
       "  'Date Flown': 'April 2018',\n",
       "  'Type Of Traveller': 'Business',\n",
       "  'Seat Legroom': 0.2,\n",
       "  'Seat Recline': 0.2,\n",
       "  'Seat Width': 0.6,\n",
       "  'Aisle Space': 0.6,\n",
       "  'Seat Storage': 0.2,\n",
       "  'Recommended': 'no'},\n",
       " {'author_review_count': 0,\n",
       "  'rating': 0.1,\n",
       "  'title': '\"Worst legroom experienced\"',\n",
       "  'date': '2018-04-13',\n",
       "  'location': 'Switzerland',\n",
       "  'body': \"Worst legroom I have experienced. I am average height 184 ~ 6'1, and my knees do not fit behind the seat in front of me. Not sure how this would work if the middle seat were occupied. Otherwise, everything is pretty standard. The flight from Zurich to Rome was fine, but this return leg is a joke.\",\n",
       "  'Seat Type': 'Economy Class',\n",
       "  'Aircraft Type': 'A320',\n",
       "  'Seat Layout': '3x3',\n",
       "  'Date Flown': 'April 2018',\n",
       "  'Type Of Traveller': 'Solo Leisure',\n",
       "  'Seat Legroom': 0.2,\n",
       "  'Seat Recline': 0.6,\n",
       "  'Seat Width': 0.6,\n",
       "  'Aisle Space': 0.2,\n",
       "  'Seat Storage': 0.6,\n",
       "  'Recommended': 'no'},\n",
       " {'author_review_count': 0,\n",
       "  'rating': 1.0,\n",
       "  'title': '\"I found the seat comfortable\"',\n",
       "  'date': '2018-01-28',\n",
       "  'location': 'Italy',\n",
       "  'body': \"Despite I'm tall I found the seat comfortable with enough space for legs, width and support for head. Pillow was comfortable. The entertainment had very wide choice of multilingual films and games for adults and children. I will definitely fly again with this company.\",\n",
       "  'Seat Type': 'Economy Class',\n",
       "  'Aircraft Type': 'A330',\n",
       "  'Seat Layout': '2x4x2',\n",
       "  'Date Flown': 'January 2018',\n",
       "  'Type Of Traveller': 'Couple Leisure',\n",
       "  'Seat Legroom': 0.8,\n",
       "  'Seat Recline': 1.0,\n",
       "  'Seat Width': 1.0,\n",
       "  'Aisle Space': 1.0,\n",
       "  'Viewing Tv Screen': 1.0,\n",
       "  'Seat Storage': 1.0,\n",
       "  'Recommended': True},\n",
       " {'author_review_count': 0,\n",
       "  'rating': 0.1,\n",
       "  'title': '\"seats are very small\"',\n",
       "  'date': '2017-12-24',\n",
       "  'location': 'Denmark',\n",
       "  'body': 'The Boeing 777 is very old, seats are very small. There is no place for my luggage in the overhead lockers- for an 11 hours flight-having my hand luggage under the seat in front of me feels bad. The head cushions of the seats are very hard and make my neck stay unnaturally twisted to the front. The screen of the entertaining system is max 7 inches etc.',\n",
       "  'Seat Type': 'Economy Class',\n",
       "  'Aircraft Type': 'Boeing 777',\n",
       "  'Seat Layout': '3x4x3',\n",
       "  'Date Flown': 'December 2017',\n",
       "  'Type Of Traveller': 'Couple Leisure',\n",
       "  'Seat Legroom': 0.2,\n",
       "  'Seat Recline': 0.2,\n",
       "  'Seat Width': 0.2,\n",
       "  'Aisle Space': 0.2,\n",
       "  'Viewing Tv Screen': 0.2,\n",
       "  'Seat Storage': 0.2,\n",
       "  'Recommended': 'no'},\n",
       " {'author_review_count': 0,\n",
       "  'rating': 0.1,\n",
       "  'title': '\"smallest space I have seen\"',\n",
       "  'date': '2017-12-16',\n",
       "  'location': 'Belgium',\n",
       "  'body': 'There is no legroom at all for persons above 175 cm and the pocket for the magazines is extending into this inexistent leg space making it difficult to place the legs in such a way as not to rub your knees all the time on the rough netting of the pocket. This is the smallest space I have seen.',\n",
       "  'Seat Type': 'Economy Class',\n",
       "  'Aircraft Type': 'A320',\n",
       "  'Seat Layout': '3x3',\n",
       "  'Date Flown': 'December 2017',\n",
       "  'Type Of Traveller': 'Solo Leisure',\n",
       "  'Seat Legroom': 0.2,\n",
       "  'Seat Recline': 0.6,\n",
       "  'Seat Width': 0.6,\n",
       "  'Aisle Space': 0.8,\n",
       "  'Seat Storage': 0.8,\n",
       "  'Recommended': 'no'},\n",
       " {'author_review_count': 4,\n",
       "  'rating': 0.6,\n",
       "  'title': '\"blocked for middle seat\"',\n",
       "  'date': '2017-09-16',\n",
       "  'location': 'Indonesia',\n",
       "  'body': \"It was Business Class but I'm not sure with the seat because it's same with seat configuration of Economy Class with blocked for middle seat. No Personal TV Screen and without Power Supply. For short Flight, maybe it's enough but it's too far from my expectation for Business Class Seat.\",\n",
       "  'Seat Type': 'Premium Economy',\n",
       "  'Aircraft Type': 'A321',\n",
       "  'Seat Layout': '2x2',\n",
       "  'Date Flown': 'September 2017',\n",
       "  'Type Of Traveller': 'Solo Leisure',\n",
       "  'Seat Legroom': 0.6,\n",
       "  'Seat Recline': 0.6,\n",
       "  'Seat Width': 0.6,\n",
       "  'Aisle Space': 0.6,\n",
       "  'Seat Storage': 0.6,\n",
       "  'Recommended': True},\n",
       " {'author_review_count': 0,\n",
       "  'rating': 0.1,\n",
       "  'title': '\"Cruel and unusual punishment\"',\n",
       "  'date': '2017-07-20',\n",
       "  'location': 'United States',\n",
       "  'body': \"Just when you thought legroom couldn't get any worse, Alitalia comes through for taking the prize for the most preposterous amount of legroom. I literally have to twist sideways to fit in my economy seat. Cruel and unusual punishment. How can a country that can make such good pasta and coffee, and otherwise have such wonderful hospitality, have seats this close together? Avoid!\",\n",
       "  'Seat Type': 'Economy Class',\n",
       "  'Aircraft Type': 'A319',\n",
       "  'Seat Layout': '3x3',\n",
       "  'Date Flown': 'July 2017',\n",
       "  'Type Of Traveller': 'Business',\n",
       "  'Seat Legroom': 0.2,\n",
       "  'Seat Recline': 0.2,\n",
       "  'Seat Width': 0.2,\n",
       "  'Aisle Space': 0.2,\n",
       "  'Viewing Tv Screen': 0.2,\n",
       "  'Power Supply': 0.2,\n",
       "  'Seat Storage': 0.4,\n",
       "  'Recommended': 'no'},\n",
       " {'author_review_count': 0,\n",
       "  'rating': 0.1,\n",
       "  'title': '\"has reduced the space\"',\n",
       "  'date': '2017-07-04',\n",
       "  'location': 'Italy',\n",
       "  'body': 'Alitalia has increased the number of seats and consequently has reduced the space between a seat and the front seat. As a result, people with height over 180cm (I have a height of 192cm) when they can sit down, are literally stuck. With consequent risks also for personal safety. Under these conditions, a flight lasting more than an hour is a real torture!',\n",
       "  'Seat Type': 'Economy Class',\n",
       "  'Aircraft Type': 'A321',\n",
       "  'Seat Layout': '3x3',\n",
       "  'Date Flown': 'March 2017',\n",
       "  'Type Of Traveller': 'Couple Leisure',\n",
       "  'Seat Legroom': 0.2,\n",
       "  'Seat Recline': 0.2,\n",
       "  'Seat Width': 0.2,\n",
       "  'Aisle Space': 0.2,\n",
       "  'Seat Storage': 0.2,\n",
       "  'Recommended': 'no'},\n",
       " {'author_review_count': 0,\n",
       "  'rating': 0.6,\n",
       "  'title': '\"seats comfortable enough\"',\n",
       "  'date': '2016-11-14',\n",
       "  'location': 'United States',\n",
       "  'body': 'Seat width was fine, nothing great but nothing terrible. The seats were refreshed, and were comfortable enough for a ten hour flight. The IFE (In-Flight Entertainment) was not responsive, but once you put a movie on it worked well. Legroom was exceptional, better than previous experiences. Seats had outlets. The seat was pretty much a standard econcomy class seat on a mediocre airline, so expect satisfactory amenties at best.',\n",
       "  'Seat Type': 'Economy Class',\n",
       "  'Aircraft Type': 'A330-200',\n",
       "  'Seat Layout': '2x4x2',\n",
       "  'Date Flown': 'August 2016',\n",
       "  'Type Of Traveller': 'Family Leisure',\n",
       "  'Seat Legroom': 0.8,\n",
       "  'Seat Recline': 0.6,\n",
       "  'Seat Width': 0.6,\n",
       "  'Aisle Space': 0.6,\n",
       "  'Viewing Tv Screen': 0.6,\n",
       "  'Power Supply': 0.6,\n",
       "  'Seat Storage': 0.6,\n",
       "  'Recommended': True},\n",
       " {'author_review_count': 0,\n",
       "  'rating': 0.2,\n",
       "  'title': '\"seats extremely uncomfortable\"',\n",
       "  'date': '2016-09-12',\n",
       "  'location': 'Italy',\n",
       "  'body': \"All seats on this flight are extremely uncomfortable. Very hard seal in the bottom part and in the backrest part. In the upper level of the seat backrest, the seat is very very hard and there is like a protuberance that hurt your back.  Legroom in my seat was very good (no seat in front) but generally for other seats on this aircraft it's Entertainment system is obsolete, very old and small screen, often video become black screen during vision of the movie (to restore I had to pause and restart the movie), control is old and not working very well. no power supply to charge mobile or PC.\",\n",
       "  'Seat Type': 'Economy Class',\n",
       "  'Aircraft Type': 'Boeing 777-200',\n",
       "  'Seat Layout': '3x4x3',\n",
       "  'Date Flown': 'September 2016',\n",
       "  'Type Of Traveller': 'Business',\n",
       "  'Seat Legroom': 0.2,\n",
       "  'Seat Recline': 0.2,\n",
       "  'Seat Width': 0.2,\n",
       "  'Aisle Space': 0.2,\n",
       "  'Viewing Tv Screen': 0.2,\n",
       "  'Seat Storage': 0.8,\n",
       "  'Recommended': 'no'},\n",
       " {'author_review_count': 0,\n",
       "  'rating': 0.1,\n",
       "  'title': '\"incredible discomfort of the headrest\"',\n",
       "  'date': '2016-08-22',\n",
       "  'location': 'United States',\n",
       "  'body': 'This is the only non stop between Los Angeles and Rome which is a great advantage. On all of the recent four flights I have taken, not one time have I been able to make the entertainment system work and the staff is not wonderful about helping. The other issue is the incredible discomfort of the headrest of the seat. For me and everyone else I have spoken to, it pushes the head forward and down which is a very uncomfortable position to sit in for 13 hours. The seat recline is adequate, but of course the person behind you is greatly impacted.',\n",
       "  'Seat Type': 'Economy Class',\n",
       "  'Aircraft Type': 'Boeing 777-200',\n",
       "  'Seat Layout': '3x4x3',\n",
       "  'Date Flown': 'August 2016',\n",
       "  'Type Of Traveller': 'Family Leisure',\n",
       "  'Seat Legroom': 0.4,\n",
       "  'Seat Recline': 0.4,\n",
       "  'Seat Width': 0.4,\n",
       "  'Aisle Space': 0.2,\n",
       "  'Seat Storage': 0.6,\n",
       "  'Recommended': 'no'},\n",
       " {'author_review_count': 0,\n",
       "  'rating': 0.2,\n",
       "  'title': '\"Very uncomfortable seat\"',\n",
       "  'date': '2016-07-17',\n",
       "  'location': 'Argentina',\n",
       "  'body': \"Very uncomfortable seat! Minimal reclining backrest of the seat and very hard seat. No support for feet during 13 hours flight Buenos Aires to Rome. Main course inedible and breakfast shameful! A paper box like Mc Donalds for kids, with a artificial juice ad candy, that's it. Disgusting. No bread nothing. The flight arrives to Rome at 5.50 a.m. You're supposed to disembark on the tarmac,in the middle of nowhere, no finger connecting to the building.\",\n",
       "  'Seat Type': 'Premium Economy',\n",
       "  'Aircraft Type': 'Boeing 777',\n",
       "  'Seat Layout': '2x4x2',\n",
       "  'Date Flown': 'May 2016',\n",
       "  'Type Of Traveller': 'Business',\n",
       "  'Seat Legroom': 0.2,\n",
       "  'Seat Recline': 0.2,\n",
       "  'Seat Width': 0.2,\n",
       "  'Aisle Space': 0.2,\n",
       "  'Viewing Tv Screen': 0.6,\n",
       "  'Power Supply': 0.2,\n",
       "  'Seat Storage': 0.2,\n",
       "  'Recommended': 'no'},\n",
       " {'author_review_count': 1,\n",
       "  'rating': 0.7,\n",
       "  'title': '\"legroom is pretty poor\"',\n",
       "  'date': '2016-05-01',\n",
       "  'location': 'United Kingdom',\n",
       "  'body': 'The most notable setback is how outdated the Boeing 777-200ER cabin is, however I am not bothered by cabin design. The legroom is pretty poor and if you pick a window seat it is very likely you will have a box blocking your legs (not the best when you are flying for 13 hours). The entertainment system is outdated also but the selection is alright. The food served was no worse or no better than other airlines but once the cabin crew had reached us there was no option but eat this meal or nothing at all. Despite the quite poor-mediocre review I still rate 7 as for what you pay it is certainly worth it and there was nothing wrong with the flight.',\n",
       "  'Seat Type': 'Economy Class',\n",
       "  'Aircraft Type': 'Boeing 777-200ER',\n",
       "  'Seat Layout': '3x4x3',\n",
       "  'Date Flown': 'January 2016',\n",
       "  'Type Of Traveller': 'Couple Leisure',\n",
       "  'Seat Legroom': 0.4,\n",
       "  'Seat Recline': 0.6,\n",
       "  'Seat Width': 0.6,\n",
       "  'Aisle Space': 0.6,\n",
       "  'Viewing Tv Screen': 0.6,\n",
       "  'Power Supply': 0.6,\n",
       "  'Seat Storage': 0.4,\n",
       "  'Recommended': True},\n",
       " {'author_review_count': 0,\n",
       "  'rating': 0.5,\n",
       "  'title': '\"uncomfortable very difficult resting\"',\n",
       "  'date': '2015-09-22',\n",
       "  'location': 'Argentina',\n",
       "  'body': \"Buenos Aires - Rome on Boeing 777 with Alitalia premium economy. Seats uncomfortable very difficult resting and sleeping. No entertainment system working on the plane! Food was an economy product. If the difference with economy in money is big I wouldn't pay. There is not to much space than economy with the front seat. As it is a shell seat it slides it does not recline and it is very hard it does not have padding or it have been used so much it worn out.\",\n",
       "  'Seat Type': 'Premium Economy',\n",
       "  'Aircraft Type': 'Boeing 777',\n",
       "  'Seat Layout': '2x4x2',\n",
       "  'Date Flown': 'November 2014',\n",
       "  'Type Of Traveller': 'Solo Leisure',\n",
       "  'Seat Legroom': 0.2,\n",
       "  'Seat Recline': 0.2,\n",
       "  'Seat Width': 0.2,\n",
       "  'Aisle Space': 0.2,\n",
       "  'Viewing Tv Screen': 0.2,\n",
       "  'Power Supply': 0.2,\n",
       "  'Seat Storage': 0.2,\n",
       "  'Recommended': 'no'},\n",
       " {'author_review_count': 0,\n",
       "  'rating': 0.2,\n",
       "  'title': '\"very narrow seat\"',\n",
       "  'date': '2014-11-19',\n",
       "  'location': 'United States',\n",
       "  'body': 'Very narrow seat. every time a FA pass by you will be bumped. Very difficult to get in/out when the one in front is reclined (and of course it will) . The IFE screen is small and very low contrast.',\n",
       "  'Seat Type': 'Economy Class',\n",
       "  'Aircraft Type': 'BOEING 777-200',\n",
       "  'Seat Layout': '3x4x3',\n",
       "  'Seat Legroom': 0.4,\n",
       "  'Seat Recline': 0.6,\n",
       "  'Seat Width': 0.2,\n",
       "  'Aisle Space': 0.2,\n",
       "  'Viewing Tv Screen': 0.4,\n",
       "  'Recommended': 'no'},\n",
       " {'author_review_count': 0,\n",
       "  'rating': 0.4,\n",
       "  'title': '\"seats were filthy stained\"',\n",
       "  'date': '2014-11-19',\n",
       "  'location': 'Canada',\n",
       "  'body': 'Toronto to Rome and back. Same Aircraft on both flights. The aircraft appeared old it did not have the Italian colours but the tail was blue with a design I did not recognize. The seats were filthy stained and with the cover of the back coming unglued. My tray at least was unsteady and it seemed on the verge of detaching from the supporting system. The leg room was sufficient for my height and body type (I am 5\\'8\" and 170 lbs) but for anyone taller or heavier it would be extremely uncomfortable. The overhead monitor did not work and neither did the sound system. The food its not worth the comment. I think the president of this Airline should definitely consider another line of work.',\n",
       "  'Seat Type': 'Economy Class',\n",
       "  'Aircraft Type': 'AIRBUS A330',\n",
       "  'Seat Layout': '2x4x2',\n",
       "  'Seat Legroom': 0.4,\n",
       "  'Seat Recline': 0.2,\n",
       "  'Seat Width': 0.6,\n",
       "  'Aisle Space': 0.2,\n",
       "  'Viewing Tv Screen': 0.2,\n",
       "  'Recommended': 'no'},\n",
       " {'author_review_count': 0,\n",
       "  'rating': 0.4,\n",
       "  'title': '\"very old seats\"',\n",
       "  'date': '2014-08-02',\n",
       "  'location': 'Brazil',\n",
       "  'body': 'ORD-FCO. The flight is a \"seasonal\" flight and it appears that they do not use a \"regular\" plane on it. The various seat review sites said that the \"Classica\" Cabin in the two class version had new seats with IFE. Old very old seats with no cushion left in the cushioning and no in-seat back IFE. Rather we had a CRT every 10 rows (and ours was broken). This means that the Seat arms go up all the way and no boxes to block legroom. The bad - well seat back IFE is essentially \"the standard\" now. So I am of two minds. The leg room and fully disappearing arm rests are good. The old cushionless cushions very bad. The lack of seat back IFE that\\'s just unusual and very third world. So if you are taking a night flight the plane is not full and you don\\'t need to be entertained this is likely better than most of the coach across the Atlantic.',\n",
       "  'Seat Type': 'Economy Class',\n",
       "  'Aircraft Type': 'AIRBUS A330-200',\n",
       "  'Seat Layout': '2x4x2',\n",
       "  'Seat Legroom': 0.8,\n",
       "  'Seat Recline': 0.4,\n",
       "  'Seat Width': 0.4,\n",
       "  'Aisle Space': 0.2,\n",
       "  'Viewing Tv Screen': 0.2,\n",
       "  'Recommended': True},\n",
       " {'author_review_count': 0,\n",
       "  'rating': 0.3,\n",
       "  'title': '\"narrow seat\"',\n",
       "  'date': '2014-01-06',\n",
       "  'location': 'Brazil',\n",
       "  'body': 'Seat 20A. Narrow seat and has a big equipment box below the seat in front that really prevent any taller passenger to stretch his legs and try to sleep/rest.',\n",
       "  'Seat Type': 'Economy Class',\n",
       "  'Aircraft Type': 'BOEING 777-200',\n",
       "  'Seat Layout': '3x4x3',\n",
       "  'Seat Legroom': 0.4,\n",
       "  'Seat Recline': 0.6,\n",
       "  'Seat Width': 0.4,\n",
       "  'Aisle Space': 0.6,\n",
       "  'Viewing Tv Screen': 0.8,\n",
       "  'Recommended': 'no'},\n",
       " {'author_review_count': 0,\n",
       "  'rating': 0.1,\n",
       "  'title': '\"not enough leg room\"',\n",
       "  'date': '2009-03-03',\n",
       "  'location': 'Netherlands',\n",
       "  'body': \"Not enough leg room for somebody taller than 175 cm (5'10) specially when the passenger in front of you reclines his seat to the max. How to look at the screen is still a puzzle to me. I think you have to be under 160 cm (5'4) to have a decent view - if you are lucky the IFE works.\",\n",
       "  'Seat Type': 'Economy Class',\n",
       "  'Aircraft Type': 'B777',\n",
       "  'Seat Layout': '3x4x3',\n",
       "  'Seat Legroom': 0.2,\n",
       "  'Seat Recline': 0.2,\n",
       "  'Seat Width': 0.4,\n",
       "  'Aisle Space': 0.4,\n",
       "  'Viewing Tv Screen': 0.2,\n",
       "  'Recommended': 'no'}]"
      ]
     },
     "execution_count": 6,
     "metadata": {},
     "output_type": "execute_result"
    }
   ],
   "source": [
    "st.scrape_airline('alitalia')"
   ]
  },
  {
   "cell_type": "code",
   "execution_count": null,
   "id": "bc7109b6",
   "metadata": {},
   "outputs": [],
   "source": []
  }
 ],
 "metadata": {
  "kernelspec": {
   "display_name": "eleven",
   "language": "python",
   "name": "eleven"
  },
  "language_info": {
   "codemirror_mode": {
    "name": "ipython",
    "version": 3
   },
   "file_extension": ".py",
   "mimetype": "text/x-python",
   "name": "python",
   "nbconvert_exporter": "python",
   "pygments_lexer": "ipython3",
   "version": "3.9.7"
  }
 },
 "nbformat": 4,
 "nbformat_minor": 5
}
