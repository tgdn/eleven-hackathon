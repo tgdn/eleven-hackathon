{
 "cells": [
  {
   "cell_type": "code",
   "execution_count": 7,
   "id": "ba655e97",
   "metadata": {},
   "outputs": [],
   "source": [
    "import os\n",
    "from glob import glob\n",
    "\n",
    "import pandas as pd\n",
    "import numpy as np"
   ]
  },
  {
   "cell_type": "code",
   "execution_count": 11,
   "id": "52c4fb2e",
   "metadata": {},
   "outputs": [],
   "source": [
    "dfs = [pd.read_csv(pathname) for pathname in glob(os.path.join('data', '*.csv'))]"
   ]
  },
  {
   "cell_type": "code",
   "execution_count": 13,
   "id": "3c58fd34",
   "metadata": {},
   "outputs": [],
   "source": [
    "df = pd.concat(dfs, axis=0, ignore_index=True)"
   ]
  },
  {
   "cell_type": "code",
   "execution_count": 17,
   "id": "23cca168",
   "metadata": {},
   "outputs": [],
   "source": [
    "df.to_csv('skytrax.csv', index=False)"
   ]
  },
  {
   "cell_type": "code",
   "execution_count": null,
   "id": "8cafc430",
   "metadata": {},
   "outputs": [],
   "source": []
  }
 ],
 "metadata": {
  "kernelspec": {
   "display_name": "eleven",
   "language": "python",
   "name": "eleven"
  },
  "language_info": {
   "codemirror_mode": {
    "name": "ipython",
    "version": 3
   },
   "file_extension": ".py",
   "mimetype": "text/x-python",
   "name": "python",
   "nbconvert_exporter": "python",
   "pygments_lexer": "ipython3",
   "version": "3.9.7"
  }
 },
 "nbformat": 4,
 "nbformat_minor": 5
}
