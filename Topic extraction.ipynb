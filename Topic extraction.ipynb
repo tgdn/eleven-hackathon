{
 "cells": [
  {
   "cell_type": "code",
   "execution_count": null,
   "id": "9422a6eb",
   "metadata": {},
   "outputs": [],
   "source": [
    "import pandas as pd\n",
    "import numpy as np \n",
    "\n",
    "from sklearn.feature_extraction.text import CountVectorizer\n",
    "from sklearn.feature_extraction.text import TfidfVectorizer\n",
    "\n",
    "from sklearn.model_selection import GridSearchCV\n",
    "from sklearn.decomposition import LatentDirichletAllocation\n",
    "from sklearn.manifold import TSNE\n",
    "\n",
    "import pyLDAvis.sklearn"
   ]
  },
  {
   "cell_type": "code",
   "execution_count": 3,
   "id": "828e287b",
   "metadata": {},
   "outputs": [],
   "source": [
    "df = pd.read_csv(\"p_skytrax.csv\")"
   ]
  },
  {
   "cell_type": "code",
   "execution_count": 4,
   "id": "7af7e92a",
   "metadata": {},
   "outputs": [
    {
     "data": {
      "text/html": [
       "<div>\n",
       "<style scoped>\n",
       "    .dataframe tbody tr th:only-of-type {\n",
       "        vertical-align: middle;\n",
       "    }\n",
       "\n",
       "    .dataframe tbody tr th {\n",
       "        vertical-align: top;\n",
       "    }\n",
       "\n",
       "    .dataframe thead th {\n",
       "        text-align: right;\n",
       "    }\n",
       "</style>\n",
       "<table border=\"1\" class=\"dataframe\">\n",
       "  <thead>\n",
       "    <tr style=\"text-align: right;\">\n",
       "      <th></th>\n",
       "      <th>Unnamed: 0</th>\n",
       "      <th>author_review_count</th>\n",
       "      <th>rating</th>\n",
       "      <th>title</th>\n",
       "      <th>date</th>\n",
       "      <th>location</th>\n",
       "      <th>body</th>\n",
       "      <th>Seat Type</th>\n",
       "      <th>Aircraft Type</th>\n",
       "      <th>Seat Layout</th>\n",
       "      <th>...</th>\n",
       "      <th>airline_slug</th>\n",
       "      <th>airline</th>\n",
       "      <th>Viewing Tv Screen</th>\n",
       "      <th>Power Supply</th>\n",
       "      <th>Sleep Comfort</th>\n",
       "      <th>Sitting Comfort</th>\n",
       "      <th>Seat/bed Width</th>\n",
       "      <th>Seat/bed Length</th>\n",
       "      <th>Seat Privacy</th>\n",
       "      <th>cleaned_body</th>\n",
       "    </tr>\n",
       "  </thead>\n",
       "  <tbody>\n",
       "    <tr>\n",
       "      <th>0</th>\n",
       "      <td>0</td>\n",
       "      <td>0.0</td>\n",
       "      <td>0.3</td>\n",
       "      <td>\"seat was not comfortable\"</td>\n",
       "      <td>2019-07-22</td>\n",
       "      <td>Malaysia</td>\n",
       "      <td>With their newer A320 aircraft leg room is awf...</td>\n",
       "      <td>Economy Class</td>\n",
       "      <td>A320</td>\n",
       "      <td>3x3</td>\n",
       "      <td>...</td>\n",
       "      <td>airasia</td>\n",
       "      <td>AirAsia</td>\n",
       "      <td>NaN</td>\n",
       "      <td>NaN</td>\n",
       "      <td>NaN</td>\n",
       "      <td>NaN</td>\n",
       "      <td>NaN</td>\n",
       "      <td>NaN</td>\n",
       "      <td>NaN</td>\n",
       "      <td>newer aircraft leg room awful seat comfortable...</td>\n",
       "    </tr>\n",
       "    <tr>\n",
       "      <th>1</th>\n",
       "      <td>1</td>\n",
       "      <td>0.0</td>\n",
       "      <td>0.6</td>\n",
       "      <td>\"Check in was easy\"</td>\n",
       "      <td>2019-04-06</td>\n",
       "      <td>Australia</td>\n",
       "      <td>Check in was easy and boarding I was in zone o...</td>\n",
       "      <td>Economy Class</td>\n",
       "      <td>A320</td>\n",
       "      <td>3x3</td>\n",
       "      <td>...</td>\n",
       "      <td>airasia</td>\n",
       "      <td>AirAsia</td>\n",
       "      <td>NaN</td>\n",
       "      <td>NaN</td>\n",
       "      <td>NaN</td>\n",
       "      <td>NaN</td>\n",
       "      <td>NaN</td>\n",
       "      <td>NaN</td>\n",
       "      <td>NaN</td>\n",
       "      <td>check easy boarding zone think paid check kg l...</td>\n",
       "    </tr>\n",
       "    <tr>\n",
       "      <th>2</th>\n",
       "      <td>2</td>\n",
       "      <td>5.0</td>\n",
       "      <td>0.7</td>\n",
       "      <td>\"A solid experience\"</td>\n",
       "      <td>2019-04-01</td>\n",
       "      <td>Australia</td>\n",
       "      <td>A solid experience from start to finish, espec...</td>\n",
       "      <td>Economy Class</td>\n",
       "      <td>A320</td>\n",
       "      <td>3x3</td>\n",
       "      <td>...</td>\n",
       "      <td>airasia</td>\n",
       "      <td>AirAsia</td>\n",
       "      <td>NaN</td>\n",
       "      <td>NaN</td>\n",
       "      <td>NaN</td>\n",
       "      <td>NaN</td>\n",
       "      <td>NaN</td>\n",
       "      <td>NaN</td>\n",
       "      <td>NaN</td>\n",
       "      <td>solid experience start finish especially given...</td>\n",
       "    </tr>\n",
       "    <tr>\n",
       "      <th>3</th>\n",
       "      <td>3</td>\n",
       "      <td>0.0</td>\n",
       "      <td>0.1</td>\n",
       "      <td>\"my 4yr old and I allocated different seats\"</td>\n",
       "      <td>2018-01-14</td>\n",
       "      <td>Australia</td>\n",
       "      <td>I discovered upon boarding that my four-year-o...</td>\n",
       "      <td>Economy Class</td>\n",
       "      <td>A330-300</td>\n",
       "      <td>3x3x3</td>\n",
       "      <td>...</td>\n",
       "      <td>airasia</td>\n",
       "      <td>AirAsia</td>\n",
       "      <td>NaN</td>\n",
       "      <td>NaN</td>\n",
       "      <td>NaN</td>\n",
       "      <td>NaN</td>\n",
       "      <td>NaN</td>\n",
       "      <td>NaN</td>\n",
       "      <td>NaN</td>\n",
       "      <td>discovered upon boarding four year old allocat...</td>\n",
       "    </tr>\n",
       "    <tr>\n",
       "      <th>4</th>\n",
       "      <td>4</td>\n",
       "      <td>1.0</td>\n",
       "      <td>0.7</td>\n",
       "      <td>\"space between was relatively good\"</td>\n",
       "      <td>2017-08-24</td>\n",
       "      <td>Indonesia</td>\n",
       "      <td>I got 14A seat, near emergency exit door. So t...</td>\n",
       "      <td>Economy Class</td>\n",
       "      <td>A320</td>\n",
       "      <td>3x3</td>\n",
       "      <td>...</td>\n",
       "      <td>airasia</td>\n",
       "      <td>AirAsia</td>\n",
       "      <td>NaN</td>\n",
       "      <td>NaN</td>\n",
       "      <td>NaN</td>\n",
       "      <td>NaN</td>\n",
       "      <td>NaN</td>\n",
       "      <td>NaN</td>\n",
       "      <td>NaN</td>\n",
       "      <td>got seat near emergency exit different standar...</td>\n",
       "    </tr>\n",
       "  </tbody>\n",
       "</table>\n",
       "<p>5 rows × 28 columns</p>\n",
       "</div>"
      ],
      "text/plain": [
       "   Unnamed: 0  author_review_count  rating  \\\n",
       "0           0                  0.0     0.3   \n",
       "1           1                  0.0     0.6   \n",
       "2           2                  5.0     0.7   \n",
       "3           3                  0.0     0.1   \n",
       "4           4                  1.0     0.7   \n",
       "\n",
       "                                          title        date   location  \\\n",
       "0                    \"seat was not comfortable\"  2019-07-22   Malaysia   \n",
       "1                           \"Check in was easy\"  2019-04-06  Australia   \n",
       "2                          \"A solid experience\"  2019-04-01  Australia   \n",
       "3  \"my 4yr old and I allocated different seats\"  2018-01-14  Australia   \n",
       "4           \"space between was relatively good\"  2017-08-24  Indonesia   \n",
       "\n",
       "                                                body      Seat Type  \\\n",
       "0  With their newer A320 aircraft leg room is awf...  Economy Class   \n",
       "1  Check in was easy and boarding I was in zone o...  Economy Class   \n",
       "2  A solid experience from start to finish, espec...  Economy Class   \n",
       "3  I discovered upon boarding that my four-year-o...  Economy Class   \n",
       "4  I got 14A seat, near emergency exit door. So t...  Economy Class   \n",
       "\n",
       "  Aircraft Type Seat Layout  ... airline_slug  airline  Viewing Tv Screen  \\\n",
       "0          A320         3x3  ...      airasia  AirAsia                NaN   \n",
       "1          A320         3x3  ...      airasia  AirAsia                NaN   \n",
       "2          A320         3x3  ...      airasia  AirAsia                NaN   \n",
       "3      A330-300       3x3x3  ...      airasia  AirAsia                NaN   \n",
       "4          A320         3x3  ...      airasia  AirAsia                NaN   \n",
       "\n",
       "   Power Supply  Sleep Comfort  Sitting Comfort  Seat/bed Width  \\\n",
       "0           NaN            NaN              NaN             NaN   \n",
       "1           NaN            NaN              NaN             NaN   \n",
       "2           NaN            NaN              NaN             NaN   \n",
       "3           NaN            NaN              NaN             NaN   \n",
       "4           NaN            NaN              NaN             NaN   \n",
       "\n",
       "  Seat/bed Length Seat Privacy  \\\n",
       "0             NaN          NaN   \n",
       "1             NaN          NaN   \n",
       "2             NaN          NaN   \n",
       "3             NaN          NaN   \n",
       "4             NaN          NaN   \n",
       "\n",
       "                                        cleaned_body  \n",
       "0  newer aircraft leg room awful seat comfortable...  \n",
       "1  check easy boarding zone think paid check kg l...  \n",
       "2  solid experience start finish especially given...  \n",
       "3  discovered upon boarding four year old allocat...  \n",
       "4  got seat near emergency exit different standar...  \n",
       "\n",
       "[5 rows x 28 columns]"
      ]
     },
     "execution_count": 4,
     "metadata": {},
     "output_type": "execute_result"
    }
   ],
   "source": [
    "df.head()"
   ]
  },
  {
   "cell_type": "code",
   "execution_count": 7,
   "id": "62b5a6fe",
   "metadata": {},
   "outputs": [],
   "source": [
    "# Count Vectorizer\n",
    "vect = CountVectorizer()  \n",
    "vectors = vect.fit_transform(df.cleaned_body)"
   ]
  },
  {
   "cell_type": "code",
   "execution_count": 13,
   "id": "c78d4834",
   "metadata": {},
   "outputs": [
    {
     "name": "stdout",
     "output_type": "stream",
     "text": [
      "Fitting 5 folds for each of 3 candidates, totalling 15 fits\n",
      "[CV 1/5] END .................................n_components=2; total time=  49.4s\n",
      "[CV 2/5] END .................................n_components=2; total time=  57.4s\n",
      "[CV 3/5] END .................................n_components=2; total time=  36.2s\n",
      "[CV 4/5] END .................................n_components=2; total time=  55.8s\n",
      "[CV 5/5] END .................................n_components=2; total time=  59.3s\n",
      "[CV 1/5] END .................................n_components=4; total time=  40.3s\n",
      "[CV 2/5] END .................................n_components=4; total time=  36.6s\n",
      "[CV 3/5] END .................................n_components=4; total time=  46.8s\n",
      "[CV 4/5] END .................................n_components=4; total time=  45.7s\n",
      "[CV 5/5] END .................................n_components=4; total time=  56.0s\n",
      "[CV 1/5] END .................................n_components=6; total time=  41.0s\n",
      "[CV 2/5] END .................................n_components=6; total time=  45.7s\n",
      "[CV 3/5] END .................................n_components=6; total time=  38.8s\n",
      "[CV 4/5] END .................................n_components=6; total time=  33.1s\n",
      "[CV 5/5] END .................................n_components=6; total time=  32.3s\n",
      "Best LDA model's params {'n_components': 2}\n",
      "Best log likelihood Score for the LDA model -179934.286061876\n"
     ]
    },
    {
     "ename": "NameError",
     "evalue": "name 'document_term_matrix' is not defined",
     "output_type": "error",
     "traceback": [
      "\u001b[1;31m---------------------------------------------------------------------------\u001b[0m",
      "\u001b[1;31mNameError\u001b[0m                                 Traceback (most recent call last)",
      "\u001b[1;32m<ipython-input-13-a351a964cc90>\u001b[0m in \u001b[0;36m<module>\u001b[1;34m\u001b[0m\n\u001b[0;32m     12\u001b[0m \u001b[0mprint\u001b[0m\u001b[1;33m(\u001b[0m\u001b[1;34m\"Best LDA model's params\"\u001b[0m \u001b[1;33m,\u001b[0m \u001b[0mlda_model\u001b[0m\u001b[1;33m.\u001b[0m\u001b[0mbest_params_\u001b[0m\u001b[1;33m)\u001b[0m\u001b[1;33m\u001b[0m\u001b[1;33m\u001b[0m\u001b[0m\n\u001b[0;32m     13\u001b[0m \u001b[0mprint\u001b[0m\u001b[1;33m(\u001b[0m\u001b[1;34m\"Best log likelihood Score for the LDA model\"\u001b[0m\u001b[1;33m,\u001b[0m\u001b[0mlda_model\u001b[0m\u001b[1;33m.\u001b[0m\u001b[0mbest_score_\u001b[0m\u001b[1;33m)\u001b[0m\u001b[1;33m\u001b[0m\u001b[1;33m\u001b[0m\u001b[0m\n\u001b[1;32m---> 14\u001b[1;33m \u001b[0mprint\u001b[0m\u001b[1;33m(\u001b[0m\u001b[1;34m\"LDA model Perplexity on train data\"\u001b[0m\u001b[1;33m,\u001b[0m \u001b[0mlda_model1\u001b[0m\u001b[1;33m.\u001b[0m\u001b[0mperplexity\u001b[0m\u001b[1;33m(\u001b[0m\u001b[0mdocument_term_matrix\u001b[0m\u001b[1;33m)\u001b[0m\u001b[1;33m)\u001b[0m\u001b[1;33m\u001b[0m\u001b[1;33m\u001b[0m\u001b[0m\n\u001b[0m",
      "\u001b[1;31mNameError\u001b[0m: name 'document_term_matrix' is not defined"
     ]
    }
   ],
   "source": [
    "# Parameters tuning using Grid Search\n",
    "grid_params = {'n_components' : list(range(2,8,2))}\n",
    "# LDA model\n",
    "lda = LatentDirichletAllocation()\n",
    "lda_model = GridSearchCV(lda,param_grid=grid_params, verbose=3)\n",
    "lda_model.fit(vectors)\n",
    "# Estimators for LDA model\n",
    "lda_model1 = lda_model.best_estimator_\n"
   ]
  },
  {
   "cell_type": "code",
   "execution_count": 14,
   "id": "1bf9c0b2",
   "metadata": {},
   "outputs": [
    {
     "name": "stdout",
     "output_type": "stream",
     "text": [
      "Best LDA model's params {'n_components': 2}\n",
      "Best log likelihood Score for the LDA model -179934.286061876\n",
      "LDA model Perplexity on train data 1149.5330035965799\n"
     ]
    }
   ],
   "source": [
    "print(\"Best LDA model's params\" , lda_model.best_params_)\n",
    "print(\"Best log likelihood Score for the LDA model\",lda_model.best_score_)\n",
    "print(\"LDA model Perplexity on train data\", lda_model1.perplexity(vectors))"
   ]
  },
  {
   "cell_type": "code",
   "execution_count": 23,
   "id": "3291ef16",
   "metadata": {},
   "outputs": [
    {
     "name": "stderr",
     "output_type": "stream",
     "text": [
      "C:\\Users\\Chiara\\anaconda3\\lib\\site-packages\\ipykernel\\ipkernel.py:287: DeprecationWarning: `should_run_async` will not call `transform_cell` automatically in the future. Please pass the result to `transformed_cell` argument and any exception that happen during thetransform in `preprocessing_exc_tuple` in IPython 7.17 and above.\n",
      "  and should_run_async(code)\n",
      "C:\\Users\\Chiara\\anaconda3\\lib\\site-packages\\sklearn\\manifold\\_t_sne.py:691: FutureWarning: 'square_distances' has been introduced in 0.24 to help phase out legacy squaring behavior. The 'legacy' setting will be removed in 1.1 (renaming of 0.26), and the default setting will be changed to True. In 1.3, 'square_distances' will be removed altogether, and distances will be squared by default. Set 'square_distances'=True to silence this warning.\n",
      "  warnings.warn(\n"
     ]
    },
    {
     "data": {
      "text/html": [
       "\n",
       "<link rel=\"stylesheet\" type=\"text/css\" href=\"https://cdn.jsdelivr.net/gh/bmabey/pyLDAvis@3.3.1/pyLDAvis/js/ldavis.v1.0.0.css\">\n",
       "\n",
       "\n",
       "<div id=\"ldavis_el1452818569830612168178203312\"></div>\n",
       "<script type=\"text/javascript\">\n",
       "\n",
       "var ldavis_el1452818569830612168178203312_data = {\"mdsDat\": {\"x\": [-60.31231689453125, 60.31256103515625], \"y\": [141.36962890625, -141.369140625], \"topics\": [1, 2], \"cluster\": [1, 1], \"Freq\": [61.92922372977733, 38.07077627022267]}, \"tinfo\": {\"Term\": [\"seat\", \"screen\", \"good\", \"comfortable\", \"legroom\", \"window\", \"ife\", \"enough\", \"time\", \"entertainment\", \"power\", \"storage\", \"row\", \"space\", \"width\", \"usb\", \"table\", \"ever\", \"system\", \"recline\", \"worst\", \"never\", \"rest\", \"headrest\", \"nice\", \"fly\", \"aircraft\", \"movie\", \"port\", \"pocket\", \"tui\", \"worst\", \"money\", \"customer\", \"etihad\", \"london\", \"france\", \"ever\", \"job\", \"jamaica\", \"upgrade\", \"amsterdam\", \"abu\", \"dhabi\", \"wait\", \"delayed\", \"told\", \"acceptable\", \"travelled\", \"heathrow\", \"refund\", \"australia\", \"british\", \"europe\", \"buy\", \"needed\", \"rude\", \"american\", \"klm\", \"complained\", \"never\", \"expected\", \"time\", \"fly\", \"pay\", \"delta\", \"ticket\", \"awful\", \"paid\", \"air\", \"staff\", \"return\", \"uncomfortable\", \"flying\", \"airline\", \"long\", \"flight\", \"experience\", \"travel\", \"hour\", \"premium\", \"food\", \"service\", \"economy\", \"haul\", \"flew\", \"extra\", \"seat\", \"leg\", \"average\", \"crew\", \"get\", \"plane\", \"would\", \"comfort\", \"back\", \"room\", \"class\", \"even\", \"front\", \"passenger\", \"cabin\", \"boeing\", \"recline\", \"good\", \"could\", \"usb\", \"port\", \"adjustable\", \"power\", \"supply\", \"deck\", \"touchscreen\", \"socket\", \"storage\", \"leather\", \"ample\", \"remote\", \"upper\", \"bin\", \"privacy\", \"perfect\", \"pocket\", \"resolution\", \"outlet\", \"earphone\", \"controller\", \"colour\", \"liked\", \"yyz\", \"vistara\", \"bright\", \"equipped\", \"icn\", \"charger\", \"ptv\", \"noise\", \"music\", \"touch\", \"headrest\", \"headphone\", \"view\", \"screen\", \"ife\", \"easy\", \"wall\", \"window\", \"table\", \"spacious\", \"comfortable\", \"enough\", \"good\", \"legroom\", \"overhead\", \"seat\", \"entertainment\", \"system\", \"width\", \"personal\", \"movie\", \"row\", \"space\", \"nice\", \"recline\", \"rest\", \"side\", \"aircraft\", \"tv\", \"quite\", \"front\", \"tray\", \"flight\", \"aisle\", \"small\", \"leg\", \"economy\", \"cabin\", \"room\", \"back\", \"class\", \"new\", \"could\", \"great\", \"passenger\"], \"Freq\": [6763.0, 535.0, 990.0, 736.0, 733.0, 319.0, 268.0, 343.0, 579.0, 453.0, 147.0, 140.0, 576.0, 549.0, 306.0, 116.0, 165.0, 254.0, 242.0, 693.0, 207.0, 236.0, 262.0, 101.0, 207.0, 319.0, 459.0, 160.0, 78.0, 84.0, 92.66708701594546, 205.92012835857577, 112.21649676062633, 94.35623706948061, 74.71071573407657, 94.32188850534436, 69.0811926336579, 252.54944856888213, 55.90077817685991, 45.63282568190929, 74.45168196306456, 51.17261523789989, 39.972803181478, 38.09016785186357, 40.875312440606706, 34.305774473281545, 60.26217528916898, 122.37236378552142, 49.102349029161154, 41.667793572523706, 31.47807414800608, 30.546593168199436, 72.19952600903564, 37.020238049066776, 30.515569898526635, 35.12481857940442, 27.718176280470608, 83.1339063127642, 115.46274650761022, 26.760441097524662, 231.0306791105481, 87.57351342453859, 555.2678286192199, 304.29047434242443, 125.11996294885233, 71.52424045747334, 76.83973625303494, 74.65646562493083, 151.394563911755, 304.15548174653605, 192.8134336295334, 228.21054031275068, 451.7164941819492, 231.46119749026298, 716.8645711821323, 397.9234900446722, 1798.4701369369197, 241.18204715720992, 116.25119647432, 577.5806776264587, 347.04402406388164, 345.8958634240965, 400.7006153342761, 958.4666276122924, 277.29300235867447, 260.72128038345886, 314.33423317439957, 3557.279360663043, 639.9269790715045, 202.59670049447223, 239.24583268452028, 416.7575296801326, 375.56026722408967, 355.8355152409979, 229.27616251175016, 429.6317404114232, 416.92152051168455, 399.5043697419853, 315.0435145279965, 445.67300483964686, 312.0783652153969, 334.73444992444024, 297.32320468938826, 332.7912414869229, 315.90712254394964, 265.8964445807262, 116.26448080821926, 77.6566621718238, 54.13892683115448, 146.4893944183808, 42.837064762562946, 65.95424737781819, 34.35658235426591, 40.847333143317336, 137.78250942502802, 54.499478448589194, 30.48112075095331, 35.95552257871275, 61.742735670105894, 24.814545730157743, 40.400975039672524, 30.115776937103625, 82.12956607332924, 15.510990059188645, 40.96265737878626, 16.35910301226772, 13.62683208993116, 13.622614653217468, 21.79113736321321, 16.325618904180438, 13.594703730948343, 11.748394440372063, 11.737602999155907, 11.729671439153142, 13.527069430033798, 48.67578709094609, 38.61516883343988, 36.81795076738759, 73.81858271740174, 95.59931713493854, 57.778938036083346, 61.89495662565948, 469.4607191474636, 237.9457785938598, 74.73203036951108, 47.24416344243762, 268.60562778538366, 143.6041922935469, 82.59141891543477, 527.8673995936924, 263.2012841686577, 674.9572052949262, 508.1455491914437, 78.70396461744946, 3206.176252308466, 309.80534830910096, 180.39316777740228, 219.30500257517105, 87.29102085556138, 123.48748864966922, 341.4422008409749, 327.67447300998896, 149.72132147703576, 360.2683433341252, 174.8651014354053, 119.57021845595925, 251.0562878189756, 180.02902195214114, 147.56486876009154, 343.33484410156467, 128.04900923407317, 582.9344301165924, 196.8705608897843, 163.678839541443, 290.13862198803656, 334.86126366643214, 211.31725016770582, 216.64371245253557, 213.33770496413894, 205.81696566689257, 180.0260872449167, 166.23607233580373, 158.5160997008822, 160.50505084282787], \"Total\": [6763.0, 535.0, 990.0, 736.0, 733.0, 319.0, 268.0, 343.0, 579.0, 453.0, 147.0, 140.0, 576.0, 549.0, 306.0, 116.0, 165.0, 254.0, 242.0, 693.0, 207.0, 236.0, 262.0, 101.0, 207.0, 319.0, 459.0, 160.0, 78.0, 84.0, 93.1517533061573, 207.0039063952027, 112.91137798032376, 95.03388295508675, 75.27440333017917, 95.03393479309717, 69.6288626501232, 254.99284582399656, 56.456002099111096, 46.105764441059186, 75.27479425761376, 51.7514405447826, 40.46026978995039, 38.578432144266706, 41.40124718148744, 34.81478571243895, 61.1611171674592, 124.2041242314762, 49.86988606703138, 42.34239062478294, 31.99203489929388, 31.051101231167415, 73.39351428341949, 37.63770741971595, 31.051148050726237, 35.75588906754259, 28.228351499440507, 84.68508562136867, 117.6181760018125, 27.28745745351481, 236.17853269581298, 89.39008265709529, 579.6430962203615, 319.93618064781634, 129.85401424069016, 73.39453340786505, 79.04054801025804, 77.15916407601455, 160.91156265807868, 335.01381535854483, 208.9083655713817, 250.31788032709636, 515.7202916842749, 257.8516900063514, 862.1010493019207, 462.0881268934392, 2381.404567053512, 271.97211108442156, 124.21336214754571, 710.594603880674, 408.4515650620418, 407.51095840156233, 482.8154033257468, 1293.3278912787246, 328.4579795006072, 310.57853984574876, 393.42349889563064, 6763.455612971509, 930.0656010595411, 237.16378399769388, 289.8794824645256, 577.0251142681615, 512.0658670544927, 486.65247038384143, 277.64411577317924, 642.9694453755621, 633.5652329642201, 605.3213354088779, 446.19343690676243, 789.0078489412115, 472.58341605822477, 546.0517000921461, 451.8742165838827, 693.059584821048, 990.8643278388759, 432.13251691652994, 116.84920766433338, 78.21333311117897, 54.65490860701558, 147.94509461551235, 43.346844729232195, 66.90466563993806, 34.86579066391148, 41.4620075522005, 140.40461880768058, 55.59637134659464, 31.096273030058935, 36.750038956844854, 63.13464161172132, 25.44221751722029, 41.46133493455706, 31.095722492960775, 84.806509303213, 16.019003737814938, 42.40310075830498, 16.961201184244295, 14.134325649865072, 14.134319294603578, 22.614903267421308, 16.961150726994333, 14.134277235593853, 12.24965618187318, 12.249639920234994, 12.249627968155185, 14.134175317371506, 50.88299849878999, 40.51772447686922, 38.63317739877857, 78.20754950396245, 101.76335651904563, 61.246829711899395, 65.95762926525782, 535.1496637543157, 268.52059662034776, 81.97260367491289, 50.88084118314082, 319.3764468775569, 165.81821595374583, 94.2163995084685, 736.5944335668792, 343.8322080850194, 990.8643278388759, 733.741956411811, 90.44686380280976, 6763.455612971509, 453.9900084046782, 242.08812664394418, 306.1292837636179, 102.69175615981196, 160.14238552221147, 576.3572071227237, 549.0497972228568, 207.22788851384652, 693.059584821048, 262.78002371803063, 160.13648258236793, 459.54699590776613, 289.13354910496474, 222.27934973399888, 789.0078489412115, 186.49500315185855, 2381.404567053512, 389.8373059958868, 292.8725886880313, 930.0656010595411, 1293.3278912787246, 546.0517000921461, 633.5652329642201, 642.9694453755621, 605.3213354088779, 440.6215719236793, 432.13251691652994, 320.15147224012674, 472.58341605822477], \"Category\": [\"Default\", \"Default\", \"Default\", \"Default\", \"Default\", \"Default\", \"Default\", \"Default\", \"Default\", \"Default\", \"Default\", \"Default\", \"Default\", \"Default\", \"Default\", \"Default\", \"Default\", \"Default\", \"Default\", \"Default\", \"Default\", \"Default\", \"Default\", \"Default\", \"Default\", \"Default\", \"Default\", \"Default\", \"Default\", \"Default\", \"Topic1\", \"Topic1\", \"Topic1\", \"Topic1\", \"Topic1\", \"Topic1\", \"Topic1\", \"Topic1\", \"Topic1\", \"Topic1\", \"Topic1\", \"Topic1\", \"Topic1\", \"Topic1\", \"Topic1\", \"Topic1\", \"Topic1\", \"Topic1\", \"Topic1\", \"Topic1\", \"Topic1\", \"Topic1\", \"Topic1\", \"Topic1\", \"Topic1\", \"Topic1\", \"Topic1\", \"Topic1\", \"Topic1\", \"Topic1\", \"Topic1\", \"Topic1\", \"Topic1\", \"Topic1\", \"Topic1\", \"Topic1\", \"Topic1\", \"Topic1\", \"Topic1\", \"Topic1\", \"Topic1\", \"Topic1\", \"Topic1\", \"Topic1\", \"Topic1\", \"Topic1\", \"Topic1\", \"Topic1\", \"Topic1\", \"Topic1\", \"Topic1\", \"Topic1\", \"Topic1\", \"Topic1\", \"Topic1\", \"Topic1\", \"Topic1\", \"Topic1\", \"Topic1\", \"Topic1\", \"Topic1\", \"Topic1\", \"Topic1\", \"Topic1\", \"Topic1\", \"Topic1\", \"Topic1\", \"Topic1\", \"Topic1\", \"Topic1\", \"Topic1\", \"Topic1\", \"Topic1\", \"Topic1\", \"Topic1\", \"Topic1\", \"Topic2\", \"Topic2\", \"Topic2\", \"Topic2\", \"Topic2\", \"Topic2\", \"Topic2\", \"Topic2\", \"Topic2\", \"Topic2\", \"Topic2\", \"Topic2\", \"Topic2\", \"Topic2\", \"Topic2\", \"Topic2\", \"Topic2\", \"Topic2\", \"Topic2\", \"Topic2\", \"Topic2\", \"Topic2\", \"Topic2\", \"Topic2\", \"Topic2\", \"Topic2\", \"Topic2\", \"Topic2\", \"Topic2\", \"Topic2\", \"Topic2\", \"Topic2\", \"Topic2\", \"Topic2\", \"Topic2\", \"Topic2\", \"Topic2\", \"Topic2\", \"Topic2\", \"Topic2\", \"Topic2\", \"Topic2\", \"Topic2\", \"Topic2\", \"Topic2\", \"Topic2\", \"Topic2\", \"Topic2\", \"Topic2\", \"Topic2\", \"Topic2\", \"Topic2\", \"Topic2\", \"Topic2\", \"Topic2\", \"Topic2\", \"Topic2\", \"Topic2\", \"Topic2\", \"Topic2\", \"Topic2\", \"Topic2\", \"Topic2\", \"Topic2\", \"Topic2\", \"Topic2\", \"Topic2\", \"Topic2\", \"Topic2\", \"Topic2\", \"Topic2\", \"Topic2\", \"Topic2\", \"Topic2\", \"Topic2\", \"Topic2\", \"Topic2\", \"Topic2\"], \"logprob\": [30.0, 29.0, 28.0, 27.0, 26.0, 25.0, 24.0, 23.0, 22.0, 21.0, 20.0, 19.0, 18.0, 17.0, 16.0, 15.0, 14.0, 13.0, 12.0, 11.0, 10.0, 9.0, 8.0, 7.0, 6.0, 5.0, 4.0, 3.0, 2.0, 1.0, -6.6516, -5.8532, -6.4602, -6.6336, -6.867, -6.6339, -6.9454, -5.649, -7.1571, -7.36, -6.8705, -7.2454, -7.4924, -7.5407, -7.4701, -7.6453, -7.0819, -6.3736, -7.2867, -7.4509, -7.7314, -7.7614, -6.9012, -7.5692, -7.7624, -7.6217, -7.8586, -6.7602, -6.4317, -7.8937, -5.7381, -6.7082, -4.8612, -5.4627, -6.3514, -6.9106, -6.8389, -6.8678, -6.1608, -5.4631, -5.9189, -5.7504, -5.0676, -5.7362, -4.6058, -5.1944, -3.686, -5.6951, -6.4249, -4.8218, -5.3312, -5.3345, -5.1874, -4.3153, -5.5556, -5.6172, -5.4302, -3.0039, -4.7193, -5.8694, -5.7032, -5.1481, -5.2522, -5.3062, -5.7457, -5.1177, -5.1478, -5.1904, -5.4279, -5.0811, -5.4374, -5.3673, -5.4858, -5.3731, -5.4252, -5.5975, -5.9382, -6.3418, -6.7026, -5.7072, -6.9367, -6.5051, -7.1573, -6.9843, -5.7684, -6.6959, -7.277, -7.1118, -6.5711, -7.4827, -6.9952, -7.2891, -6.2858, -7.9526, -6.9814, -7.8993, -8.0821, -8.0824, -7.6126, -7.9014, -8.0844, -8.2304, -8.2313, -8.232, -8.0894, -6.8089, -7.0405, -7.0881, -6.3925, -6.1339, -6.6375, -6.5687, -4.5425, -5.2221, -6.3802, -6.8388, -5.1009, -5.727, -6.2802, -4.4253, -5.1212, -4.1795, -4.4633, -6.3284, -2.6213, -4.9582, -5.499, -5.3036, -6.2249, -5.878, -4.8609, -4.9021, -5.6853, -4.8073, -5.5301, -5.9102, -5.1684, -5.501, -5.6998, -4.8554, -5.8417, -4.326, -5.4116, -5.5962, -5.0237, -4.8804, -5.3407, -5.3158, -5.3312, -5.3671, -5.501, -5.5807, -5.6282, -5.6158], \"loglift\": [30.0, 29.0, 28.0, 27.0, 26.0, 25.0, 24.0, 23.0, 22.0, 21.0, 20.0, 19.0, 18.0, 17.0, 16.0, 15.0, 14.0, 13.0, 12.0, 11.0, 10.0, 9.0, 8.0, 7.0, 6.0, 5.0, 4.0, 3.0, 2.0, 1.0, 0.474, 0.4739, 0.473, 0.472, 0.4717, 0.4717, 0.4713, 0.4695, 0.4693, 0.4689, 0.4682, 0.4679, 0.4671, 0.4664, 0.4664, 0.4644, 0.4644, 0.4643, 0.4637, 0.4631, 0.463, 0.4628, 0.4628, 0.4626, 0.4618, 0.4614, 0.4609, 0.4607, 0.4607, 0.4597, 0.4571, 0.4586, 0.4362, 0.429, 0.442, 0.4534, 0.4509, 0.4462, 0.4182, 0.3825, 0.399, 0.3867, 0.3467, 0.3712, 0.2947, 0.3297, 0.1984, 0.359, 0.4129, 0.2719, 0.3163, 0.3152, 0.2928, 0.1795, 0.3098, 0.3042, 0.2547, -0.1634, 0.1053, 0.3216, 0.2872, 0.1538, 0.1691, 0.1661, 0.2878, 0.076, 0.0607, 0.0636, 0.1311, -0.092, 0.0642, -0.0102, 0.0606, -0.2544, -0.664, -0.0064, 0.9607, 0.9586, 0.9562, 0.9558, 0.9539, 0.9514, 0.951, 0.9508, 0.9469, 0.9458, 0.9457, 0.9439, 0.9434, 0.9407, 0.9398, 0.9337, 0.9336, 0.9335, 0.9312, 0.9296, 0.9292, 0.9288, 0.9286, 0.9275, 0.9268, 0.9239, 0.923, 0.9223, 0.9218, 0.9214, 0.9176, 0.9176, 0.908, 0.9032, 0.9074, 0.9021, 0.8348, 0.8448, 0.8732, 0.8916, 0.7926, 0.8219, 0.834, 0.6325, 0.6985, 0.5818, 0.5983, 0.8267, 0.2193, 0.5836, 0.6716, 0.6322, 0.8032, 0.7058, 0.4422, 0.4496, 0.6407, 0.3115, 0.5584, 0.6736, 0.3612, 0.492, 0.5561, 0.1337, 0.5897, -0.4416, 0.2825, 0.3839, -0.1992, -0.3855, 0.0164, -0.1074, -0.1375, -0.113, 0.0706, 0.0104, 0.2628, -0.1142]}, \"token.table\": {\"Topic\": [1, 1, 2, 1, 2, 1, 2, 1, 2, 1, 2, 1, 2, 1, 2, 1, 2, 1, 2, 1, 2, 1, 2, 1, 2, 1, 2, 1, 2, 1, 2, 1, 2, 1, 2, 1, 2, 1, 2, 1, 2, 1, 2, 1, 2, 1, 2, 1, 2, 1, 2, 1, 2, 1, 2, 1, 2, 1, 2, 1, 2, 1, 2, 1, 2, 1, 1, 2, 1, 2, 1, 2, 1, 2, 1, 2, 1, 2, 1, 2, 1, 2, 1, 2, 1, 2, 1, 2, 1, 2, 1, 2, 1, 2, 1, 2, 1, 2, 1, 2, 1, 2, 1, 2, 1, 2, 1, 2, 1, 2, 1, 2, 1, 2, 1, 2, 1, 2, 1, 2, 1, 2, 1, 2, 1, 2, 1, 1, 2, 1, 2, 1, 2, 1, 2, 1, 2, 1, 2, 1, 2, 1, 2, 1, 2, 1, 2, 1, 2, 1, 2, 1, 2, 1, 2, 1, 2, 1, 2, 1, 2, 1, 2, 1, 2, 1, 2, 1, 2, 1, 2, 1, 2, 1, 2, 1, 2, 1, 2, 1, 2, 1, 2, 1, 2, 1, 2, 1, 2, 1, 2, 1, 2, 1, 2, 1, 2, 1, 2, 1, 2, 1, 2, 1, 2, 1, 2, 1, 2, 1, 2, 1, 2, 1, 2, 1, 2, 1, 2, 1, 2, 1, 2, 1, 2, 1, 2, 1, 2, 1, 2, 1, 2, 1, 2, 1, 2, 1, 2, 1, 2, 1, 2, 1, 2, 1, 2, 1, 2, 1, 1, 2, 1, 2, 1, 2, 1, 2, 1, 2, 1, 2, 1, 2, 1, 2, 1, 2, 1, 2, 1, 2, 1, 2, 1, 2, 1, 2], \"Freq\": [0.9886241542051034, 0.9822540173676646, 0.01610252487487975, 0.018296618281631132, 0.9880173872080812, 0.9074252644615487, 0.0925334973628553, 0.45261964902877283, 0.5461900572414518, 0.831689046870532, 0.16819374030157203, 0.49507832378165556, 0.5053390144299801, 0.9801017427212299, 0.023616909463162167, 0.03215819461815758, 0.9647458385447275, 0.9854798139554716, 0.01932313360697003, 0.9983542860271853, 0.03220497696861888, 0.8559485625426432, 0.14757733836942125, 0.9720167513234408, 0.03888067005293763, 0.6687720592210016, 0.3312754618931938, 0.03930475004087835, 0.9826187510219587, 0.6572625502850904, 0.34301580907134344, 0.08163494429172485, 0.9796193315006982, 0.9810131140738371, 0.013625182139914404, 0.9983527806880866, 0.03220492840929312, 0.6134950224373787, 0.3864102977142893, 0.07075050206650241, 0.9905070289310337, 0.6608060489554874, 0.340315115212076, 0.07074978137658144, 0.9904969392721402, 0.8247968784149601, 0.17288318848872525, 0.28373822890289846, 0.7168123677546909, 0.9894655830795337, 0.036646873447390135, 0.07074974956513373, 0.9904964939118723, 0.61555191888367, 0.38414142306274146, 0.8244805667791543, 0.17593518370601202, 0.9891209016938162, 0.010522562783976768, 0.014946640722811716, 0.9864782877055733, 0.9765965610367714, 0.028723428265787394, 0.9809994921540626, 0.027249985893168405, 0.9850063335362199, 0.05895808847128859, 0.9433294155406174, 0.08539438405251361, 0.9149398291340745, 0.7407247662870836, 0.2590217084615585, 0.23558002448674364, 0.7649079807409084, 0.31718759737910596, 0.6828344110244643, 0.08163505266372077, 0.9796206319646492, 0.9963546263000512, 0.01328472835066735, 0.983056688001621, 0.026569099675719486, 0.7059718363043137, 0.293594636685286, 0.9921846990743729, 0.007843357304935754, 0.9844492519105534, 0.02237384663433076, 0.8861202681373177, 0.11398227515459274, 0.7981221276345252, 0.20080142701632958, 0.8403671423325889, 0.1609898740100745, 0.7550166086330503, 0.24481350546889227, 0.950189501495116, 0.050009973762900846, 0.8958638199901269, 0.10083315722832596, 0.8490569219467485, 0.1521431478632902, 0.9909683624550475, 0.01436186032543547, 0.5652668735786318, 0.43472317855935133, 0.7226721847780913, 0.2772842915215698, 0.31891348908403194, 0.6812234339611443, 0.5060104795597921, 0.49663991512349964, 0.8433346646689943, 0.1552710032423058, 0.048982127142119525, 0.9469877914143109, 0.05896031936483014, 0.9433651098372823, 0.9919137625502293, 0.023616994346434033, 0.813403305968617, 0.1871671967021212, 0.08163513231582671, 0.9796215877899205, 0.11544738239886253, 0.886337968094493, 0.997706047338302, 0.9919228765382543, 0.017712908509611682, 0.9777400390754899, 0.017004174592617216, 0.01798678539226736, 0.9712864111824374, 0.688123503622653, 0.3118059625790146, 0.3080101908104026, 0.6923414908481615, 0.0442186282282527, 0.9728098210215593, 0.9891203621595991, 0.010522557044251054, 0.8613075663200964, 0.13850171920725168, 0.9919283778426424, 0.008856503373595021, 0.2310443913979798, 0.7680664903230139, 0.05176897513128786, 0.9577260399288254, 0.9788597322775355, 0.0279674209222153, 0.9780736520093353, 0.02117042536816743, 0.5923450339948589, 0.4085138165481786, 0.2798851082060056, 0.7238407970844972, 0.049361113582322744, 0.9625417148552936, 0.02358318099659592, 0.9669104208604327, 0.1326745836777949, 0.8734410092121496, 0.9384036641348156, 0.06214593802217322, 0.6602009071802891, 0.3406805963334184, 0.962619451781498, 0.03850477807125992, 0.03215876396589186, 0.9647629189767558, 0.1460682002229717, 0.8471955612932358, 0.7342805373121795, 0.26754370641427816, 0.035374643109928605, 0.9669069116713819, 0.012785543848112398, 0.9972724201527671, 0.006759264324368805, 0.9868525913578455, 0.8495499336556401, 0.14934451283283587, 0.024118856799435158, 0.9647542719774064, 0.039305859697862745, 0.9629935625976372, 0.3374132598900991, 0.6658288328497955, 0.48047816853435843, 0.5194358578749821, 0.9689911910131176, 0.031257780355261854, 0.02721085550886867, 0.9795907983192721, 0.06242585471400885, 0.9988136754241416, 0.3348808587308225, 0.6659562531578856, 0.9108418451852778, 0.08788824821963206, 0.6581800551918063, 0.34250616780964505, 0.40773325482153894, 0.5916469782729565, 0.9919105619949138, 0.03542537721410406, 0.12332998499332, 0.8763903479070769, 0.5259145921173924, 0.47401804394949687, 0.8305451674445701, 0.1698371664101116, 0.25603160091212324, 0.7493607831574338, 0.4404645739564625, 0.5599704661151926, 0.024118465531149307, 0.9888570867771217, 0.40251358094992085, 0.5973957219528238, 0.1273663615103589, 0.8809506671133158, 0.9238500309555772, 0.07658860360253489, 0.021366818452812113, 0.9828736488293572, 0.023069729901831152, 0.9919983857787394, 0.2561050839605517, 0.7435308889177308, 0.13267541128374455, 0.868420873857237, 0.9741835290667114, 0.025303468287447048, 0.9574857418624495, 0.04140478883729511, 0.9810154356029819, 0.016350257260049697, 0.05114595746024924, 0.9462002130146109, 0.028681408938621016, 0.9751679039131146, 0.9338769838804497, 0.06440530923313446, 0.9825568868181863, 0.020052181363636457, 0.3110002896580127, 0.6863454668314762, 0.9983709023097124, 0.37698842053237314, 0.622549685282818, 0.8764440866265456, 0.12409827775243124, 0.9830647925353204, 0.01328465935858541, 0.01583916490965467, 0.9820282243985896, 0.008558038346932122, 0.9927324482441263, 0.06064499352930714, 0.9399973997042607, 0.07074999190490867, 0.9904998866687214, 0.9903083310575518, 0.024153861733111022, 0.0786150524831611, 0.9237268666771429, 0.2841936548193093, 0.7153840276486061, 0.15968616502128122, 0.8422662429553852, 0.9951503021721431, 0.00483082670957351, 0.7315281883172383, 0.2691859344650512, 0.058958263864046734, 0.9433322218247477], \"Term\": [\"abu\", \"acceptable\", \"acceptable\", \"adjustable\", \"adjustable\", \"air\", \"air\", \"aircraft\", \"aircraft\", \"airline\", \"airline\", \"aisle\", \"aisle\", \"american\", \"american\", \"ample\", \"ample\", \"amsterdam\", \"amsterdam\", \"australia\", \"australia\", \"average\", \"average\", \"awful\", \"awful\", \"back\", \"back\", \"bin\", \"bin\", \"boeing\", \"boeing\", \"bright\", \"bright\", \"british\", \"british\", \"buy\", \"buy\", \"cabin\", \"cabin\", \"charger\", \"charger\", \"class\", \"class\", \"colour\", \"colour\", \"comfort\", \"comfort\", \"comfortable\", \"comfortable\", \"complained\", \"complained\", \"controller\", \"controller\", \"could\", \"could\", \"crew\", \"crew\", \"customer\", \"customer\", \"deck\", \"deck\", \"delayed\", \"delayed\", \"delta\", \"delta\", \"dhabi\", \"earphone\", \"earphone\", \"easy\", \"easy\", \"economy\", \"economy\", \"enough\", \"enough\", \"entertainment\", \"entertainment\", \"equipped\", \"equipped\", \"etihad\", \"etihad\", \"europe\", \"europe\", \"even\", \"even\", \"ever\", \"ever\", \"expected\", \"expected\", \"experience\", \"experience\", \"extra\", \"extra\", \"flew\", \"flew\", \"flight\", \"flight\", \"fly\", \"fly\", \"flying\", \"flying\", \"food\", \"food\", \"france\", \"france\", \"front\", \"front\", \"get\", \"get\", \"good\", \"good\", \"great\", \"great\", \"haul\", \"haul\", \"headphone\", \"headphone\", \"headrest\", \"headrest\", \"heathrow\", \"heathrow\", \"hour\", \"hour\", \"icn\", \"icn\", \"ife\", \"ife\", \"jamaica\", \"job\", \"job\", \"klm\", \"klm\", \"leather\", \"leather\", \"leg\", \"leg\", \"legroom\", \"legroom\", \"liked\", \"liked\", \"london\", \"london\", \"long\", \"long\", \"money\", \"money\", \"movie\", \"movie\", \"music\", \"music\", \"needed\", \"needed\", \"never\", \"never\", \"new\", \"new\", \"nice\", \"nice\", \"noise\", \"noise\", \"outlet\", \"outlet\", \"overhead\", \"overhead\", \"paid\", \"paid\", \"passenger\", \"passenger\", \"pay\", \"pay\", \"perfect\", \"perfect\", \"personal\", \"personal\", \"plane\", \"plane\", \"pocket\", \"pocket\", \"port\", \"port\", \"power\", \"power\", \"premium\", \"premium\", \"privacy\", \"privacy\", \"ptv\", \"ptv\", \"quite\", \"quite\", \"recline\", \"recline\", \"refund\", \"refund\", \"remote\", \"remote\", \"resolution\", \"resolution\", \"rest\", \"rest\", \"return\", \"return\", \"room\", \"room\", \"row\", \"row\", \"rude\", \"rude\", \"screen\", \"screen\", \"seat\", \"seat\", \"service\", \"service\", \"side\", \"side\", \"small\", \"small\", \"socket\", \"socket\", \"space\", \"space\", \"spacious\", \"spacious\", \"staff\", \"staff\", \"storage\", \"storage\", \"supply\", \"supply\", \"system\", \"system\", \"table\", \"table\", \"ticket\", \"ticket\", \"time\", \"time\", \"told\", \"told\", \"touch\", \"touch\", \"touchscreen\", \"touchscreen\", \"travel\", \"travel\", \"travelled\", \"travelled\", \"tray\", \"tray\", \"tui\", \"tv\", \"tv\", \"uncomfortable\", \"uncomfortable\", \"upgrade\", \"upgrade\", \"upper\", \"upper\", \"usb\", \"usb\", \"view\", \"view\", \"vistara\", \"vistara\", \"wait\", \"wait\", \"wall\", \"wall\", \"width\", \"width\", \"window\", \"window\", \"worst\", \"worst\", \"would\", \"would\", \"yyz\", \"yyz\"]}, \"R\": 30, \"lambda.step\": 0.01, \"plot.opts\": {\"xlab\": \"PC1\", \"ylab\": \"PC2\"}, \"topic.order\": [1, 2]};\n",
       "\n",
       "function LDAvis_load_lib(url, callback){\n",
       "  var s = document.createElement('script');\n",
       "  s.src = url;\n",
       "  s.async = true;\n",
       "  s.onreadystatechange = s.onload = callback;\n",
       "  s.onerror = function(){console.warn(\"failed to load library \" + url);};\n",
       "  document.getElementsByTagName(\"head\")[0].appendChild(s);\n",
       "}\n",
       "\n",
       "if(typeof(LDAvis) !== \"undefined\"){\n",
       "   // already loaded: just create the visualization\n",
       "   !function(LDAvis){\n",
       "       new LDAvis(\"#\" + \"ldavis_el1452818569830612168178203312\", ldavis_el1452818569830612168178203312_data);\n",
       "   }(LDAvis);\n",
       "}else if(typeof define === \"function\" && define.amd){\n",
       "   // require.js is available: use it to load d3/LDAvis\n",
       "   require.config({paths: {d3: \"https://d3js.org/d3.v5\"}});\n",
       "   require([\"d3\"], function(d3){\n",
       "      window.d3 = d3;\n",
       "      LDAvis_load_lib(\"https://cdn.jsdelivr.net/gh/bmabey/pyLDAvis@3.3.1/pyLDAvis/js/ldavis.v3.0.0.js\", function(){\n",
       "        new LDAvis(\"#\" + \"ldavis_el1452818569830612168178203312\", ldavis_el1452818569830612168178203312_data);\n",
       "      });\n",
       "    });\n",
       "}else{\n",
       "    // require.js not available: dynamically load d3 & LDAvis\n",
       "    LDAvis_load_lib(\"https://d3js.org/d3.v5.js\", function(){\n",
       "         LDAvis_load_lib(\"https://cdn.jsdelivr.net/gh/bmabey/pyLDAvis@3.3.1/pyLDAvis/js/ldavis.v3.0.0.js\", function(){\n",
       "                 new LDAvis(\"#\" + \"ldavis_el1452818569830612168178203312\", ldavis_el1452818569830612168178203312_data);\n",
       "            })\n",
       "         });\n",
       "}\n",
       "</script>"
      ],
      "text/plain": [
       "PreparedData(topic_coordinates=               x           y  topics  cluster       Freq\n",
       "topic                                                   \n",
       "0     -60.312317  141.369629       1        1  61.929224\n",
       "1      60.312561 -141.369141       2        1  38.070776, topic_info=             Term         Freq        Total Category  logprob  loglift\n",
       "5496         seat  6763.000000  6763.000000  Default  30.0000  30.0000\n",
       "5479       screen   535.000000   535.000000  Default  29.0000  29.0000\n",
       "2736         good   990.000000   990.000000  Default  28.0000  28.0000\n",
       "1209  comfortable   736.000000   736.000000  Default  27.0000  27.0000\n",
       "3579      legroom   733.000000   733.000000  Default  26.0000  26.0000\n",
       "...           ...          ...          ...      ...      ...      ...\n",
       "1106        class   205.816966   605.321335   Topic2  -5.3671  -0.1130\n",
       "4126          new   180.026087   440.621572   Topic2  -5.5010   0.0706\n",
       "1443        could   166.236072   432.132517   Topic2  -5.5807   0.0104\n",
       "2761        great   158.516100   320.151472   Topic2  -5.6282   0.2628\n",
       "4467    passenger   160.505051   472.583416   Topic2  -5.6158  -0.1142\n",
       "\n",
       "[184 rows x 6 columns], token_table=      Topic      Freq        Term\n",
       "term                             \n",
       "23        1  0.988624         abu\n",
       "31        1  0.982254  acceptable\n",
       "31        2  0.016103  acceptable\n",
       "103       1  0.018297  adjustable\n",
       "103       2  0.988017  adjustable\n",
       "...     ...       ...         ...\n",
       "7129      2  0.004831       worst\n",
       "7134      1  0.731528       would\n",
       "7134      2  0.269186       would\n",
       "7185      1  0.058958         yyz\n",
       "7185      2  0.943332         yyz\n",
       "\n",
       "[278 rows x 3 columns], R=30, lambda_step=0.01, plot_opts={'xlab': 'PC1', 'ylab': 'PC2'}, topic_order=[1, 2])"
      ]
     },
     "execution_count": 23,
     "metadata": {},
     "output_type": "execute_result"
    }
   ],
   "source": [
    "pyLDAvis.enable_notebook()\n",
    "pyLDAvis.sklearn.prepare(lda_model1, vectors,vect,mds='tsne')"
   ]
  },
  {
   "cell_type": "markdown",
   "id": "a5da8db0",
   "metadata": {},
   "source": [
    "With just two topics it does not work well, we do not have two distinguished topics, plus I think it could work better with a TFIDF matrix instead of a simple count matrix.\n",
    "\n",
    "# Try with more hyperparemter tuning "
   ]
  },
  {
   "cell_type": "code",
   "execution_count": null,
   "id": "680f2547",
   "metadata": {},
   "outputs": [
    {
     "name": "stderr",
     "output_type": "stream",
     "text": [
      "C:\\Users\\Chiara\\anaconda3\\lib\\site-packages\\ipykernel\\ipkernel.py:287: DeprecationWarning: `should_run_async` will not call `transform_cell` automatically in the future. Please pass the result to `transformed_cell` argument and any exception that happen during thetransform in `preprocessing_exc_tuple` in IPython 7.17 and above.\n",
      "  and should_run_async(code)\n"
     ]
    },
    {
     "name": "stdout",
     "output_type": "stream",
     "text": [
      "Fitting 5 folds for each of 4 candidates, totalling 20 fits\n",
      "[CV 1/5] END .................................n_components=2; total time=  45.7s\n",
      "[CV 2/5] END .................................n_components=2; total time=  53.7s\n",
      "[CV 3/5] END .................................n_components=2; total time=  49.3s\n",
      "[CV 4/5] END .................................n_components=2; total time=  57.1s\n",
      "[CV 5/5] END .................................n_components=2; total time=  44.0s\n",
      "[CV 1/5] END .................................n_components=3; total time=  35.6s\n",
      "[CV 2/5] END .................................n_components=3; total time=  44.7s\n",
      "[CV 3/5] END .................................n_components=3; total time=  35.5s\n"
     ]
    }
   ],
   "source": [
    "grid_params = {'n_components' : list(range(2,6))}\n",
    "# LDA model\n",
    "lda = LatentDirichletAllocation()\n",
    "lda_model = GridSearchCV(lda,param_grid=grid_params, verbose=5)\n",
    "lda_model.fit(vectors)\n",
    "# Estimators for LDA model\n",
    "lda_model2 = lda_model.best_estimator_"
   ]
  },
  {
   "cell_type": "code",
   "execution_count": null,
   "id": "dbbfc62a",
   "metadata": {},
   "outputs": [],
   "source": [
    "print(\"Best LDA model's params\" , lda_model.best_params_)\n",
    "print(\"Best log likelihood Score for the LDA model\",lda_model.best_score_)\n",
    "print(\"LDA model Perplexity on train data\", lda_model2.perplexity(vectors))"
   ]
  },
  {
   "cell_type": "code",
   "execution_count": null,
   "id": "23382bfa",
   "metadata": {},
   "outputs": [],
   "source": [
    "pyLDAvis.enable_notebook()\n",
    "pyLDAvis.sklearn.prepare(lda_model2, vectors,vect,mds='tsne')"
   ]
  },
  {
   "cell_type": "markdown",
   "id": "6d6825b8",
   "metadata": {},
   "source": [
    "# Try using TFIDF Matrix instead of word count"
   ]
  },
  {
   "cell_type": "code",
   "execution_count": null,
   "id": "812fac84",
   "metadata": {},
   "outputs": [],
   "source": [
    "# Count Vectorizer\n",
    "tfidf = TfidfVectorizer()  \n",
    "tfidf_matrix = tfidf.fit_transform(df.cleaned_body)"
   ]
  },
  {
   "cell_type": "code",
   "execution_count": null,
   "id": "1f7870de",
   "metadata": {},
   "outputs": [],
   "source": [
    "grid_params = {'n_components' : list(range(2,6))}\n",
    "# LDA model\n",
    "lda = LatentDirichletAllocation()\n",
    "lda_model = GridSearchCV(lda,param_grid=grid_params, verbose=5)\n",
    "lda_model.fit(tfidf_matrix)\n",
    "# Estimators for LDA model\n",
    "lda_model3 = lda_model.best_estimator_"
   ]
  },
  {
   "cell_type": "code",
   "execution_count": null,
   "id": "d1106a03",
   "metadata": {},
   "outputs": [],
   "source": [
    "print(\"Best LDA model's params\" , lda_model.best_params_)\n",
    "print(\"Best log likelihood Score for the LDA model\",lda_model.best_score_)\n",
    "print(\"LDA model Perplexity on train data\", lda_model3.perplexity(vectors))"
   ]
  },
  {
   "cell_type": "code",
   "execution_count": null,
   "id": "3a5d8bf5",
   "metadata": {},
   "outputs": [],
   "source": [
    "pyLDAvis.enable_notebook()\n",
    "pyLDAvis.sklearn.prepare(lda_model3, tfidf_matrix,tfidf,mds='tsne')"
   ]
  }
 ],
 "metadata": {
  "kernelspec": {
   "display_name": "Python 3",
   "language": "python",
   "name": "python3"
  },
  "language_info": {
   "codemirror_mode": {
    "name": "ipython",
    "version": 3
   },
   "file_extension": ".py",
   "mimetype": "text/x-python",
   "name": "python",
   "nbconvert_exporter": "python",
   "pygments_lexer": "ipython3",
   "version": "3.8.8"
  }
 },
 "nbformat": 4,
 "nbformat_minor": 5
}
