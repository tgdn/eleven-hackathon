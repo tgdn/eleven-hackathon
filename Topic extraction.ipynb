{
 "cells": [
  {
   "cell_type": "code",
   "execution_count": 29,
   "id": "9bdc1546",
   "metadata": {},
   "outputs": [
    {
     "name": "stderr",
     "output_type": "stream",
     "text": [
      "C:\\Users\\Chiara\\anaconda3\\lib\\site-packages\\ipykernel\\ipkernel.py:287: DeprecationWarning: `should_run_async` will not call `transform_cell` automatically in the future. Please pass the result to `transformed_cell` argument and any exception that happen during thetransform in `preprocessing_exc_tuple` in IPython 7.17 and above.\n",
      "  and should_run_async(code)\n"
     ]
    }
   ],
   "source": [
    "import pandas as pd\n",
    "import numpy as np \n",
    "\n",
    "from sklearn.feature_extraction.text import CountVectorizer\n",
    "from sklearn.feature_extraction.text import TfidfVectorizer\n",
    "\n",
    "from sklearn.model_selection import GridSearchCV\n",
    "from sklearn.decomposition import LatentDirichletAllocation\n",
    "from sklearn.manifold import TSNE\n",
    "\n",
    "import pyLDAvis.sklearn"
   ]
  },
  {
   "cell_type": "code",
   "execution_count": 3,
   "id": "d61ce6ff",
   "metadata": {},
   "outputs": [],
   "source": [
    "df = pd.read_csv(\"p_skytrax.csv\")"
   ]
  },
  {
   "cell_type": "code",
   "execution_count": 4,
   "id": "b7700831",
   "metadata": {},
   "outputs": [
    {
     "data": {
      "text/html": [
       "<div>\n",
       "<style scoped>\n",
       "    .dataframe tbody tr th:only-of-type {\n",
       "        vertical-align: middle;\n",
       "    }\n",
       "\n",
       "    .dataframe tbody tr th {\n",
       "        vertical-align: top;\n",
       "    }\n",
       "\n",
       "    .dataframe thead th {\n",
       "        text-align: right;\n",
       "    }\n",
       "</style>\n",
       "<table border=\"1\" class=\"dataframe\">\n",
       "  <thead>\n",
       "    <tr style=\"text-align: right;\">\n",
       "      <th></th>\n",
       "      <th>Unnamed: 0</th>\n",
       "      <th>author_review_count</th>\n",
       "      <th>rating</th>\n",
       "      <th>title</th>\n",
       "      <th>date</th>\n",
       "      <th>location</th>\n",
       "      <th>body</th>\n",
       "      <th>Seat Type</th>\n",
       "      <th>Aircraft Type</th>\n",
       "      <th>Seat Layout</th>\n",
       "      <th>...</th>\n",
       "      <th>airline_slug</th>\n",
       "      <th>airline</th>\n",
       "      <th>Viewing Tv Screen</th>\n",
       "      <th>Power Supply</th>\n",
       "      <th>Sleep Comfort</th>\n",
       "      <th>Sitting Comfort</th>\n",
       "      <th>Seat/bed Width</th>\n",
       "      <th>Seat/bed Length</th>\n",
       "      <th>Seat Privacy</th>\n",
       "      <th>cleaned_body</th>\n",
       "    </tr>\n",
       "  </thead>\n",
       "  <tbody>\n",
       "    <tr>\n",
       "      <th>0</th>\n",
       "      <td>0</td>\n",
       "      <td>0.0</td>\n",
       "      <td>0.3</td>\n",
       "      <td>\"seat was not comfortable\"</td>\n",
       "      <td>2019-07-22</td>\n",
       "      <td>Malaysia</td>\n",
       "      <td>With their newer A320 aircraft leg room is awf...</td>\n",
       "      <td>Economy Class</td>\n",
       "      <td>A320</td>\n",
       "      <td>3x3</td>\n",
       "      <td>...</td>\n",
       "      <td>airasia</td>\n",
       "      <td>AirAsia</td>\n",
       "      <td>NaN</td>\n",
       "      <td>NaN</td>\n",
       "      <td>NaN</td>\n",
       "      <td>NaN</td>\n",
       "      <td>NaN</td>\n",
       "      <td>NaN</td>\n",
       "      <td>NaN</td>\n",
       "      <td>newer aircraft leg room awful seat comfortable...</td>\n",
       "    </tr>\n",
       "    <tr>\n",
       "      <th>1</th>\n",
       "      <td>1</td>\n",
       "      <td>0.0</td>\n",
       "      <td>0.6</td>\n",
       "      <td>\"Check in was easy\"</td>\n",
       "      <td>2019-04-06</td>\n",
       "      <td>Australia</td>\n",
       "      <td>Check in was easy and boarding I was in zone o...</td>\n",
       "      <td>Economy Class</td>\n",
       "      <td>A320</td>\n",
       "      <td>3x3</td>\n",
       "      <td>...</td>\n",
       "      <td>airasia</td>\n",
       "      <td>AirAsia</td>\n",
       "      <td>NaN</td>\n",
       "      <td>NaN</td>\n",
       "      <td>NaN</td>\n",
       "      <td>NaN</td>\n",
       "      <td>NaN</td>\n",
       "      <td>NaN</td>\n",
       "      <td>NaN</td>\n",
       "      <td>check easy boarding zone think paid check kg l...</td>\n",
       "    </tr>\n",
       "    <tr>\n",
       "      <th>2</th>\n",
       "      <td>2</td>\n",
       "      <td>5.0</td>\n",
       "      <td>0.7</td>\n",
       "      <td>\"A solid experience\"</td>\n",
       "      <td>2019-04-01</td>\n",
       "      <td>Australia</td>\n",
       "      <td>A solid experience from start to finish, espec...</td>\n",
       "      <td>Economy Class</td>\n",
       "      <td>A320</td>\n",
       "      <td>3x3</td>\n",
       "      <td>...</td>\n",
       "      <td>airasia</td>\n",
       "      <td>AirAsia</td>\n",
       "      <td>NaN</td>\n",
       "      <td>NaN</td>\n",
       "      <td>NaN</td>\n",
       "      <td>NaN</td>\n",
       "      <td>NaN</td>\n",
       "      <td>NaN</td>\n",
       "      <td>NaN</td>\n",
       "      <td>solid experience start finish especially given...</td>\n",
       "    </tr>\n",
       "    <tr>\n",
       "      <th>3</th>\n",
       "      <td>3</td>\n",
       "      <td>0.0</td>\n",
       "      <td>0.1</td>\n",
       "      <td>\"my 4yr old and I allocated different seats\"</td>\n",
       "      <td>2018-01-14</td>\n",
       "      <td>Australia</td>\n",
       "      <td>I discovered upon boarding that my four-year-o...</td>\n",
       "      <td>Economy Class</td>\n",
       "      <td>A330-300</td>\n",
       "      <td>3x3x3</td>\n",
       "      <td>...</td>\n",
       "      <td>airasia</td>\n",
       "      <td>AirAsia</td>\n",
       "      <td>NaN</td>\n",
       "      <td>NaN</td>\n",
       "      <td>NaN</td>\n",
       "      <td>NaN</td>\n",
       "      <td>NaN</td>\n",
       "      <td>NaN</td>\n",
       "      <td>NaN</td>\n",
       "      <td>discovered upon boarding four year old allocat...</td>\n",
       "    </tr>\n",
       "    <tr>\n",
       "      <th>4</th>\n",
       "      <td>4</td>\n",
       "      <td>1.0</td>\n",
       "      <td>0.7</td>\n",
       "      <td>\"space between was relatively good\"</td>\n",
       "      <td>2017-08-24</td>\n",
       "      <td>Indonesia</td>\n",
       "      <td>I got 14A seat, near emergency exit door. So t...</td>\n",
       "      <td>Economy Class</td>\n",
       "      <td>A320</td>\n",
       "      <td>3x3</td>\n",
       "      <td>...</td>\n",
       "      <td>airasia</td>\n",
       "      <td>AirAsia</td>\n",
       "      <td>NaN</td>\n",
       "      <td>NaN</td>\n",
       "      <td>NaN</td>\n",
       "      <td>NaN</td>\n",
       "      <td>NaN</td>\n",
       "      <td>NaN</td>\n",
       "      <td>NaN</td>\n",
       "      <td>got seat near emergency exit different standar...</td>\n",
       "    </tr>\n",
       "  </tbody>\n",
       "</table>\n",
       "<p>5 rows × 28 columns</p>\n",
       "</div>"
      ],
      "text/plain": [
       "   Unnamed: 0  author_review_count  rating  \\\n",
       "0           0                  0.0     0.3   \n",
       "1           1                  0.0     0.6   \n",
       "2           2                  5.0     0.7   \n",
       "3           3                  0.0     0.1   \n",
       "4           4                  1.0     0.7   \n",
       "\n",
       "                                          title        date   location  \\\n",
       "0                    \"seat was not comfortable\"  2019-07-22   Malaysia   \n",
       "1                           \"Check in was easy\"  2019-04-06  Australia   \n",
       "2                          \"A solid experience\"  2019-04-01  Australia   \n",
       "3  \"my 4yr old and I allocated different seats\"  2018-01-14  Australia   \n",
       "4           \"space between was relatively good\"  2017-08-24  Indonesia   \n",
       "\n",
       "                                                body      Seat Type  \\\n",
       "0  With their newer A320 aircraft leg room is awf...  Economy Class   \n",
       "1  Check in was easy and boarding I was in zone o...  Economy Class   \n",
       "2  A solid experience from start to finish, espec...  Economy Class   \n",
       "3  I discovered upon boarding that my four-year-o...  Economy Class   \n",
       "4  I got 14A seat, near emergency exit door. So t...  Economy Class   \n",
       "\n",
       "  Aircraft Type Seat Layout  ... airline_slug  airline  Viewing Tv Screen  \\\n",
       "0          A320         3x3  ...      airasia  AirAsia                NaN   \n",
       "1          A320         3x3  ...      airasia  AirAsia                NaN   \n",
       "2          A320         3x3  ...      airasia  AirAsia                NaN   \n",
       "3      A330-300       3x3x3  ...      airasia  AirAsia                NaN   \n",
       "4          A320         3x3  ...      airasia  AirAsia                NaN   \n",
       "\n",
       "   Power Supply  Sleep Comfort  Sitting Comfort  Seat/bed Width  \\\n",
       "0           NaN            NaN              NaN             NaN   \n",
       "1           NaN            NaN              NaN             NaN   \n",
       "2           NaN            NaN              NaN             NaN   \n",
       "3           NaN            NaN              NaN             NaN   \n",
       "4           NaN            NaN              NaN             NaN   \n",
       "\n",
       "  Seat/bed Length Seat Privacy  \\\n",
       "0             NaN          NaN   \n",
       "1             NaN          NaN   \n",
       "2             NaN          NaN   \n",
       "3             NaN          NaN   \n",
       "4             NaN          NaN   \n",
       "\n",
       "                                        cleaned_body  \n",
       "0  newer aircraft leg room awful seat comfortable...  \n",
       "1  check easy boarding zone think paid check kg l...  \n",
       "2  solid experience start finish especially given...  \n",
       "3  discovered upon boarding four year old allocat...  \n",
       "4  got seat near emergency exit different standar...  \n",
       "\n",
       "[5 rows x 28 columns]"
      ]
     },
     "execution_count": 4,
     "metadata": {},
     "output_type": "execute_result"
    }
   ],
   "source": [
    "df.head()"
   ]
  },
  {
   "cell_type": "code",
   "execution_count": 7,
   "id": "4cff763a",
   "metadata": {},
   "outputs": [],
   "source": [
    "# Count Vectorizer\n",
    "vect = CountVectorizer()  \n",
    "vectors = vect.fit_transform(df.cleaned_body)"
   ]
  },
  {
   "cell_type": "code",
   "execution_count": 13,
   "id": "17796e16",
   "metadata": {},
   "outputs": [
    {
     "name": "stdout",
     "output_type": "stream",
     "text": [
      "Fitting 5 folds for each of 3 candidates, totalling 15 fits\n",
      "[CV 1/5] END .................................n_components=2; total time=  49.4s\n",
      "[CV 2/5] END .................................n_components=2; total time=  57.4s\n",
      "[CV 3/5] END .................................n_components=2; total time=  36.2s\n",
      "[CV 4/5] END .................................n_components=2; total time=  55.8s\n",
      "[CV 5/5] END .................................n_components=2; total time=  59.3s\n",
      "[CV 1/5] END .................................n_components=4; total time=  40.3s\n",
      "[CV 2/5] END .................................n_components=4; total time=  36.6s\n",
      "[CV 3/5] END .................................n_components=4; total time=  46.8s\n",
      "[CV 4/5] END .................................n_components=4; total time=  45.7s\n",
      "[CV 5/5] END .................................n_components=4; total time=  56.0s\n",
      "[CV 1/5] END .................................n_components=6; total time=  41.0s\n",
      "[CV 2/5] END .................................n_components=6; total time=  45.7s\n",
      "[CV 3/5] END .................................n_components=6; total time=  38.8s\n",
      "[CV 4/5] END .................................n_components=6; total time=  33.1s\n",
      "[CV 5/5] END .................................n_components=6; total time=  32.3s\n",
      "Best LDA model's params {'n_components': 2}\n",
      "Best log likelihood Score for the LDA model -179934.286061876\n"
     ]
    },
    {
     "ename": "NameError",
     "evalue": "name 'document_term_matrix' is not defined",
     "output_type": "error",
     "traceback": [
      "\u001b[1;31m---------------------------------------------------------------------------\u001b[0m",
      "\u001b[1;31mNameError\u001b[0m                                 Traceback (most recent call last)",
      "\u001b[1;32m<ipython-input-13-a351a964cc90>\u001b[0m in \u001b[0;36m<module>\u001b[1;34m\u001b[0m\n\u001b[0;32m     12\u001b[0m \u001b[0mprint\u001b[0m\u001b[1;33m(\u001b[0m\u001b[1;34m\"Best LDA model's params\"\u001b[0m \u001b[1;33m,\u001b[0m \u001b[0mlda_model\u001b[0m\u001b[1;33m.\u001b[0m\u001b[0mbest_params_\u001b[0m\u001b[1;33m)\u001b[0m\u001b[1;33m\u001b[0m\u001b[1;33m\u001b[0m\u001b[0m\n\u001b[0;32m     13\u001b[0m \u001b[0mprint\u001b[0m\u001b[1;33m(\u001b[0m\u001b[1;34m\"Best log likelihood Score for the LDA model\"\u001b[0m\u001b[1;33m,\u001b[0m\u001b[0mlda_model\u001b[0m\u001b[1;33m.\u001b[0m\u001b[0mbest_score_\u001b[0m\u001b[1;33m)\u001b[0m\u001b[1;33m\u001b[0m\u001b[1;33m\u001b[0m\u001b[0m\n\u001b[1;32m---> 14\u001b[1;33m \u001b[0mprint\u001b[0m\u001b[1;33m(\u001b[0m\u001b[1;34m\"LDA model Perplexity on train data\"\u001b[0m\u001b[1;33m,\u001b[0m \u001b[0mlda_model1\u001b[0m\u001b[1;33m.\u001b[0m\u001b[0mperplexity\u001b[0m\u001b[1;33m(\u001b[0m\u001b[0mdocument_term_matrix\u001b[0m\u001b[1;33m)\u001b[0m\u001b[1;33m)\u001b[0m\u001b[1;33m\u001b[0m\u001b[1;33m\u001b[0m\u001b[0m\n\u001b[0m",
      "\u001b[1;31mNameError\u001b[0m: name 'document_term_matrix' is not defined"
     ]
    }
   ],
   "source": [
    "# Parameters tuning using Grid Search\n",
    "grid_params = {'n_components' : list(range(2,8,2))}\n",
    "# LDA model\n",
    "lda = LatentDirichletAllocation()\n",
    "lda_model = GridSearchCV(lda,param_grid=grid_params, verbose=3)\n",
    "lda_model.fit(vectors)\n",
    "# Estimators for LDA model\n",
    "lda_model1 = lda_model.best_estimator_\n"
   ]
  },
  {
   "cell_type": "code",
   "execution_count": 14,
   "id": "1493d36c",
   "metadata": {},
   "outputs": [
    {
     "name": "stdout",
     "output_type": "stream",
     "text": [
      "Best LDA model's params {'n_components': 2}\n",
      "Best log likelihood Score for the LDA model -179934.286061876\n",
      "LDA model Perplexity on train data 1149.5330035965799\n"
     ]
    }
   ],
   "source": [
    "print(\"Best LDA model's params\" , lda_model.best_params_)\n",
    "print(\"Best log likelihood Score for the LDA model\",lda_model.best_score_)\n",
    "print(\"LDA model Perplexity on train data\", lda_model1.perplexity(vectors))"
   ]
  },
  {
   "cell_type": "code",
   "execution_count": 23,
   "id": "56bd4c6d",
   "metadata": {},
   "outputs": [
    {
     "name": "stderr",
     "output_type": "stream",
     "text": [
      "C:\\Users\\Chiara\\anaconda3\\lib\\site-packages\\ipykernel\\ipkernel.py:287: DeprecationWarning: `should_run_async` will not call `transform_cell` automatically in the future. Please pass the result to `transformed_cell` argument and any exception that happen during thetransform in `preprocessing_exc_tuple` in IPython 7.17 and above.\n",
      "  and should_run_async(code)\n",
      "C:\\Users\\Chiara\\anaconda3\\lib\\site-packages\\sklearn\\manifold\\_t_sne.py:691: FutureWarning: 'square_distances' has been introduced in 0.24 to help phase out legacy squaring behavior. The 'legacy' setting will be removed in 1.1 (renaming of 0.26), and the default setting will be changed to True. In 1.3, 'square_distances' will be removed altogether, and distances will be squared by default. Set 'square_distances'=True to silence this warning.\n",
      "  warnings.warn(\n"
     ]
    },
    {
     "data": {
      "text/html": [
       "\n",
       "<link rel=\"stylesheet\" type=\"text/css\" href=\"https://cdn.jsdelivr.net/gh/bmabey/pyLDAvis@3.3.1/pyLDAvis/js/ldavis.v1.0.0.css\">\n",
       "\n",
       "\n",
       "<div id=\"ldavis_el1452818569830612168178203312\"></div>\n",
       "<script type=\"text/javascript\">\n",
       "\n",
       "var ldavis_el1452818569830612168178203312_data = {\"mdsDat\": {\"x\": [-60.31231689453125, 60.31256103515625], \"y\": [141.36962890625, -141.369140625], \"topics\": [1, 2], \"cluster\": [1, 1], \"Freq\": [61.92922372977733, 38.07077627022267]}, \"tinfo\": {\"Term\": [\"seat\", \"screen\", \"good\", \"comfortable\", \"legroom\", \"window\", \"ife\", \"enough\", \"time\", \"entertainment\", \"power\", \"storage\", \"row\", \"space\", \"width\", \"usb\", \"table\", \"ever\", \"system\", \"recline\", \"worst\", \"never\", \"rest\", \"headrest\", \"nice\", \"fly\", \"aircraft\", \"movie\", \"port\", \"pocket\", \"tui\", \"worst\", \"money\", \"customer\", \"etihad\", \"london\", \"france\", \"ever\", \"job\", \"jamaica\", \"upgrade\", \"amsterdam\", \"abu\", \"dhabi\", \"wait\", \"delayed\", \"told\", \"acceptable\", \"travelled\", \"heathrow\", \"refund\", \"australia\", \"british\", \"europe\", \"buy\", \"needed\", \"rude\", \"american\", \"klm\", \"complained\", \"never\", \"expected\", \"time\", \"fly\", \"pay\", \"delta\", \"ticket\", \"awful\", \"paid\", \"air\", \"staff\", \"return\", \"uncomfortable\", \"flying\", \"airline\", \"long\", \"flight\", \"experience\", \"travel\", \"hour\", \"premium\", \"food\", \"service\", \"economy\", \"haul\", \"flew\", \"extra\", \"seat\", \"leg\", \"average\", \"crew\", \"get\", \"plane\", \"would\", \"comfort\", \"back\", \"room\", \"class\", \"even\", \"front\", \"passenger\", \"cabin\", \"boeing\", \"recline\", \"good\", \"could\", \"usb\", \"port\", \"adjustable\", \"power\", \"supply\", \"deck\", \"touchscreen\", \"socket\", \"storage\", \"leather\", \"ample\", \"remote\", \"upper\", \"bin\", \"privacy\", \"perfect\", \"pocket\", \"resolution\", \"outlet\", \"earphone\", \"controller\", \"colour\", \"liked\", \"yyz\", \"vistara\", \"bright\", \"equipped\", \"icn\", \"charger\", \"ptv\", \"noise\", \"music\", \"touch\", \"headrest\", \"headphone\", \"view\", \"screen\", \"ife\", \"easy\", \"wall\", \"window\", \"table\", \"spacious\", \"comfortable\", \"enough\", \"good\", \"legroom\", \"overhead\", \"seat\", \"entertainment\", \"system\", \"width\", \"personal\", \"movie\", \"row\", \"space\", \"nice\", \"recline\", \"rest\", \"side\", \"aircraft\", \"tv\", \"quite\", \"front\", \"tray\", \"flight\", \"aisle\", \"small\", \"leg\", \"economy\", \"cabin\", \"room\", \"back\", \"class\", \"new\", \"could\", \"great\", \"passenger\"], \"Freq\": [6763.0, 535.0, 990.0, 736.0, 733.0, 319.0, 268.0, 343.0, 579.0, 453.0, 147.0, 140.0, 576.0, 549.0, 306.0, 116.0, 165.0, 254.0, 242.0, 693.0, 207.0, 236.0, 262.0, 101.0, 207.0, 319.0, 459.0, 160.0, 78.0, 84.0, 92.66708701594546, 205.92012835857577, 112.21649676062633, 94.35623706948061, 74.71071573407657, 94.32188850534436, 69.0811926336579, 252.54944856888213, 55.90077817685991, 45.63282568190929, 74.45168196306456, 51.17261523789989, 39.972803181478, 38.09016785186357, 40.875312440606706, 34.305774473281545, 60.26217528916898, 122.37236378552142, 49.102349029161154, 41.667793572523706, 31.47807414800608, 30.546593168199436, 72.19952600903564, 37.020238049066776, 30.515569898526635, 35.12481857940442, 27.718176280470608, 83.1339063127642, 115.46274650761022, 26.760441097524662, 231.0306791105481, 87.57351342453859, 555.2678286192199, 304.29047434242443, 125.11996294885233, 71.52424045747334, 76.83973625303494, 74.65646562493083, 151.394563911755, 304.15548174653605, 192.8134336295334, 228.21054031275068, 451.7164941819492, 231.46119749026298, 716.8645711821323, 397.9234900446722, 1798.4701369369197, 241.18204715720992, 116.25119647432, 577.5806776264587, 347.04402406388164, 345.8958634240965, 400.7006153342761, 958.4666276122924, 277.29300235867447, 260.72128038345886, 314.33423317439957, 3557.279360663043, 639.9269790715045, 202.59670049447223, 239.24583268452028, 416.7575296801326, 375.56026722408967, 355.8355152409979, 229.27616251175016, 429.6317404114232, 416.92152051168455, 399.5043697419853, 315.0435145279965, 445.67300483964686, 312.0783652153969, 334.73444992444024, 297.32320468938826, 332.7912414869229, 315.90712254394964, 265.8964445807262, 116.26448080821926, 77.6566621718238, 54.13892683115448, 146.4893944183808, 42.837064762562946, 65.95424737781819, 34.35658235426591, 40.847333143317336, 137.78250942502802, 54.499478448589194, 30.48112075095331, 35.95552257871275, 61.742735670105894, 24.814545730157743, 40.400975039672524, 30.115776937103625, 82.12956607332924, 15.510990059188645, 40.96265737878626, 16.35910301226772, 13.62683208993116, 13.622614653217468, 21.79113736321321, 16.325618904180438, 13.594703730948343, 11.748394440372063, 11.737602999155907, 11.729671439153142, 13.527069430033798, 48.67578709094609, 38.61516883343988, 36.81795076738759, 73.81858271740174, 95.59931713493854, 57.778938036083346, 61.89495662565948, 469.4607191474636, 237.9457785938598, 74.73203036951108, 47.24416344243762, 268.60562778538366, 143.6041922935469, 82.59141891543477, 527.8673995936924, 263.2012841686577, 674.9572052949262, 508.1455491914437, 78.70396461744946, 3206.176252308466, 309.80534830910096, 180.39316777740228, 219.30500257517105, 87.29102085556138, 123.48748864966922, 341.4422008409749, 327.67447300998896, 149.72132147703576, 360.2683433341252, 174.8651014354053, 119.57021845595925, 251.0562878189756, 180.02902195214114, 147.56486876009154, 343.33484410156467, 128.04900923407317, 582.9344301165924, 196.8705608897843, 163.678839541443, 290.13862198803656, 334.86126366643214, 211.31725016770582, 216.64371245253557, 213.33770496413894, 205.81696566689257, 180.0260872449167, 166.23607233580373, 158.5160997008822, 160.50505084282787], \"Total\": [6763.0, 535.0, 990.0, 736.0, 733.0, 319.0, 268.0, 343.0, 579.0, 453.0, 147.0, 140.0, 576.0, 549.0, 306.0, 116.0, 165.0, 254.0, 242.0, 693.0, 207.0, 236.0, 262.0, 101.0, 207.0, 319.0, 459.0, 160.0, 78.0, 84.0, 93.1517533061573, 207.0039063952027, 112.91137798032376, 95.03388295508675, 75.27440333017917, 95.03393479309717, 69.6288626501232, 254.99284582399656, 56.456002099111096, 46.105764441059186, 75.27479425761376, 51.7514405447826, 40.46026978995039, 38.578432144266706, 41.40124718148744, 34.81478571243895, 61.1611171674592, 124.2041242314762, 49.86988606703138, 42.34239062478294, 31.99203489929388, 31.051101231167415, 73.39351428341949, 37.63770741971595, 31.051148050726237, 35.75588906754259, 28.228351499440507, 84.68508562136867, 117.6181760018125, 27.28745745351481, 236.17853269581298, 89.39008265709529, 579.6430962203615, 319.93618064781634, 129.85401424069016, 73.39453340786505, 79.04054801025804, 77.15916407601455, 160.91156265807868, 335.01381535854483, 208.9083655713817, 250.31788032709636, 515.7202916842749, 257.8516900063514, 862.1010493019207, 462.0881268934392, 2381.404567053512, 271.97211108442156, 124.21336214754571, 710.594603880674, 408.4515650620418, 407.51095840156233, 482.8154033257468, 1293.3278912787246, 328.4579795006072, 310.57853984574876, 393.42349889563064, 6763.455612971509, 930.0656010595411, 237.16378399769388, 289.8794824645256, 577.0251142681615, 512.0658670544927, 486.65247038384143, 277.64411577317924, 642.9694453755621, 633.5652329642201, 605.3213354088779, 446.19343690676243, 789.0078489412115, 472.58341605822477, 546.0517000921461, 451.8742165838827, 693.059584821048, 990.8643278388759, 432.13251691652994, 116.84920766433338, 78.21333311117897, 54.65490860701558, 147.94509461551235, 43.346844729232195, 66.90466563993806, 34.86579066391148, 41.4620075522005, 140.40461880768058, 55.59637134659464, 31.096273030058935, 36.750038956844854, 63.13464161172132, 25.44221751722029, 41.46133493455706, 31.095722492960775, 84.806509303213, 16.019003737814938, 42.40310075830498, 16.961201184244295, 14.134325649865072, 14.134319294603578, 22.614903267421308, 16.961150726994333, 14.134277235593853, 12.24965618187318, 12.249639920234994, 12.249627968155185, 14.134175317371506, 50.88299849878999, 40.51772447686922, 38.63317739877857, 78.20754950396245, 101.76335651904563, 61.246829711899395, 65.95762926525782, 535.1496637543157, 268.52059662034776, 81.97260367491289, 50.88084118314082, 319.3764468775569, 165.81821595374583, 94.2163995084685, 736.5944335668792, 343.8322080850194, 990.8643278388759, 733.741956411811, 90.44686380280976, 6763.455612971509, 453.9900084046782, 242.08812664394418, 306.1292837636179, 102.69175615981196, 160.14238552221147, 576.3572071227237, 549.0497972228568, 207.22788851384652, 693.059584821048, 262.78002371803063, 160.13648258236793, 459.54699590776613, 289.13354910496474, 222.27934973399888, 789.0078489412115, 186.49500315185855, 2381.404567053512, 389.8373059958868, 292.8725886880313, 930.0656010595411, 1293.3278912787246, 546.0517000921461, 633.5652329642201, 642.9694453755621, 605.3213354088779, 440.6215719236793, 432.13251691652994, 320.15147224012674, 472.58341605822477], \"Category\": [\"Default\", \"Default\", \"Default\", \"Default\", \"Default\", \"Default\", \"Default\", \"Default\", \"Default\", \"Default\", \"Default\", \"Default\", \"Default\", \"Default\", \"Default\", \"Default\", \"Default\", \"Default\", \"Default\", \"Default\", \"Default\", \"Default\", \"Default\", \"Default\", \"Default\", \"Default\", \"Default\", \"Default\", \"Default\", \"Default\", \"Topic1\", \"Topic1\", \"Topic1\", \"Topic1\", \"Topic1\", \"Topic1\", \"Topic1\", \"Topic1\", \"Topic1\", \"Topic1\", \"Topic1\", \"Topic1\", \"Topic1\", \"Topic1\", \"Topic1\", \"Topic1\", \"Topic1\", \"Topic1\", \"Topic1\", \"Topic1\", \"Topic1\", \"Topic1\", \"Topic1\", \"Topic1\", \"Topic1\", \"Topic1\", \"Topic1\", \"Topic1\", \"Topic1\", \"Topic1\", \"Topic1\", \"Topic1\", \"Topic1\", \"Topic1\", \"Topic1\", \"Topic1\", \"Topic1\", \"Topic1\", \"Topic1\", \"Topic1\", \"Topic1\", \"Topic1\", \"Topic1\", \"Topic1\", \"Topic1\", \"Topic1\", \"Topic1\", \"Topic1\", \"Topic1\", \"Topic1\", \"Topic1\", \"Topic1\", \"Topic1\", \"Topic1\", \"Topic1\", \"Topic1\", \"Topic1\", \"Topic1\", \"Topic1\", \"Topic1\", \"Topic1\", \"Topic1\", \"Topic1\", \"Topic1\", \"Topic1\", \"Topic1\", \"Topic1\", \"Topic1\", \"Topic1\", \"Topic1\", \"Topic1\", \"Topic1\", \"Topic1\", \"Topic1\", \"Topic1\", \"Topic1\", \"Topic2\", \"Topic2\", \"Topic2\", \"Topic2\", \"Topic2\", \"Topic2\", \"Topic2\", \"Topic2\", \"Topic2\", \"Topic2\", \"Topic2\", \"Topic2\", \"Topic2\", \"Topic2\", \"Topic2\", \"Topic2\", \"Topic2\", \"Topic2\", \"Topic2\", \"Topic2\", \"Topic2\", \"Topic2\", \"Topic2\", \"Topic2\", \"Topic2\", \"Topic2\", \"Topic2\", \"Topic2\", \"Topic2\", \"Topic2\", \"Topic2\", \"Topic2\", \"Topic2\", \"Topic2\", \"Topic2\", \"Topic2\", \"Topic2\", \"Topic2\", \"Topic2\", \"Topic2\", \"Topic2\", \"Topic2\", \"Topic2\", \"Topic2\", \"Topic2\", \"Topic2\", \"Topic2\", \"Topic2\", \"Topic2\", \"Topic2\", \"Topic2\", \"Topic2\", \"Topic2\", \"Topic2\", \"Topic2\", \"Topic2\", \"Topic2\", \"Topic2\", \"Topic2\", \"Topic2\", \"Topic2\", \"Topic2\", \"Topic2\", \"Topic2\", \"Topic2\", \"Topic2\", \"Topic2\", \"Topic2\", \"Topic2\", \"Topic2\", \"Topic2\", \"Topic2\", \"Topic2\", \"Topic2\", \"Topic2\", \"Topic2\", \"Topic2\", \"Topic2\"], \"logprob\": [30.0, 29.0, 28.0, 27.0, 26.0, 25.0, 24.0, 23.0, 22.0, 21.0, 20.0, 19.0, 18.0, 17.0, 16.0, 15.0, 14.0, 13.0, 12.0, 11.0, 10.0, 9.0, 8.0, 7.0, 6.0, 5.0, 4.0, 3.0, 2.0, 1.0, -6.6516, -5.8532, -6.4602, -6.6336, -6.867, -6.6339, -6.9454, -5.649, -7.1571, -7.36, -6.8705, -7.2454, -7.4924, -7.5407, -7.4701, -7.6453, -7.0819, -6.3736, -7.2867, -7.4509, -7.7314, -7.7614, -6.9012, -7.5692, -7.7624, -7.6217, -7.8586, -6.7602, -6.4317, -7.8937, -5.7381, -6.7082, -4.8612, -5.4627, -6.3514, -6.9106, -6.8389, -6.8678, -6.1608, -5.4631, -5.9189, -5.7504, -5.0676, -5.7362, -4.6058, -5.1944, -3.686, -5.6951, -6.4249, -4.8218, -5.3312, -5.3345, -5.1874, -4.3153, -5.5556, -5.6172, -5.4302, -3.0039, -4.7193, -5.8694, -5.7032, -5.1481, -5.2522, -5.3062, -5.7457, -5.1177, -5.1478, -5.1904, -5.4279, -5.0811, -5.4374, -5.3673, -5.4858, -5.3731, -5.4252, -5.5975, -5.9382, -6.3418, -6.7026, -5.7072, -6.9367, -6.5051, -7.1573, -6.9843, -5.7684, -6.6959, -7.277, -7.1118, -6.5711, -7.4827, -6.9952, -7.2891, -6.2858, -7.9526, -6.9814, -7.8993, -8.0821, -8.0824, -7.6126, -7.9014, -8.0844, -8.2304, -8.2313, -8.232, -8.0894, -6.8089, -7.0405, -7.0881, -6.3925, -6.1339, -6.6375, -6.5687, -4.5425, -5.2221, -6.3802, -6.8388, -5.1009, -5.727, -6.2802, -4.4253, -5.1212, -4.1795, -4.4633, -6.3284, -2.6213, -4.9582, -5.499, -5.3036, -6.2249, -5.878, -4.8609, -4.9021, -5.6853, -4.8073, -5.5301, -5.9102, -5.1684, -5.501, -5.6998, -4.8554, -5.8417, -4.326, -5.4116, -5.5962, -5.0237, -4.8804, -5.3407, -5.3158, -5.3312, -5.3671, -5.501, -5.5807, -5.6282, -5.6158], \"loglift\": [30.0, 29.0, 28.0, 27.0, 26.0, 25.0, 24.0, 23.0, 22.0, 21.0, 20.0, 19.0, 18.0, 17.0, 16.0, 15.0, 14.0, 13.0, 12.0, 11.0, 10.0, 9.0, 8.0, 7.0, 6.0, 5.0, 4.0, 3.0, 2.0, 1.0, 0.474, 0.4739, 0.473, 0.472, 0.4717, 0.4717, 0.4713, 0.4695, 0.4693, 0.4689, 0.4682, 0.4679, 0.4671, 0.4664, 0.4664, 0.4644, 0.4644, 0.4643, 0.4637, 0.4631, 0.463, 0.4628, 0.4628, 0.4626, 0.4618, 0.4614, 0.4609, 0.4607, 0.4607, 0.4597, 0.4571, 0.4586, 0.4362, 0.429, 0.442, 0.4534, 0.4509, 0.4462, 0.4182, 0.3825, 0.399, 0.3867, 0.3467, 0.3712, 0.2947, 0.3297, 0.1984, 0.359, 0.4129, 0.2719, 0.3163, 0.3152, 0.2928, 0.1795, 0.3098, 0.3042, 0.2547, -0.1634, 0.1053, 0.3216, 0.2872, 0.1538, 0.1691, 0.1661, 0.2878, 0.076, 0.0607, 0.0636, 0.1311, -0.092, 0.0642, -0.0102, 0.0606, -0.2544, -0.664, -0.0064, 0.9607, 0.9586, 0.9562, 0.9558, 0.9539, 0.9514, 0.951, 0.9508, 0.9469, 0.9458, 0.9457, 0.9439, 0.9434, 0.9407, 0.9398, 0.9337, 0.9336, 0.9335, 0.9312, 0.9296, 0.9292, 0.9288, 0.9286, 0.9275, 0.9268, 0.9239, 0.923, 0.9223, 0.9218, 0.9214, 0.9176, 0.9176, 0.908, 0.9032, 0.9074, 0.9021, 0.8348, 0.8448, 0.8732, 0.8916, 0.7926, 0.8219, 0.834, 0.6325, 0.6985, 0.5818, 0.5983, 0.8267, 0.2193, 0.5836, 0.6716, 0.6322, 0.8032, 0.7058, 0.4422, 0.4496, 0.6407, 0.3115, 0.5584, 0.6736, 0.3612, 0.492, 0.5561, 0.1337, 0.5897, -0.4416, 0.2825, 0.3839, -0.1992, -0.3855, 0.0164, -0.1074, -0.1375, -0.113, 0.0706, 0.0104, 0.2628, -0.1142]}, \"token.table\": {\"Topic\": [1, 1, 2, 1, 2, 1, 2, 1, 2, 1, 2, 1, 2, 1, 2, 1, 2, 1, 2, 1, 2, 1, 2, 1, 2, 1, 2, 1, 2, 1, 2, 1, 2, 1, 2, 1, 2, 1, 2, 1, 2, 1, 2, 1, 2, 1, 2, 1, 2, 1, 2, 1, 2, 1, 2, 1, 2, 1, 2, 1, 2, 1, 2, 1, 2, 1, 1, 2, 1, 2, 1, 2, 1, 2, 1, 2, 1, 2, 1, 2, 1, 2, 1, 2, 1, 2, 1, 2, 1, 2, 1, 2, 1, 2, 1, 2, 1, 2, 1, 2, 1, 2, 1, 2, 1, 2, 1, 2, 1, 2, 1, 2, 1, 2, 1, 2, 1, 2, 1, 2, 1, 2, 1, 2, 1, 2, 1, 1, 2, 1, 2, 1, 2, 1, 2, 1, 2, 1, 2, 1, 2, 1, 2, 1, 2, 1, 2, 1, 2, 1, 2, 1, 2, 1, 2, 1, 2, 1, 2, 1, 2, 1, 2, 1, 2, 1, 2, 1, 2, 1, 2, 1, 2, 1, 2, 1, 2, 1, 2, 1, 2, 1, 2, 1, 2, 1, 2, 1, 2, 1, 2, 1, 2, 1, 2, 1, 2, 1, 2, 1, 2, 1, 2, 1, 2, 1, 2, 1, 2, 1, 2, 1, 2, 1, 2, 1, 2, 1, 2, 1, 2, 1, 2, 1, 2, 1, 2, 1, 2, 1, 2, 1, 2, 1, 2, 1, 2, 1, 2, 1, 2, 1, 2, 1, 2, 1, 2, 1, 2, 1, 1, 2, 1, 2, 1, 2, 1, 2, 1, 2, 1, 2, 1, 2, 1, 2, 1, 2, 1, 2, 1, 2, 1, 2, 1, 2, 1, 2], \"Freq\": [0.9886241542051034, 0.9822540173676646, 0.01610252487487975, 0.018296618281631132, 0.9880173872080812, 0.9074252644615487, 0.0925334973628553, 0.45261964902877283, 0.5461900572414518, 0.831689046870532, 0.16819374030157203, 0.49507832378165556, 0.5053390144299801, 0.9801017427212299, 0.023616909463162167, 0.03215819461815758, 0.9647458385447275, 0.9854798139554716, 0.01932313360697003, 0.9983542860271853, 0.03220497696861888, 0.8559485625426432, 0.14757733836942125, 0.9720167513234408, 0.03888067005293763, 0.6687720592210016, 0.3312754618931938, 0.03930475004087835, 0.9826187510219587, 0.6572625502850904, 0.34301580907134344, 0.08163494429172485, 0.9796193315006982, 0.9810131140738371, 0.013625182139914404, 0.9983527806880866, 0.03220492840929312, 0.6134950224373787, 0.3864102977142893, 0.07075050206650241, 0.9905070289310337, 0.6608060489554874, 0.340315115212076, 0.07074978137658144, 0.9904969392721402, 0.8247968784149601, 0.17288318848872525, 0.28373822890289846, 0.7168123677546909, 0.9894655830795337, 0.036646873447390135, 0.07074974956513373, 0.9904964939118723, 0.61555191888367, 0.38414142306274146, 0.8244805667791543, 0.17593518370601202, 0.9891209016938162, 0.010522562783976768, 0.014946640722811716, 0.9864782877055733, 0.9765965610367714, 0.028723428265787394, 0.9809994921540626, 0.027249985893168405, 0.9850063335362199, 0.05895808847128859, 0.9433294155406174, 0.08539438405251361, 0.9149398291340745, 0.7407247662870836, 0.2590217084615585, 0.23558002448674364, 0.7649079807409084, 0.31718759737910596, 0.6828344110244643, 0.08163505266372077, 0.9796206319646492, 0.9963546263000512, 0.01328472835066735, 0.983056688001621, 0.026569099675719486, 0.7059718363043137, 0.293594636685286, 0.9921846990743729, 0.007843357304935754, 0.9844492519105534, 0.02237384663433076, 0.8861202681373177, 0.11398227515459274, 0.7981221276345252, 0.20080142701632958, 0.8403671423325889, 0.1609898740100745, 0.7550166086330503, 0.24481350546889227, 0.950189501495116, 0.050009973762900846, 0.8958638199901269, 0.10083315722832596, 0.8490569219467485, 0.1521431478632902, 0.9909683624550475, 0.01436186032543547, 0.5652668735786318, 0.43472317855935133, 0.7226721847780913, 0.2772842915215698, 0.31891348908403194, 0.6812234339611443, 0.5060104795597921, 0.49663991512349964, 0.8433346646689943, 0.1552710032423058, 0.048982127142119525, 0.9469877914143109, 0.05896031936483014, 0.9433651098372823, 0.9919137625502293, 0.023616994346434033, 0.813403305968617, 0.1871671967021212, 0.08163513231582671, 0.9796215877899205, 0.11544738239886253, 0.886337968094493, 0.997706047338302, 0.9919228765382543, 0.017712908509611682, 0.9777400390754899, 0.017004174592617216, 0.01798678539226736, 0.9712864111824374, 0.688123503622653, 0.3118059625790146, 0.3080101908104026, 0.6923414908481615, 0.0442186282282527, 0.9728098210215593, 0.9891203621595991, 0.010522557044251054, 0.8613075663200964, 0.13850171920725168, 0.9919283778426424, 0.008856503373595021, 0.2310443913979798, 0.7680664903230139, 0.05176897513128786, 0.9577260399288254, 0.9788597322775355, 0.0279674209222153, 0.9780736520093353, 0.02117042536816743, 0.5923450339948589, 0.4085138165481786, 0.2798851082060056, 0.7238407970844972, 0.049361113582322744, 0.9625417148552936, 0.02358318099659592, 0.9669104208604327, 0.1326745836777949, 0.8734410092121496, 0.9384036641348156, 0.06214593802217322, 0.6602009071802891, 0.3406805963334184, 0.962619451781498, 0.03850477807125992, 0.03215876396589186, 0.9647629189767558, 0.1460682002229717, 0.8471955612932358, 0.7342805373121795, 0.26754370641427816, 0.035374643109928605, 0.9669069116713819, 0.012785543848112398, 0.9972724201527671, 0.006759264324368805, 0.9868525913578455, 0.8495499336556401, 0.14934451283283587, 0.024118856799435158, 0.9647542719774064, 0.039305859697862745, 0.9629935625976372, 0.3374132598900991, 0.6658288328497955, 0.48047816853435843, 0.5194358578749821, 0.9689911910131176, 0.031257780355261854, 0.02721085550886867, 0.9795907983192721, 0.06242585471400885, 0.9988136754241416, 0.3348808587308225, 0.6659562531578856, 0.9108418451852778, 0.08788824821963206, 0.6581800551918063, 0.34250616780964505, 0.40773325482153894, 0.5916469782729565, 0.9919105619949138, 0.03542537721410406, 0.12332998499332, 0.8763903479070769, 0.5259145921173924, 0.47401804394949687, 0.8305451674445701, 0.1698371664101116, 0.25603160091212324, 0.7493607831574338, 0.4404645739564625, 0.5599704661151926, 0.024118465531149307, 0.9888570867771217, 0.40251358094992085, 0.5973957219528238, 0.1273663615103589, 0.8809506671133158, 0.9238500309555772, 0.07658860360253489, 0.021366818452812113, 0.9828736488293572, 0.023069729901831152, 0.9919983857787394, 0.2561050839605517, 0.7435308889177308, 0.13267541128374455, 0.868420873857237, 0.9741835290667114, 0.025303468287447048, 0.9574857418624495, 0.04140478883729511, 0.9810154356029819, 0.016350257260049697, 0.05114595746024924, 0.9462002130146109, 0.028681408938621016, 0.9751679039131146, 0.9338769838804497, 0.06440530923313446, 0.9825568868181863, 0.020052181363636457, 0.3110002896580127, 0.6863454668314762, 0.9983709023097124, 0.37698842053237314, 0.622549685282818, 0.8764440866265456, 0.12409827775243124, 0.9830647925353204, 0.01328465935858541, 0.01583916490965467, 0.9820282243985896, 0.008558038346932122, 0.9927324482441263, 0.06064499352930714, 0.9399973997042607, 0.07074999190490867, 0.9904998866687214, 0.9903083310575518, 0.024153861733111022, 0.0786150524831611, 0.9237268666771429, 0.2841936548193093, 0.7153840276486061, 0.15968616502128122, 0.8422662429553852, 0.9951503021721431, 0.00483082670957351, 0.7315281883172383, 0.2691859344650512, 0.058958263864046734, 0.9433322218247477], \"Term\": [\"abu\", \"acceptable\", \"acceptable\", \"adjustable\", \"adjustable\", \"air\", \"air\", \"aircraft\", \"aircraft\", \"airline\", \"airline\", \"aisle\", \"aisle\", \"american\", \"american\", \"ample\", \"ample\", \"amsterdam\", \"amsterdam\", \"australia\", \"australia\", \"average\", \"average\", \"awful\", \"awful\", \"back\", \"back\", \"bin\", \"bin\", \"boeing\", \"boeing\", \"bright\", \"bright\", \"british\", \"british\", \"buy\", \"buy\", \"cabin\", \"cabin\", \"charger\", \"charger\", \"class\", \"class\", \"colour\", \"colour\", \"comfort\", \"comfort\", \"comfortable\", \"comfortable\", \"complained\", \"complained\", \"controller\", \"controller\", \"could\", \"could\", \"crew\", \"crew\", \"customer\", \"customer\", \"deck\", \"deck\", \"delayed\", \"delayed\", \"delta\", \"delta\", \"dhabi\", \"earphone\", \"earphone\", \"easy\", \"easy\", \"economy\", \"economy\", \"enough\", \"enough\", \"entertainment\", \"entertainment\", \"equipped\", \"equipped\", \"etihad\", \"etihad\", \"europe\", \"europe\", \"even\", \"even\", \"ever\", \"ever\", \"expected\", \"expected\", \"experience\", \"experience\", \"extra\", \"extra\", \"flew\", \"flew\", \"flight\", \"flight\", \"fly\", \"fly\", \"flying\", \"flying\", \"food\", \"food\", \"france\", \"france\", \"front\", \"front\", \"get\", \"get\", \"good\", \"good\", \"great\", \"great\", \"haul\", \"haul\", \"headphone\", \"headphone\", \"headrest\", \"headrest\", \"heathrow\", \"heathrow\", \"hour\", \"hour\", \"icn\", \"icn\", \"ife\", \"ife\", \"jamaica\", \"job\", \"job\", \"klm\", \"klm\", \"leather\", \"leather\", \"leg\", \"leg\", \"legroom\", \"legroom\", \"liked\", \"liked\", \"london\", \"london\", \"long\", \"long\", \"money\", \"money\", \"movie\", \"movie\", \"music\", \"music\", \"needed\", \"needed\", \"never\", \"never\", \"new\", \"new\", \"nice\", \"nice\", \"noise\", \"noise\", \"outlet\", \"outlet\", \"overhead\", \"overhead\", \"paid\", \"paid\", \"passenger\", \"passenger\", \"pay\", \"pay\", \"perfect\", \"perfect\", \"personal\", \"personal\", \"plane\", \"plane\", \"pocket\", \"pocket\", \"port\", \"port\", \"power\", \"power\", \"premium\", \"premium\", \"privacy\", \"privacy\", \"ptv\", \"ptv\", \"quite\", \"quite\", \"recline\", \"recline\", \"refund\", \"refund\", \"remote\", \"remote\", \"resolution\", \"resolution\", \"rest\", \"rest\", \"return\", \"return\", \"room\", \"room\", \"row\", \"row\", \"rude\", \"rude\", \"screen\", \"screen\", \"seat\", \"seat\", \"service\", \"service\", \"side\", \"side\", \"small\", \"small\", \"socket\", \"socket\", \"space\", \"space\", \"spacious\", \"spacious\", \"staff\", \"staff\", \"storage\", \"storage\", \"supply\", \"supply\", \"system\", \"system\", \"table\", \"table\", \"ticket\", \"ticket\", \"time\", \"time\", \"told\", \"told\", \"touch\", \"touch\", \"touchscreen\", \"touchscreen\", \"travel\", \"travel\", \"travelled\", \"travelled\", \"tray\", \"tray\", \"tui\", \"tv\", \"tv\", \"uncomfortable\", \"uncomfortable\", \"upgrade\", \"upgrade\", \"upper\", \"upper\", \"usb\", \"usb\", \"view\", \"view\", \"vistara\", \"vistara\", \"wait\", \"wait\", \"wall\", \"wall\", \"width\", \"width\", \"window\", \"window\", \"worst\", \"worst\", \"would\", \"would\", \"yyz\", \"yyz\"]}, \"R\": 30, \"lambda.step\": 0.01, \"plot.opts\": {\"xlab\": \"PC1\", \"ylab\": \"PC2\"}, \"topic.order\": [1, 2]};\n",
       "\n",
       "function LDAvis_load_lib(url, callback){\n",
       "  var s = document.createElement('script');\n",
       "  s.src = url;\n",
       "  s.async = true;\n",
       "  s.onreadystatechange = s.onload = callback;\n",
       "  s.onerror = function(){console.warn(\"failed to load library \" + url);};\n",
       "  document.getElementsByTagName(\"head\")[0].appendChild(s);\n",
       "}\n",
       "\n",
       "if(typeof(LDAvis) !== \"undefined\"){\n",
       "   // already loaded: just create the visualization\n",
       "   !function(LDAvis){\n",
       "       new LDAvis(\"#\" + \"ldavis_el1452818569830612168178203312\", ldavis_el1452818569830612168178203312_data);\n",
       "   }(LDAvis);\n",
       "}else if(typeof define === \"function\" && define.amd){\n",
       "   // require.js is available: use it to load d3/LDAvis\n",
       "   require.config({paths: {d3: \"https://d3js.org/d3.v5\"}});\n",
       "   require([\"d3\"], function(d3){\n",
       "      window.d3 = d3;\n",
       "      LDAvis_load_lib(\"https://cdn.jsdelivr.net/gh/bmabey/pyLDAvis@3.3.1/pyLDAvis/js/ldavis.v3.0.0.js\", function(){\n",
       "        new LDAvis(\"#\" + \"ldavis_el1452818569830612168178203312\", ldavis_el1452818569830612168178203312_data);\n",
       "      });\n",
       "    });\n",
       "}else{\n",
       "    // require.js not available: dynamically load d3 & LDAvis\n",
       "    LDAvis_load_lib(\"https://d3js.org/d3.v5.js\", function(){\n",
       "         LDAvis_load_lib(\"https://cdn.jsdelivr.net/gh/bmabey/pyLDAvis@3.3.1/pyLDAvis/js/ldavis.v3.0.0.js\", function(){\n",
       "                 new LDAvis(\"#\" + \"ldavis_el1452818569830612168178203312\", ldavis_el1452818569830612168178203312_data);\n",
       "            })\n",
       "         });\n",
       "}\n",
       "</script>"
      ],
      "text/plain": [
       "PreparedData(topic_coordinates=               x           y  topics  cluster       Freq\n",
       "topic                                                   \n",
       "0     -60.312317  141.369629       1        1  61.929224\n",
       "1      60.312561 -141.369141       2        1  38.070776, topic_info=             Term         Freq        Total Category  logprob  loglift\n",
       "5496         seat  6763.000000  6763.000000  Default  30.0000  30.0000\n",
       "5479       screen   535.000000   535.000000  Default  29.0000  29.0000\n",
       "2736         good   990.000000   990.000000  Default  28.0000  28.0000\n",
       "1209  comfortable   736.000000   736.000000  Default  27.0000  27.0000\n",
       "3579      legroom   733.000000   733.000000  Default  26.0000  26.0000\n",
       "...           ...          ...          ...      ...      ...      ...\n",
       "1106        class   205.816966   605.321335   Topic2  -5.3671  -0.1130\n",
       "4126          new   180.026087   440.621572   Topic2  -5.5010   0.0706\n",
       "1443        could   166.236072   432.132517   Topic2  -5.5807   0.0104\n",
       "2761        great   158.516100   320.151472   Topic2  -5.6282   0.2628\n",
       "4467    passenger   160.505051   472.583416   Topic2  -5.6158  -0.1142\n",
       "\n",
       "[184 rows x 6 columns], token_table=      Topic      Freq        Term\n",
       "term                             \n",
       "23        1  0.988624         abu\n",
       "31        1  0.982254  acceptable\n",
       "31        2  0.016103  acceptable\n",
       "103       1  0.018297  adjustable\n",
       "103       2  0.988017  adjustable\n",
       "...     ...       ...         ...\n",
       "7129      2  0.004831       worst\n",
       "7134      1  0.731528       would\n",
       "7134      2  0.269186       would\n",
       "7185      1  0.058958         yyz\n",
       "7185      2  0.943332         yyz\n",
       "\n",
       "[278 rows x 3 columns], R=30, lambda_step=0.01, plot_opts={'xlab': 'PC1', 'ylab': 'PC2'}, topic_order=[1, 2])"
      ]
     },
     "execution_count": 23,
     "metadata": {},
     "output_type": "execute_result"
    }
   ],
   "source": [
    "pyLDAvis.enable_notebook()\n",
    "pyLDAvis.sklearn.prepare(lda_model1, vectors,vect,mds='tsne')"
   ]
  },
  {
   "cell_type": "markdown",
   "id": "3c2ad892",
   "metadata": {},
   "source": [
    "With just two topics it does not work well, we do not have two distinguished topics, plus I think it could work better with a TFIDF matrix instead of a simple count matrix.\n",
    "\n",
    "# Try with more hyperparemter tuning "
   ]
  },
  {
   "cell_type": "code",
   "execution_count": 25,
   "id": "36ed3415",
   "metadata": {},
   "outputs": [
    {
     "name": "stderr",
     "output_type": "stream",
     "text": [
      "C:\\Users\\Chiara\\anaconda3\\lib\\site-packages\\ipykernel\\ipkernel.py:287: DeprecationWarning: `should_run_async` will not call `transform_cell` automatically in the future. Please pass the result to `transformed_cell` argument and any exception that happen during thetransform in `preprocessing_exc_tuple` in IPython 7.17 and above.\n",
      "  and should_run_async(code)\n"
     ]
    },
    {
     "name": "stdout",
     "output_type": "stream",
     "text": [
      "Fitting 5 folds for each of 4 candidates, totalling 20 fits\n",
      "[CV 1/5] END .................................n_components=2; total time=  45.7s\n",
      "[CV 2/5] END .................................n_components=2; total time=  53.7s\n",
      "[CV 3/5] END .................................n_components=2; total time=  49.3s\n",
      "[CV 4/5] END .................................n_components=2; total time=  57.1s\n",
      "[CV 5/5] END .................................n_components=2; total time=  44.0s\n",
      "[CV 1/5] END .................................n_components=3; total time=  35.6s\n",
      "[CV 2/5] END .................................n_components=3; total time=  44.7s\n",
      "[CV 3/5] END .................................n_components=3; total time=  35.5s\n",
      "[CV 4/5] END .................................n_components=3; total time=  57.5s\n",
      "[CV 5/5] END .................................n_components=3; total time=  40.4s\n",
      "[CV 1/5] END .................................n_components=4; total time=  47.5s\n",
      "[CV 2/5] END .................................n_components=4; total time=  32.3s\n",
      "[CV 3/5] END .................................n_components=4; total time=  36.9s\n",
      "[CV 4/5] END .................................n_components=4; total time=  32.7s\n",
      "[CV 5/5] END .................................n_components=4; total time=  33.4s\n",
      "[CV 1/5] END .................................n_components=5; total time=  34.9s\n",
      "[CV 2/5] END .................................n_components=5; total time=  32.4s\n",
      "[CV 3/5] END .................................n_components=5; total time=  40.0s\n",
      "[CV 4/5] END .................................n_components=5; total time=  41.9s\n",
      "[CV 5/5] END .................................n_components=5; total time=  37.8s\n"
     ]
    }
   ],
   "source": [
    "grid_params = {'n_components' : list(range(2,6))}\n",
    "# LDA model\n",
    "lda = LatentDirichletAllocation()\n",
    "lda_model = GridSearchCV(lda,param_grid=grid_params, verbose=5)\n",
    "lda_model.fit(vectors)\n",
    "# Estimators for LDA model\n",
    "lda_model2 = lda_model.best_estimator_"
   ]
  },
  {
   "cell_type": "code",
   "execution_count": 26,
   "id": "28b0feed",
   "metadata": {},
   "outputs": [
    {
     "name": "stderr",
     "output_type": "stream",
     "text": [
      "C:\\Users\\Chiara\\anaconda3\\lib\\site-packages\\ipykernel\\ipkernel.py:287: DeprecationWarning: `should_run_async` will not call `transform_cell` automatically in the future. Please pass the result to `transformed_cell` argument and any exception that happen during thetransform in `preprocessing_exc_tuple` in IPython 7.17 and above.\n",
      "  and should_run_async(code)\n"
     ]
    },
    {
     "name": "stdout",
     "output_type": "stream",
     "text": [
      "Best LDA model's params {'n_components': 2}\n",
      "Best log likelihood Score for the LDA model -180222.4686312502\n",
      "LDA model Perplexity on train data 1134.4768534980813\n"
     ]
    }
   ],
   "source": [
    "print(\"Best LDA model's params\" , lda_model.best_params_)\n",
    "print(\"Best log likelihood Score for the LDA model\",lda_model.best_score_)\n",
    "print(\"LDA model Perplexity on train data\", lda_model2.perplexity(vectors))"
   ]
  },
  {
   "cell_type": "code",
   "execution_count": 27,
   "id": "3f88abf1",
   "metadata": {},
   "outputs": [
    {
     "name": "stderr",
     "output_type": "stream",
     "text": [
      "C:\\Users\\Chiara\\anaconda3\\lib\\site-packages\\ipykernel\\ipkernel.py:287: DeprecationWarning: `should_run_async` will not call `transform_cell` automatically in the future. Please pass the result to `transformed_cell` argument and any exception that happen during thetransform in `preprocessing_exc_tuple` in IPython 7.17 and above.\n",
      "  and should_run_async(code)\n",
      "C:\\Users\\Chiara\\anaconda3\\lib\\site-packages\\sklearn\\manifold\\_t_sne.py:691: FutureWarning: 'square_distances' has been introduced in 0.24 to help phase out legacy squaring behavior. The 'legacy' setting will be removed in 1.1 (renaming of 0.26), and the default setting will be changed to True. In 1.3, 'square_distances' will be removed altogether, and distances will be squared by default. Set 'square_distances'=True to silence this warning.\n",
      "  warnings.warn(\n"
     ]
    },
    {
     "data": {
      "text/html": [
       "\n",
       "<link rel=\"stylesheet\" type=\"text/css\" href=\"https://cdn.jsdelivr.net/gh/bmabey/pyLDAvis@3.3.1/pyLDAvis/js/ldavis.v1.0.0.css\">\n",
       "\n",
       "\n",
       "<div id=\"ldavis_el1452818569830614409439179522\"></div>\n",
       "<script type=\"text/javascript\">\n",
       "\n",
       "var ldavis_el1452818569830614409439179522_data = {\"mdsDat\": {\"x\": [-60.31231689453125, 60.31256103515625], \"y\": [141.36962890625, -141.369140625], \"topics\": [1, 2], \"cluster\": [1, 1], \"Freq\": [59.29325393420319, 40.70674606579681]}, \"tinfo\": {\"Term\": [\"seat\", \"service\", \"food\", \"flight\", \"front\", \"crew\", \"airline\", \"recline\", \"staff\", \"fly\", \"legroom\", \"meal\", \"reclined\", \"check\", \"business\", \"foot\", \"flying\", \"table\", \"time\", \"experience\", \"drink\", \"width\", \"rest\", \"return\", \"space\", \"airport\", \"customer\", \"screen\", \"airway\", \"attendant\", \"table\", \"tui\", \"biggest\", \"reclined\", \"reclines\", \"angle\", \"support\", \"headrest\", \"port\", \"jamaica\", \"arm\", \"adjustable\", \"upper\", \"height\", \"thigh\", \"supply\", \"leather\", \"ample\", \"seatback\", \"touching\", \"laptop\", \"storage\", \"armrest\", \"acceptable\", \"pocket\", \"holder\", \"box\", \"disturbing\", \"stiff\", \"provides\", \"foot\", \"usb\", \"front\", \"cushion\", \"knee\", \"recline\", \"rest\", \"width\", \"power\", \"legroom\", \"inch\", \"head\", \"seat\", \"position\", \"space\", \"screen\", \"bit\", \"row\", \"person\", \"window\", \"pitch\", \"average\", \"comfortable\", \"enough\", \"aisle\", \"leg\", \"good\", \"economy\", \"back\", \"get\", \"room\", \"tv\", \"flight\", \"boeing\", \"long\", \"ife\", \"uncomfortable\", \"hour\", \"could\", \"class\", \"entertainment\", \"passenger\", \"even\", \"airline\", \"aircraft\", \"airport\", \"etihad\", \"friendly\", \"ticket\", \"check\", \"served\", \"helpful\", \"gate\", \"delayed\", \"abu\", \"doha\", \"late\", \"dhabi\", \"home\", \"rude\", \"australia\", \"staff\", \"counter\", \"week\", \"coffee\", \"thai\", \"attentive\", \"wine\", \"later\", \"arrival\", \"told\", \"polite\", \"tea\", \"guangzhou\", \"serve\", \"food\", \"customer\", \"crew\", \"service\", \"route\", \"boarding\", \"breakfast\", \"checked\", \"meal\", \"drink\", \"fly\", \"booked\", \"attendant\", \"airline\", \"airway\", \"flight\", \"upgrade\", \"flying\", \"business\", \"london\", \"experience\", \"return\", \"emirate\", \"never\", \"time\", \"ever\", \"year\", \"plane\", \"cabin\", \"class\", \"air\", \"hour\", \"first\", \"seat\", \"would\", \"economy\", \"trip\", \"passenger\", \"good\", \"premium\", \"aircraft\", \"leg\", \"uncomfortable\", \"entertainment\", \"new\"], \"Freq\": [6790.0, 478.0, 403.0, 2374.0, 794.0, 287.0, 858.0, 697.0, 206.0, 317.0, 737.0, 234.0, 219.0, 108.0, 315.0, 249.0, 256.0, 166.0, 578.0, 270.0, 140.0, 307.0, 264.0, 249.0, 551.0, 83.0, 94.0, 537.0, 159.0, 139.0, 166.28921603748566, 93.42861571964426, 66.8419110300854, 217.4455689748387, 73.37488323840108, 59.25509333538991, 140.0745575591379, 101.44772519789784, 77.94932324165784, 45.99527735996831, 120.97424501470441, 54.387112429298156, 62.724474504127095, 56.119830132247436, 35.50774767684581, 42.94580867306204, 55.00586184697592, 30.756009892876875, 28.882972671768187, 31.677597525355296, 54.028794228754926, 138.72250485607302, 123.58141869423015, 122.35756141231037, 83.41463107237682, 24.972189376229817, 163.53863029659433, 19.364941902074968, 18.439360070920262, 20.270136336240814, 240.98082714258354, 114.06543298778125, 755.5470513145009, 103.69465909799274, 174.85968112446173, 650.4647555630272, 250.14057503512467, 288.2093250664002, 141.56915407431205, 665.3348113676446, 194.15135793936165, 121.92392277317299, 5517.778169472977, 179.99038125778736, 483.9376025728281, 471.9416730460881, 221.3008086258498, 493.4581900513935, 267.18294457879693, 284.2143408693371, 228.0207092841163, 216.31603672564327, 586.6594889484076, 296.30960601960516, 328.7390526670966, 693.910502896022, 725.5558366048642, 886.8065766557147, 486.98273146564134, 442.01432448227877, 469.46810886578766, 249.9101183996363, 1034.5210911840163, 325.84839363613816, 321.761028477453, 226.71647861902153, 330.03909341117094, 385.08618420044365, 278.1692179927307, 307.25531209205195, 278.62320104593533, 277.43849468510274, 273.95951716782145, 294.3143103606425, 269.0088808710659, 83.15278525188377, 73.85500892135045, 72.00833916522157, 77.51367059220438, 107.76688736158191, 56.12781147780718, 53.36079239869971, 36.74750593496649, 33.98073814993174, 39.47738225734907, 41.29870863384987, 37.613718641265464, 37.607531295434065, 40.33550949679944, 27.442727733768645, 30.161676842193447, 202.6757812963427, 23.725716231474337, 36.436856481038305, 20.914043080487623, 20.911602038217538, 34.53094529787827, 30.88675528984958, 29.90882956585928, 21.746064096798104, 58.8885162847522, 18.116340769749236, 17.19804105925677, 18.102237263340093, 21.72007038194066, 384.81550395543036, 90.50751229298793, 271.9648855133807, 446.2047912683467, 86.857393532476, 82.18804398423751, 34.92833715328783, 39.9641282401246, 199.00303716515623, 122.54723452637215, 256.31311212414647, 83.80899494641564, 116.64233986940742, 564.0960955525957, 129.46746849972772, 1340.4666439292494, 66.04437552712596, 188.44033800305104, 223.5014015686297, 80.31184773431518, 192.48236565676746, 177.4898005710371, 83.81560661317566, 166.8062036689593, 335.39669315254343, 173.96773339728801, 117.21323853437275, 277.25422363145094, 282.6815268561315, 297.15855918740994, 197.99116636237073, 325.05098256785936, 172.35886903058255, 1272.2893255201545, 234.78002364116972, 408.9486318719351, 135.946477445815, 195.1232139720928, 267.38747726357695, 181.9768845895873, 190.3611627667113, 238.85398917356318, 186.32182673110205, 175.33502819634708, 173.7895671494573], \"Total\": [6790.0, 478.0, 403.0, 2374.0, 794.0, 287.0, 858.0, 697.0, 206.0, 317.0, 737.0, 234.0, 219.0, 108.0, 315.0, 249.0, 256.0, 166.0, 578.0, 270.0, 140.0, 307.0, 264.0, 249.0, 551.0, 83.0, 94.0, 537.0, 159.0, 139.0, 166.94051544449127, 93.90204644478584, 67.34092272432513, 219.09463955186595, 73.9791254335108, 59.75220174206989, 141.31744843049697, 102.42992527021426, 78.71901784164369, 46.47225284186599, 122.34321016720453, 55.006944148542985, 63.540639826638184, 56.901127131545, 36.03674425215306, 43.62274633813754, 55.94950996575383, 31.293611288943527, 29.39686361999342, 32.24171222289752, 55.00039499795906, 141.2927363261843, 126.1158892792429, 125.1622636204798, 85.33770634593793, 25.60035782076794, 167.82149833545, 19.91033166129288, 18.96215772348841, 20.85813296903677, 249.32501711672617, 117.5606513416907, 794.2025559222152, 107.12727675262751, 181.9972681541155, 697.2937397488276, 264.39254042584594, 307.9261464652482, 148.79481901573368, 737.6095623954511, 207.49380057029, 127.94810773044377, 6790.067494993132, 192.334867446125, 551.7677781974888, 537.5796733028574, 241.51526300499873, 578.9482330950731, 299.1605276188409, 320.8907212526242, 252.81316550636294, 238.6303840525744, 738.9653463852352, 345.32446481945436, 391.54876858148884, 932.7644920695851, 992.9433138684412, 1295.7552085276498, 644.9490997094435, 578.9392259674331, 635.3164102740506, 290.4635142531208, 2374.9877351132654, 452.95887305358013, 463.1279894229017, 269.5519470341216, 516.360920142273, 710.137166768303, 432.531028801144, 604.4138712794619, 453.9582292422824, 472.56170865719554, 446.42293575410804, 858.4104059132382, 459.3700436377772, 83.82539136965914, 74.51254958562721, 72.6497413295327, 78.23881172143554, 108.97918491351456, 56.81929374355855, 54.02502577507669, 37.259625961565604, 34.4653533145544, 40.054585444850574, 41.917865537821875, 38.19209357630682, 38.192208770803596, 40.987203592849426, 27.946914536660014, 30.74207746015489, 206.8146221943764, 24.221738743820143, 37.265409557509216, 21.428302133982314, 21.428347580713105, 35.40370424388717, 31.677172678185862, 30.746784909223713, 22.361406321285603, 60.56227382177063, 18.634605418441144, 17.70310754686971, 18.634867994090996, 22.36189026594517, 403.5770396581795, 94.12300292474131, 287.10374599577244, 478.32167301568296, 91.34517629125726, 87.63773089644499, 36.34490025115988, 41.94271243087111, 234.39224246333794, 140.95622277931918, 317.75017257328005, 95.1963088430243, 139.1689695670157, 858.4104059132382, 159.7992745899719, 2374.9877351132654, 74.65796605774345, 256.40657092576544, 315.51526936049845, 94.31282332677338, 270.5602357206288, 249.02168895008705, 99.93915850936924, 234.99167527552203, 578.0899100970119, 253.8302347005194, 155.28444810112714, 510.87358469304536, 544.9219443595322, 604.4138712794619, 334.01350920349546, 710.137166768303, 282.3180247103452, 6790.067494993132, 486.05230610596885, 1295.7552085276498, 203.3139993767296, 472.56170865719554, 992.9433138684412, 408.30203427279014, 459.3700436377772, 932.7644920695851, 516.360920142273, 453.9582292422824, 440.7066785299255], \"Category\": [\"Default\", \"Default\", \"Default\", \"Default\", \"Default\", \"Default\", \"Default\", \"Default\", \"Default\", \"Default\", \"Default\", \"Default\", \"Default\", \"Default\", \"Default\", \"Default\", \"Default\", \"Default\", \"Default\", \"Default\", \"Default\", \"Default\", \"Default\", \"Default\", \"Default\", \"Default\", \"Default\", \"Default\", \"Default\", \"Default\", \"Topic1\", \"Topic1\", \"Topic1\", \"Topic1\", \"Topic1\", \"Topic1\", \"Topic1\", \"Topic1\", \"Topic1\", \"Topic1\", \"Topic1\", \"Topic1\", \"Topic1\", \"Topic1\", \"Topic1\", \"Topic1\", \"Topic1\", \"Topic1\", \"Topic1\", \"Topic1\", \"Topic1\", \"Topic1\", \"Topic1\", \"Topic1\", \"Topic1\", \"Topic1\", \"Topic1\", \"Topic1\", \"Topic1\", \"Topic1\", \"Topic1\", \"Topic1\", \"Topic1\", \"Topic1\", \"Topic1\", \"Topic1\", \"Topic1\", \"Topic1\", \"Topic1\", \"Topic1\", \"Topic1\", \"Topic1\", \"Topic1\", \"Topic1\", \"Topic1\", \"Topic1\", \"Topic1\", \"Topic1\", \"Topic1\", \"Topic1\", \"Topic1\", \"Topic1\", \"Topic1\", \"Topic1\", \"Topic1\", \"Topic1\", \"Topic1\", \"Topic1\", \"Topic1\", \"Topic1\", \"Topic1\", \"Topic1\", \"Topic1\", \"Topic1\", \"Topic1\", \"Topic1\", \"Topic1\", \"Topic1\", \"Topic1\", \"Topic1\", \"Topic1\", \"Topic1\", \"Topic1\", \"Topic1\", \"Topic1\", \"Topic2\", \"Topic2\", \"Topic2\", \"Topic2\", \"Topic2\", \"Topic2\", \"Topic2\", \"Topic2\", \"Topic2\", \"Topic2\", \"Topic2\", \"Topic2\", \"Topic2\", \"Topic2\", \"Topic2\", \"Topic2\", \"Topic2\", \"Topic2\", \"Topic2\", \"Topic2\", \"Topic2\", \"Topic2\", \"Topic2\", \"Topic2\", \"Topic2\", \"Topic2\", \"Topic2\", \"Topic2\", \"Topic2\", \"Topic2\", \"Topic2\", \"Topic2\", \"Topic2\", \"Topic2\", \"Topic2\", \"Topic2\", \"Topic2\", \"Topic2\", \"Topic2\", \"Topic2\", \"Topic2\", \"Topic2\", \"Topic2\", \"Topic2\", \"Topic2\", \"Topic2\", \"Topic2\", \"Topic2\", \"Topic2\", \"Topic2\", \"Topic2\", \"Topic2\", \"Topic2\", \"Topic2\", \"Topic2\", \"Topic2\", \"Topic2\", \"Topic2\", \"Topic2\", \"Topic2\", \"Topic2\", \"Topic2\", \"Topic2\", \"Topic2\", \"Topic2\", \"Topic2\", \"Topic2\", \"Topic2\", \"Topic2\", \"Topic2\", \"Topic2\", \"Topic2\", \"Topic2\", \"Topic2\", \"Topic2\"], \"logprob\": [30.0, 29.0, 28.0, 27.0, 26.0, 25.0, 24.0, 23.0, 22.0, 21.0, 20.0, 19.0, 18.0, 17.0, 16.0, 15.0, 14.0, 13.0, 12.0, 11.0, 10.0, 9.0, 8.0, 7.0, 6.0, 5.0, 4.0, 3.0, 2.0, 1.0, -6.0234, -6.6, -6.9348, -5.7552, -6.8416, -7.0553, -6.195, -6.5176, -6.7811, -7.3086, -6.3416, -7.141, -6.9984, -7.1097, -7.5674, -7.3772, -7.1297, -7.7111, -7.7739, -7.6815, -7.1476, -6.2047, -6.3203, -6.3302, -6.7133, -7.9194, -6.0401, -8.1737, -8.2227, -8.128, -5.6524, -6.4004, -4.5097, -6.4957, -5.9732, -4.6595, -5.6151, -5.4735, -6.1844, -4.6369, -5.8685, -6.3338, -2.5214, -5.9442, -4.9552, -4.9803, -5.7376, -4.9357, -5.5492, -5.4874, -5.7077, -5.7604, -4.7627, -5.4457, -5.3419, -4.5948, -4.5502, -4.3495, -4.9489, -5.0458, -4.9856, -5.6161, -4.1955, -5.3507, -5.3633, -5.7135, -5.3379, -5.1837, -5.5089, -5.4095, -5.5073, -5.5116, -5.5242, -5.4525, -5.5424, -6.3404, -6.4589, -6.4843, -6.4106, -6.0811, -6.7334, -6.784, -7.157, -7.2353, -7.0853, -7.0402, -7.1337, -7.1338, -7.0638, -7.4489, -7.3545, -5.4494, -7.5945, -7.1655, -7.7206, -7.7207, -7.2192, -7.3307, -7.3629, -7.6816, -6.6854, -7.8642, -7.9163, -7.865, -7.6828, -4.8083, -6.2556, -5.1554, -4.6603, -6.2968, -6.352, -7.2078, -7.0731, -5.4677, -5.9526, -5.2147, -6.3325, -6.0019, -4.4258, -5.8976, -3.5603, -6.5707, -5.5223, -5.3516, -6.3751, -5.501, -5.5821, -6.3324, -5.6442, -4.9457, -5.6022, -5.9971, -5.1361, -5.1167, -5.0668, -5.4728, -4.9771, -5.6115, -3.6125, -5.3024, -4.7475, -5.8488, -5.4874, -5.1724, -5.5572, -5.5121, -5.2852, -5.5336, -5.5944, -5.6032], \"loglift\": [30.0, 29.0, 28.0, 27.0, 26.0, 25.0, 24.0, 23.0, 22.0, 21.0, 20.0, 19.0, 18.0, 17.0, 16.0, 15.0, 14.0, 13.0, 12.0, 11.0, 10.0, 9.0, 8.0, 7.0, 6.0, 5.0, 4.0, 3.0, 2.0, 1.0, 0.5188, 0.5176, 0.5152, 0.5151, 0.5145, 0.5143, 0.5138, 0.513, 0.5128, 0.5124, 0.5114, 0.5113, 0.5097, 0.5088, 0.5079, 0.507, 0.5057, 0.5053, 0.505, 0.505, 0.5049, 0.5043, 0.5024, 0.5, 0.4999, 0.4978, 0.4968, 0.4949, 0.4947, 0.4941, 0.4886, 0.4925, 0.4728, 0.4901, 0.4827, 0.4532, 0.4673, 0.4565, 0.4729, 0.4196, 0.4562, 0.4744, 0.3152, 0.4563, 0.3915, 0.3925, 0.4353, 0.3629, 0.4096, 0.4013, 0.4195, 0.4245, 0.2919, 0.3696, 0.3478, 0.2269, 0.2089, 0.1435, 0.2417, 0.2528, 0.2202, 0.3723, -0.3084, 0.1933, 0.1585, 0.3496, 0.0751, -0.0893, 0.0813, -0.1539, 0.0345, -0.0099, 0.0344, -0.5478, -0.0124, 0.8907, 0.8899, 0.8899, 0.8895, 0.8876, 0.8865, 0.8864, 0.8849, 0.8846, 0.8843, 0.8839, 0.8835, 0.8833, 0.8827, 0.8806, 0.8797, 0.8786, 0.8781, 0.8763, 0.8745, 0.8744, 0.8738, 0.8735, 0.8711, 0.8709, 0.8708, 0.8706, 0.8698, 0.8698, 0.8697, 0.8512, 0.8596, 0.8446, 0.8293, 0.8484, 0.8346, 0.859, 0.8505, 0.7351, 0.7588, 0.6839, 0.7714, 0.7222, 0.4789, 0.6883, 0.3268, 0.7762, 0.5908, 0.554, 0.7381, 0.5583, 0.5601, 0.7228, 0.5561, 0.3544, 0.521, 0.6175, 0.2876, 0.2425, 0.1888, 0.3758, 0.1173, 0.4053, -0.7759, 0.1711, -0.2545, 0.4963, 0.0142, -0.4132, 0.0906, 0.0178, -0.4635, -0.1206, -0.0525, -0.0318]}, \"token.table\": {\"Topic\": [1, 2, 1, 2, 1, 2, 1, 2, 1, 2, 1, 2, 1, 2, 1, 2, 1, 2, 1, 2, 1, 1, 2, 1, 2, 1, 2, 1, 2, 1, 2, 1, 2, 1, 2, 1, 2, 1, 1, 2, 1, 2, 1, 2, 1, 2, 1, 2, 1, 2, 1, 2, 1, 2, 1, 2, 1, 2, 1, 2, 1, 2, 1, 2, 1, 2, 2, 1, 2, 1, 2, 1, 2, 2, 1, 2, 1, 2, 1, 2, 1, 2, 1, 2, 1, 2, 1, 2, 1, 2, 1, 2, 1, 2, 1, 2, 1, 2, 1, 2, 1, 2, 1, 2, 1, 2, 1, 2, 1, 2, 1, 2, 1, 2, 1, 2, 1, 2, 1, 2, 1, 2, 1, 2, 1, 2, 1, 2, 1, 2, 1, 2, 1, 2, 1, 2, 1, 2, 1, 2, 1, 1, 2, 1, 2, 1, 2, 1, 2, 1, 2, 1, 2, 1, 2, 1, 2, 1, 2, 1, 2, 1, 2, 1, 2, 1, 2, 1, 2, 1, 2, 1, 2, 1, 2, 1, 2, 1, 2, 1, 2, 1, 2, 1, 2, 1, 2, 1, 2, 1, 2, 1, 2, 1, 2, 1, 2, 1, 2, 1, 2, 1, 2, 1, 2, 1, 2, 1, 2, 1, 2, 1, 2, 1, 2, 1, 2, 1, 2, 1, 2, 1, 2, 1, 2, 1, 2, 1, 2, 1, 2, 1, 2, 1, 2, 1, 2, 1, 2, 1, 2, 1, 2, 1, 2, 1, 2, 1, 1, 2, 1, 2, 1, 2, 1, 2, 1, 2, 1, 2, 1, 2, 1, 2, 1, 2, 1, 2, 1, 2], \"Freq\": [0.02496593058931684, 0.9736712929833568, 0.9747346881639302, 0.02396888577452287, 0.981694235807323, 0.018179522885320796, 0.4071691600867045, 0.5927903948321139, 0.5855845493749959, 0.4136099047630083, 0.34249351822246593, 0.6570283818961591, 0.011929559572112574, 0.9901534444853437, 0.18773552055838075, 0.8072627384010372, 0.8402529299017033, 0.1608994972152198, 0.9906175325617577, 0.03195540427618573, 0.9874113133886364, 0.9890209667919553, 0.008173726998280622, 0.9832226590056552, 0.02378764497594327, 0.04471990650463293, 0.9838379431019245, 0.16526672627926972, 0.8407046510728068, 0.02824563195735827, 0.9885971185075394, 0.03252870601526881, 0.9758611804580642, 0.9051655381504622, 0.09219278629310264, 0.7550983484113687, 0.24498057299588555, 0.9949373618517113, 0.915056039317175, 0.08281050129567195, 0.05705305179464458, 0.9356700494321711, 0.719712140314862, 0.2803786558895321, 0.11555069869503713, 0.8823871536711927, 0.9772287914638242, 0.023834848572288396, 0.02751417648939859, 0.9629961771289506, 0.29158652190263257, 0.7099497924585837, 0.48080280618527615, 0.5193404356886762, 0.009176064225416954, 0.991014936345031, 0.04768408822620492, 0.9536817645240985, 0.5079301031760287, 0.49138514867518085, 0.04666725313780875, 0.9800123158939837, 0.7943538934151683, 0.20569300136133828, 0.6427284552753103, 0.35604382054819345, 0.9908454654653264, 0.05224592228142113, 0.9473927240364365, 0.9708078386063258, 0.028004072267490167, 0.04249758162941648, 0.9668199820692249, 0.9864979386601012, 0.026183350798094182, 0.994967330327579, 0.9542784280654335, 0.0502251804244965, 0.0238561765292585, 0.9781032376995985, 0.12769922210657397, 0.8726113510615887, 0.6845428782863138, 0.3156460397058651, 0.16009740564805747, 0.8405113796523017, 0.8571648700150954, 0.14189553591466106, 0.6145939913143301, 0.3854980232258343, 0.013420558088014893, 0.993121298513102, 0.6137677481493033, 0.3852848638017525, 0.3151712801053337, 0.6854975342291009, 0.2882907009311602, 0.7096386484459328, 0.38963151613453884, 0.6092420070467335, 0.4357917241836366, 0.5642134400058677, 0.19197471871059985, 0.8056643932772716, 0.26520381187768893, 0.7332105387206694, 0.0470789914512792, 0.9539690373022365, 0.96660978022583, 0.032086631708741244, 0.013764673923119558, 0.9910565224646082, 0.9518982208791119, 0.04910586060090656, 0.026838702058671476, 0.9930319761708447, 0.763465283012044, 0.23663969179332583, 0.7311595635520745, 0.26889752543857287, 0.05366284324187829, 0.9659311783538092, 0.9535115615545091, 0.046894011223992255, 0.9860399656990664, 0.009762771937614519, 0.9841632815205618, 0.017574344312867175, 0.018509940266633412, 0.9810268341315708, 0.976548850411735, 0.0390619540164694, 0.02439785865690185, 0.975914346276074, 0.5421487819769533, 0.45765806270781767, 0.8421382316012909, 0.15952398219760136, 0.9349676928505684, 0.06265247426318242, 0.9898379610845863, 0.9615528945841638, 0.03846211578336655, 0.9818111306655855, 0.01818168760491825, 0.02618342977197691, 0.9949703313351226, 0.03252372574733856, 0.9757117724201568, 0.9830291638597903, 0.017873257524723463, 0.7440248914923607, 0.2562275923150925, 0.9015609800940687, 0.09761261739364352, 0.14844216837293747, 0.8482409621310713, 0.695272165263085, 0.3044514760934627, 0.14932234801019265, 0.8490042072579524, 0.2893719529437443, 0.7106634726706661, 0.6058451414683288, 0.39482042927149513, 0.5861668326600296, 0.41264452118666345, 0.8924974231232254, 0.10696598329566746, 0.9018517668703514, 0.09888725513929292, 0.4580389493823549, 0.5422084999098816, 0.9726064075771916, 0.023436298977763653, 0.053663599391827306, 0.9659447890528915, 0.9908660211806744, 0.012703410527957364, 0.935867751854301, 0.0623911834569534, 0.9543343037030396, 0.0470446487740935, 0.5535118148566642, 0.44574845267218094, 0.9588585914995057, 0.047942929574975285, 0.9321752985106917, 0.06740344466154233, 0.990439567320541, 0.009128475274843695, 0.9867648417337564, 0.013517326599092553, 0.9455637424464984, 0.05295156957700391, 0.28913144193810125, 0.7107814614311655, 0.7382148366003828, 0.26128712766666, 0.04378994230900449, 0.9524312452208477, 0.8515441827404991, 0.14681796254146537, 0.035782125382328944, 0.9661173853228815, 0.8780093880783479, 0.12277249918044696, 0.8126576067276017, 0.18733245301875848, 0.9864997972190643, 0.034017234386864284, 0.044718938699153526, 0.9838166513813775, 0.017599655576735627, 0.9855807122971951, 0.06690058553744606, 0.9324269109281543, 0.877180616782531, 0.12324025194465311, 0.019340992225591127, 0.9815553554487497, 0.9492590591472306, 0.052736614397068365, 0.9837731479635913, 0.021232513984825712, 0.9857242748241851, 0.02292382034474849, 0.9906773831177336, 0.007076267022269525, 0.9943661642472645, 0.005990157615947377, 0.05648725780784298, 0.9602833827333307, 0.046667154162650624, 0.9800102374156631, 0.9989803670415962, 0.02774945464004434, 0.012781380212680611, 0.9969476565890876, 0.42034983789843533, 0.5794946324937278, 0.033023859141845, 0.9742038446844274, 0.9925031207639816, 0.031015722523874426, 0.329539530998319, 0.6689160629219609, 0.9903937509464584, 0.8606932978926248, 0.14115370085439047, 0.639087868828406, 0.3602131624305561, 0.12054976146870973, 0.8840315841038713, 0.9914914324420836, 0.015737959245112437, 0.9697122183225946, 0.0255187425874367, 0.026834536688957272, 0.9660433208024618, 0.9352892026416567, 0.06495063907233727, 0.8850364974449304, 0.11530405072345924, 0.03156847393418539, 0.9786226919597472, 0.516405326848253, 0.48348705900135247, 0.2447122069510332, 0.7534560056123917], \"Term\": [\"abu\", \"abu\", \"acceptable\", \"acceptable\", \"adjustable\", \"adjustable\", \"air\", \"air\", \"aircraft\", \"aircraft\", \"airline\", \"airline\", \"airport\", \"airport\", \"airway\", \"airway\", \"aisle\", \"aisle\", \"ample\", \"ample\", \"angle\", \"arm\", \"arm\", \"armrest\", \"armrest\", \"arrival\", \"arrival\", \"attendant\", \"attendant\", \"attentive\", \"attentive\", \"australia\", \"australia\", \"average\", \"average\", \"back\", \"back\", \"biggest\", \"bit\", \"bit\", \"boarding\", \"boarding\", \"boeing\", \"boeing\", \"booked\", \"booked\", \"box\", \"box\", \"breakfast\", \"breakfast\", \"business\", \"business\", \"cabin\", \"cabin\", \"check\", \"check\", \"checked\", \"checked\", \"class\", \"class\", \"coffee\", \"coffee\", \"comfortable\", \"comfortable\", \"could\", \"could\", \"counter\", \"crew\", \"crew\", \"cushion\", \"cushion\", \"customer\", \"customer\", \"delayed\", \"dhabi\", \"dhabi\", \"disturbing\", \"disturbing\", \"doha\", \"doha\", \"drink\", \"drink\", \"economy\", \"economy\", \"emirate\", \"emirate\", \"enough\", \"enough\", \"entertainment\", \"entertainment\", \"etihad\", \"etihad\", \"even\", \"even\", \"ever\", \"ever\", \"experience\", \"experience\", \"first\", \"first\", \"flight\", \"flight\", \"fly\", \"fly\", \"flying\", \"flying\", \"food\", \"food\", \"foot\", \"foot\", \"friendly\", \"friendly\", \"front\", \"front\", \"gate\", \"gate\", \"get\", \"get\", \"good\", \"good\", \"guangzhou\", \"guangzhou\", \"head\", \"head\", \"headrest\", \"headrest\", \"height\", \"height\", \"helpful\", \"helpful\", \"holder\", \"holder\", \"home\", \"home\", \"hour\", \"hour\", \"ife\", \"ife\", \"inch\", \"inch\", \"jamaica\", \"knee\", \"knee\", \"laptop\", \"laptop\", \"late\", \"late\", \"later\", \"later\", \"leather\", \"leather\", \"leg\", \"leg\", \"legroom\", \"legroom\", \"london\", \"london\", \"long\", \"long\", \"meal\", \"meal\", \"never\", \"never\", \"new\", \"new\", \"passenger\", \"passenger\", \"person\", \"person\", \"pitch\", \"pitch\", \"plane\", \"plane\", \"pocket\", \"pocket\", \"polite\", \"polite\", \"port\", \"port\", \"position\", \"position\", \"power\", \"power\", \"premium\", \"premium\", \"provides\", \"provides\", \"recline\", \"recline\", \"reclined\", \"reclined\", \"reclines\", \"reclines\", \"rest\", \"rest\", \"return\", \"return\", \"room\", \"room\", \"route\", \"route\", \"row\", \"row\", \"rude\", \"rude\", \"screen\", \"screen\", \"seat\", \"seat\", \"seatback\", \"seatback\", \"serve\", \"serve\", \"served\", \"served\", \"service\", \"service\", \"space\", \"space\", \"staff\", \"staff\", \"stiff\", \"stiff\", \"storage\", \"storage\", \"supply\", \"supply\", \"support\", \"support\", \"table\", \"table\", \"tea\", \"tea\", \"thai\", \"thai\", \"thigh\", \"thigh\", \"ticket\", \"ticket\", \"time\", \"time\", \"told\", \"told\", \"touching\", \"touching\", \"trip\", \"trip\", \"tui\", \"tv\", \"tv\", \"uncomfortable\", \"uncomfortable\", \"upgrade\", \"upgrade\", \"upper\", \"upper\", \"usb\", \"usb\", \"week\", \"week\", \"width\", \"width\", \"window\", \"window\", \"wine\", \"wine\", \"would\", \"would\", \"year\", \"year\"]}, \"R\": 30, \"lambda.step\": 0.01, \"plot.opts\": {\"xlab\": \"PC1\", \"ylab\": \"PC2\"}, \"topic.order\": [2, 1]};\n",
       "\n",
       "function LDAvis_load_lib(url, callback){\n",
       "  var s = document.createElement('script');\n",
       "  s.src = url;\n",
       "  s.async = true;\n",
       "  s.onreadystatechange = s.onload = callback;\n",
       "  s.onerror = function(){console.warn(\"failed to load library \" + url);};\n",
       "  document.getElementsByTagName(\"head\")[0].appendChild(s);\n",
       "}\n",
       "\n",
       "if(typeof(LDAvis) !== \"undefined\"){\n",
       "   // already loaded: just create the visualization\n",
       "   !function(LDAvis){\n",
       "       new LDAvis(\"#\" + \"ldavis_el1452818569830614409439179522\", ldavis_el1452818569830614409439179522_data);\n",
       "   }(LDAvis);\n",
       "}else if(typeof define === \"function\" && define.amd){\n",
       "   // require.js is available: use it to load d3/LDAvis\n",
       "   require.config({paths: {d3: \"https://d3js.org/d3.v5\"}});\n",
       "   require([\"d3\"], function(d3){\n",
       "      window.d3 = d3;\n",
       "      LDAvis_load_lib(\"https://cdn.jsdelivr.net/gh/bmabey/pyLDAvis@3.3.1/pyLDAvis/js/ldavis.v3.0.0.js\", function(){\n",
       "        new LDAvis(\"#\" + \"ldavis_el1452818569830614409439179522\", ldavis_el1452818569830614409439179522_data);\n",
       "      });\n",
       "    });\n",
       "}else{\n",
       "    // require.js not available: dynamically load d3 & LDAvis\n",
       "    LDAvis_load_lib(\"https://d3js.org/d3.v5.js\", function(){\n",
       "         LDAvis_load_lib(\"https://cdn.jsdelivr.net/gh/bmabey/pyLDAvis@3.3.1/pyLDAvis/js/ldavis.v3.0.0.js\", function(){\n",
       "                 new LDAvis(\"#\" + \"ldavis_el1452818569830614409439179522\", ldavis_el1452818569830614409439179522_data);\n",
       "            })\n",
       "         });\n",
       "}\n",
       "</script>"
      ],
      "text/plain": [
       "PreparedData(topic_coordinates=               x           y  topics  cluster       Freq\n",
       "topic                                                   \n",
       "1     -60.312317  141.369629       1        1  59.293254\n",
       "0      60.312561 -141.369141       2        1  40.706746, topic_info=               Term         Freq        Total Category  logprob  loglift\n",
       "5496           seat  6790.000000  6790.000000  Default  30.0000  30.0000\n",
       "5577        service   478.000000   478.000000  Default  29.0000  29.0000\n",
       "2547           food   403.000000   403.000000  Default  28.0000  28.0000\n",
       "2504         flight  2374.000000  2374.000000  Default  27.0000  27.0000\n",
       "2622          front   794.000000   794.000000  Default  26.0000  26.0000\n",
       "...             ...          ...          ...      ...      ...      ...\n",
       "182        aircraft   190.361163   459.370044   Topic2  -5.5121   0.0178\n",
       "3571            leg   238.853989   932.764492   Topic2  -5.2852  -0.4635\n",
       "6681  uncomfortable   186.321827   516.360920   Topic2  -5.5336  -0.1206\n",
       "2171  entertainment   175.335028   453.958229   Topic2  -5.5944  -0.0525\n",
       "4126            new   173.789567   440.706679   Topic2  -5.6032  -0.0318\n",
       "\n",
       "[180 rows x 6 columns], token_table=      Topic      Freq        Term\n",
       "term                             \n",
       "23        1  0.024966         abu\n",
       "23        2  0.973671         abu\n",
       "31        1  0.974735  acceptable\n",
       "31        2  0.023969  acceptable\n",
       "103       1  0.981694  adjustable\n",
       "...     ...       ...         ...\n",
       "7072      2  0.978623        wine\n",
       "7134      1  0.516405       would\n",
       "7134      2  0.483487       would\n",
       "7161      1  0.244712        year\n",
       "7161      2  0.753456        year\n",
       "\n",
       "[270 rows x 3 columns], R=30, lambda_step=0.01, plot_opts={'xlab': 'PC1', 'ylab': 'PC2'}, topic_order=[2, 1])"
      ]
     },
     "execution_count": 27,
     "metadata": {},
     "output_type": "execute_result"
    }
   ],
   "source": [
    "pyLDAvis.enable_notebook()\n",
    "pyLDAvis.sklearn.prepare(lda_model2, vectors,vect,mds='tsne')"
   ]
  },
  {
   "cell_type": "markdown",
   "id": "8f379091",
   "metadata": {},
   "source": [
    "# Try using TFIDF Matrix instead of word count"
   ]
  },
  {
   "cell_type": "code",
   "execution_count": 30,
   "id": "82873c45",
   "metadata": {},
   "outputs": [
    {
     "name": "stderr",
     "output_type": "stream",
     "text": [
      "C:\\Users\\Chiara\\anaconda3\\lib\\site-packages\\ipykernel\\ipkernel.py:287: DeprecationWarning: `should_run_async` will not call `transform_cell` automatically in the future. Please pass the result to `transformed_cell` argument and any exception that happen during thetransform in `preprocessing_exc_tuple` in IPython 7.17 and above.\n",
      "  and should_run_async(code)\n"
     ]
    }
   ],
   "source": [
    "# Count Vectorizer\n",
    "tfidf = TfidfVectorizer()  \n",
    "tfidf_matrix = tfidf.fit_transform(df.cleaned_body)"
   ]
  },
  {
   "cell_type": "code",
   "execution_count": 31,
   "id": "8973128d",
   "metadata": {},
   "outputs": [
    {
     "name": "stderr",
     "output_type": "stream",
     "text": [
      "C:\\Users\\Chiara\\anaconda3\\lib\\site-packages\\ipykernel\\ipkernel.py:287: DeprecationWarning: `should_run_async` will not call `transform_cell` automatically in the future. Please pass the result to `transformed_cell` argument and any exception that happen during thetransform in `preprocessing_exc_tuple` in IPython 7.17 and above.\n",
      "  and should_run_async(code)\n"
     ]
    },
    {
     "name": "stdout",
     "output_type": "stream",
     "text": [
      "Fitting 5 folds for each of 4 candidates, totalling 20 fits\n",
      "[CV 1/5] END .................................n_components=2; total time=  17.8s\n",
      "[CV 2/5] END .................................n_components=2; total time=  18.0s\n",
      "[CV 3/5] END .................................n_components=2; total time=  23.8s\n",
      "[CV 4/5] END .................................n_components=2; total time=  16.5s\n",
      "[CV 5/5] END .................................n_components=2; total time=  18.5s\n",
      "[CV 1/5] END .................................n_components=3; total time=  22.8s\n",
      "[CV 2/5] END .................................n_components=3; total time=  17.3s\n",
      "[CV 3/5] END .................................n_components=3; total time=  23.4s\n",
      "[CV 4/5] END .................................n_components=3; total time=  16.8s\n",
      "[CV 5/5] END .................................n_components=3; total time=  13.7s\n",
      "[CV 1/5] END .................................n_components=4; total time=  16.7s\n",
      "[CV 2/5] END .................................n_components=4; total time=  11.5s\n",
      "[CV 3/5] END .................................n_components=4; total time=  12.3s\n",
      "[CV 4/5] END .................................n_components=4; total time=   8.4s\n",
      "[CV 5/5] END .................................n_components=4; total time=  12.1s\n",
      "[CV 1/5] END .................................n_components=5; total time=   6.7s\n",
      "[CV 2/5] END .................................n_components=5; total time=   6.7s\n",
      "[CV 3/5] END .................................n_components=5; total time=   7.8s\n",
      "[CV 4/5] END .................................n_components=5; total time=  10.4s\n",
      "[CV 5/5] END .................................n_components=5; total time=   8.5s\n"
     ]
    }
   ],
   "source": [
    "grid_params = {'n_components' : list(range(2,6))}\n",
    "# LDA model\n",
    "lda = LatentDirichletAllocation()\n",
    "lda_model = GridSearchCV(lda,param_grid=grid_params, verbose=5)\n",
    "lda_model.fit(tfidf_matrix)\n",
    "# Estimators for LDA model\n",
    "lda_model3 = lda_model.best_estimator_"
   ]
  },
  {
   "cell_type": "code",
   "execution_count": 32,
   "id": "0ef9a1d5",
   "metadata": {},
   "outputs": [
    {
     "name": "stderr",
     "output_type": "stream",
     "text": [
      "C:\\Users\\Chiara\\anaconda3\\lib\\site-packages\\ipykernel\\ipkernel.py:287: DeprecationWarning: `should_run_async` will not call `transform_cell` automatically in the future. Please pass the result to `transformed_cell` argument and any exception that happen during thetransform in `preprocessing_exc_tuple` in IPython 7.17 and above.\n",
      "  and should_run_async(code)\n"
     ]
    },
    {
     "name": "stdout",
     "output_type": "stream",
     "text": [
      "Best LDA model's params {'n_components': 2}\n",
      "Best log likelihood Score for the LDA model -27050.986790888583\n",
      "LDA model Perplexity on train data 1512.3514962496363\n"
     ]
    }
   ],
   "source": [
    "print(\"Best LDA model's params\" , lda_model.best_params_)\n",
    "print(\"Best log likelihood Score for the LDA model\",lda_model.best_score_)\n",
    "print(\"LDA model Perplexity on train data\", lda_model3.perplexity(vectors))"
   ]
  },
  {
   "cell_type": "code",
   "execution_count": 33,
   "id": "bc728e3c",
   "metadata": {},
   "outputs": [
    {
     "name": "stderr",
     "output_type": "stream",
     "text": [
      "C:\\Users\\Chiara\\anaconda3\\lib\\site-packages\\ipykernel\\ipkernel.py:287: DeprecationWarning: `should_run_async` will not call `transform_cell` automatically in the future. Please pass the result to `transformed_cell` argument and any exception that happen during thetransform in `preprocessing_exc_tuple` in IPython 7.17 and above.\n",
      "  and should_run_async(code)\n",
      "C:\\Users\\Chiara\\anaconda3\\lib\\site-packages\\sklearn\\manifold\\_t_sne.py:691: FutureWarning: 'square_distances' has been introduced in 0.24 to help phase out legacy squaring behavior. The 'legacy' setting will be removed in 1.1 (renaming of 0.26), and the default setting will be changed to True. In 1.3, 'square_distances' will be removed altogether, and distances will be squared by default. Set 'square_distances'=True to silence this warning.\n",
      "  warnings.warn(\n"
     ]
    },
    {
     "data": {
      "text/html": [
       "\n",
       "<link rel=\"stylesheet\" type=\"text/css\" href=\"https://cdn.jsdelivr.net/gh/bmabey/pyLDAvis@3.3.1/pyLDAvis/js/ldavis.v1.0.0.css\">\n",
       "\n",
       "\n",
       "<div id=\"ldavis_el1452818569830634568275784398\"></div>\n",
       "<script type=\"text/javascript\">\n",
       "\n",
       "var ldavis_el1452818569830634568275784398_data = {\"mdsDat\": {\"x\": [-60.31231689453125, 60.31256103515625], \"y\": [141.36962890625, -141.369140625], \"topics\": [1, 2], \"cluster\": [1, 1], \"Freq\": [77.08621565000303, 22.91378434999697]}, \"tinfo\": {\"Term\": [\"crew\", \"meal\", \"food\", \"good\", \"cabin\", \"movie\", \"nice\", \"drink\", \"service\", \"usb\", \"business\", \"port\", \"choice\", \"flat\", \"boarding\", \"selection\", \"show\", \"check\", \"free\", \"pillow\", \"luggage\", \"friendly\", \"snack\", \"haul\", \"music\", \"provided\", \"took\", \"socket\", \"film\", \"bkk\", \"haul\", \"cramped\", \"short\", \"acceptable\", \"average\", \"person\", \"tui\", \"knee\", \"worst\", \"table\", \"long\", \"uncomfortable\", \"amount\", \"ever\", \"expected\", \"impossible\", \"overall\", \"stretch\", \"front\", \"klm\", \"using\", \"arm\", \"tray\", \"pocket\", \"horrible\", \"biggest\", \"padding\", \"recline\", \"sitting\", \"job\", \"get\", \"room\", \"air\", \"rest\", \"hard\", \"seat\", \"boeing\", \"economy\", \"leg\", \"foot\", \"reclined\", \"legroom\", \"even\", \"back\", \"comfort\", \"never\", \"flight\", \"aisle\", \"hour\", \"airline\", \"extra\", \"aircraft\", \"time\", \"row\", \"would\", \"plane\", \"space\", \"class\", \"comfortable\", \"good\", \"new\", \"screen\", \"entertainment\", \"snack\", \"bed\", \"menu\", \"malaysia\", \"baggage\", \"prior\", \"english\", \"wt\", \"sandwich\", \"attentive\", \"flat\", \"delicious\", \"club\", \"sky\", \"reservation\", \"present\", \"tea\", \"responsive\", \"music\", \"request\", \"breakfast\", \"film\", \"kit\", \"show\", \"terminal\", \"process\", \"indonesia\", \"steward\", \"asked\", \"auh\", \"socket\", \"garuda\", \"game\", \"buy\", \"crew\", \"meal\", \"bkk\", \"movie\", \"boarding\", \"generally\", \"drink\", \"luggage\", \"usb\", \"port\", \"food\", \"cabin\", \"nice\", \"good\", \"free\", \"selection\", \"friendly\", \"choice\", \"service\", \"check\", \"business\", \"flight\", \"comfortable\", \"pillow\", \"seat\", \"ife\", \"screen\", \"airline\", \"entertainment\", \"class\", \"space\", \"system\", \"sleep\", \"hour\", \"row\", \"enough\"], \"Freq\": [15.0, 13.0, 23.0, 56.0, 30.0, 11.0, 15.0, 9.0, 26.0, 10.0, 20.0, 7.0, 9.0, 4.0, 6.0, 7.0, 4.0, 8.0, 6.0, 8.0, 5.0, 6.0, 3.0, 29.0, 4.0, 6.0, 7.0, 4.0, 4.0, 4.0, 28.8115034094148, 23.114410004564586, 23.329554890160082, 17.00639910351624, 24.535747293650005, 25.121089692327207, 15.150310935646148, 16.970447543175034, 19.20195137980501, 14.90650623239119, 33.67380644379584, 37.63975791367941, 12.222714398243006, 22.400911164938663, 11.251296032979774, 11.931271520404623, 18.1357963054092, 13.373732202164991, 45.881000427799904, 11.473619225929827, 12.549366870172614, 11.364648461465874, 16.001376403339947, 9.419840747646697, 11.080254924194396, 9.140190003269131, 10.16539771185165, 45.931700956517744, 15.67221401676605, 8.414165750452698, 35.59771978157205, 41.23190523520375, 24.24594725586499, 21.32843048663842, 25.31867736501219, 171.9118147519796, 34.197373238251394, 62.851619210488195, 50.5130887473487, 19.516548635261245, 19.04902727976308, 47.78932885495511, 29.95352995664445, 35.620422580806796, 22.53499319719619, 19.20943584206818, 75.94274682324948, 27.263597203725457, 37.33020790670713, 41.625418276069055, 25.413732715405274, 30.719053233888946, 32.30882452856166, 33.964908689926055, 27.8234813474964, 29.751091795822376, 33.10223723986541, 34.184349493833025, 40.60031025566084, 43.6673054866542, 27.656273534473332, 28.731554505171715, 27.202471848936415, 3.09442400681454, 2.249235664167925, 1.9851961564837832, 2.0797913031957087, 2.1526516822408275, 1.6583604223413533, 1.5200035223938866, 1.8716523303032258, 1.6839222223158588, 2.4842012700715954, 3.6263999007153687, 1.2705425174825395, 2.3479606720284747, 1.8081063182068873, 1.4650417222938619, 1.303706594596334, 1.318907007453552, 1.5209568471540924, 3.012990952999676, 1.4789799567734776, 2.241492646340229, 2.947032314150534, 1.2693495036846238, 3.507768669602284, 1.1148638017957329, 1.1296853991422564, 1.0938315616425864, 1.1937583039743367, 2.745318278930952, 1.2318761768331978, 2.9782187030713345, 2.0145774779863888, 2.11841533717042, 2.152935040494082, 9.93219577568595, 8.027548371665166, 2.867418096198655, 6.450252870479961, 3.6661534836333085, 2.3698427997075573, 5.0771798088875855, 3.2697071866890597, 5.0513610029072815, 4.078369128363331, 8.752390358928874, 9.552232513224903, 6.122701472088529, 13.148597297533133, 3.506788089443849, 3.8275727265252555, 3.357190956681827, 4.275158268864522, 7.343592462802921, 3.7970933227708645, 5.907162461597373, 10.401360134054443, 7.561929683263671, 3.6831663232244876, 11.091373167005209, 4.9166521643326355, 5.6548945666708095, 4.990232089459504, 4.592419181909978, 4.6582453277663936, 4.167527466312829, 3.829983131795631, 3.7873640396081756, 3.7547507530175364, 3.7194647778671275, 3.680443837155674], \"Total\": [15.0, 13.0, 23.0, 56.0, 30.0, 11.0, 15.0, 9.0, 26.0, 10.0, 20.0, 7.0, 9.0, 4.0, 6.0, 7.0, 4.0, 8.0, 6.0, 8.0, 5.0, 6.0, 3.0, 29.0, 4.0, 6.0, 7.0, 4.0, 4.0, 4.0, 29.12122203822044, 23.41241002568775, 23.660575437969243, 17.2573344783614, 24.91286937518435, 25.510180065827342, 15.391109224419298, 17.265675488782254, 19.546979703382846, 15.200320273518159, 34.37300440849275, 38.431113455362734, 12.491681010612595, 22.91239980095964, 11.519431558852066, 12.222135928138451, 18.58196244753331, 13.703682431342237, 47.05590723824836, 11.769651643080318, 12.87397485513983, 11.66140973761524, 16.425826690582067, 9.679808490265202, 11.386281999249489, 9.399421059812347, 10.458877650237083, 47.26231226374137, 16.130126898006207, 8.663981953192978, 36.733335283298615, 42.65509808517573, 24.983231141831325, 22.01344451166367, 26.184947631795612, 183.0031879189848, 35.54554841753591, 66.15876816945992, 53.05337588883259, 20.14068534139234, 19.663355409884808, 50.3885086438226, 31.339350767383422, 37.61438583337399, 23.417718236639555, 19.836564583424305, 86.34410695730392, 28.99860878250141, 41.08495865972467, 46.61565036552856, 26.955632215928784, 33.449416478757264, 35.4507625664778, 37.68437346779318, 30.07794070866763, 32.605372678249864, 37.269764706178236, 38.84259482159942, 48.16223993892451, 56.81590278418733, 30.57588091947796, 34.38644907184253, 31.794891030846394, 3.6720336842901977, 2.742057899693139, 2.4475440782634363, 2.576648698717338, 2.6908700868605218, 2.124110331277347, 1.9753369370777218, 2.433532016177334, 2.2050071583819975, 3.2839181771681343, 4.802740758554095, 1.6834723499216306, 3.1164518005061317, 2.406755268737927, 1.9604059797211368, 1.7471724781242977, 1.7818238329384488, 2.0560358360535336, 4.091215344898885, 2.0125846011192747, 3.064598548229215, 4.035327412710827, 1.738609969145416, 4.805008733122026, 1.539823234109378, 1.564089857373239, 1.5178381941308783, 1.6672891069376807, 3.8445098889526896, 1.7266338375012784, 4.179818661934151, 2.830393823609672, 2.9857293391153688, 3.086311849932459, 15.699247739761704, 13.257819320545028, 4.283365399151185, 11.477588030305991, 6.076060108928528, 3.579835504129483, 9.411158882751923, 5.398481803080973, 10.105314731667377, 7.539639200578, 23.081302129350956, 30.19058785972451, 15.97468880877512, 56.81590278418733, 6.7421418077757425, 7.796910911470878, 6.328343175323453, 9.49742993996318, 26.993006742977986, 8.36379681414867, 20.935876539146534, 86.34410695730392, 48.16223993892451, 8.744786784463649, 183.0031879189848, 21.16839468427851, 34.38644907184253, 46.61565036552856, 31.794891030846394, 38.84259482159942, 37.269764706178236, 19.995349402016508, 19.14883435728308, 41.08495865972467, 37.68437346779318, 28.455721237874375], \"Category\": [\"Default\", \"Default\", \"Default\", \"Default\", \"Default\", \"Default\", \"Default\", \"Default\", \"Default\", \"Default\", \"Default\", \"Default\", \"Default\", \"Default\", \"Default\", \"Default\", \"Default\", \"Default\", \"Default\", \"Default\", \"Default\", \"Default\", \"Default\", \"Default\", \"Default\", \"Default\", \"Default\", \"Default\", \"Default\", \"Default\", \"Topic1\", \"Topic1\", \"Topic1\", \"Topic1\", \"Topic1\", \"Topic1\", \"Topic1\", \"Topic1\", \"Topic1\", \"Topic1\", \"Topic1\", \"Topic1\", \"Topic1\", \"Topic1\", \"Topic1\", \"Topic1\", \"Topic1\", \"Topic1\", \"Topic1\", \"Topic1\", \"Topic1\", \"Topic1\", \"Topic1\", \"Topic1\", \"Topic1\", \"Topic1\", \"Topic1\", \"Topic1\", \"Topic1\", \"Topic1\", \"Topic1\", \"Topic1\", \"Topic1\", \"Topic1\", \"Topic1\", \"Topic1\", \"Topic1\", \"Topic1\", \"Topic1\", \"Topic1\", \"Topic1\", \"Topic1\", \"Topic1\", \"Topic1\", \"Topic1\", \"Topic1\", \"Topic1\", \"Topic1\", \"Topic1\", \"Topic1\", \"Topic1\", \"Topic1\", \"Topic1\", \"Topic1\", \"Topic1\", \"Topic1\", \"Topic1\", \"Topic1\", \"Topic1\", \"Topic1\", \"Topic1\", \"Topic1\", \"Topic1\", \"Topic2\", \"Topic2\", \"Topic2\", \"Topic2\", \"Topic2\", \"Topic2\", \"Topic2\", \"Topic2\", \"Topic2\", \"Topic2\", \"Topic2\", \"Topic2\", \"Topic2\", \"Topic2\", \"Topic2\", \"Topic2\", \"Topic2\", \"Topic2\", \"Topic2\", \"Topic2\", \"Topic2\", \"Topic2\", \"Topic2\", \"Topic2\", \"Topic2\", \"Topic2\", \"Topic2\", \"Topic2\", \"Topic2\", \"Topic2\", \"Topic2\", \"Topic2\", \"Topic2\", \"Topic2\", \"Topic2\", \"Topic2\", \"Topic2\", \"Topic2\", \"Topic2\", \"Topic2\", \"Topic2\", \"Topic2\", \"Topic2\", \"Topic2\", \"Topic2\", \"Topic2\", \"Topic2\", \"Topic2\", \"Topic2\", \"Topic2\", \"Topic2\", \"Topic2\", \"Topic2\", \"Topic2\", \"Topic2\", \"Topic2\", \"Topic2\", \"Topic2\", \"Topic2\", \"Topic2\", \"Topic2\", \"Topic2\", \"Topic2\", \"Topic2\", \"Topic2\", \"Topic2\", \"Topic2\", \"Topic2\", \"Topic2\", \"Topic2\"], \"logprob\": [30.0, 29.0, 28.0, 27.0, 26.0, 25.0, 24.0, 23.0, 22.0, 21.0, 20.0, 19.0, 18.0, 17.0, 16.0, 15.0, 14.0, 13.0, 12.0, 11.0, 10.0, 9.0, 8.0, 7.0, 6.0, 5.0, 4.0, 3.0, 2.0, 1.0, -5.9323, -6.1527, -6.1434, -6.4595, -6.093, -6.0694, -6.5751, -6.4616, -6.3381, -6.5913, -5.7764, -5.6651, -6.7898, -6.184, -6.8726, -6.814, -6.3952, -6.6998, -5.4671, -6.8531, -6.7634, -6.8626, -6.5204, -7.0503, -6.888, -7.0804, -6.9741, -5.466, -6.5412, -7.1632, -5.7208, -5.5739, -6.1049, -6.2331, -6.0616, -4.1461, -5.761, -5.1523, -5.3709, -6.3219, -6.3461, -5.4263, -5.8935, -5.7202, -6.178, -6.3377, -4.9631, -5.9876, -5.6733, -5.5644, -6.0578, -5.8682, -5.8178, -5.7678, -5.9672, -5.9003, -5.7935, -5.7613, -5.5893, -5.5165, -5.9733, -5.9351, -5.9898, -6.9503, -7.2693, -7.3942, -7.3477, -7.3132, -7.5741, -7.6612, -7.4531, -7.5588, -7.17, -6.7917, -7.8405, -7.2264, -7.4877, -7.698, -7.8147, -7.8031, -7.6606, -6.977, -7.6886, -7.2728, -6.9991, -7.8414, -6.825, -7.9712, -7.958, -7.9902, -7.9028, -7.07, -7.8714, -6.9886, -7.3795, -7.3293, -7.3131, -5.7842, -5.9971, -7.0265, -6.2158, -6.7808, -7.2171, -6.4552, -6.8952, -6.4603, -6.6742, -5.9106, -5.8232, -6.2679, -5.5036, -6.8252, -6.7377, -6.8688, -6.6271, -6.0861, -6.7457, -6.3038, -5.738, -6.0568, -6.7762, -5.6738, -6.4873, -6.3474, -6.4724, -6.5555, -6.5413, -6.6526, -6.7371, -6.7483, -6.7569, -6.7664, -6.7769], \"loglift\": [30.0, 29.0, 28.0, 27.0, 26.0, 25.0, 24.0, 23.0, 22.0, 21.0, 20.0, 19.0, 18.0, 17.0, 16.0, 15.0, 14.0, 13.0, 12.0, 11.0, 10.0, 9.0, 8.0, 7.0, 6.0, 5.0, 4.0, 3.0, 2.0, 1.0, 0.2496, 0.2474, 0.2462, 0.2456, 0.245, 0.2449, 0.2445, 0.243, 0.2424, 0.2407, 0.2397, 0.2394, 0.2385, 0.2377, 0.2367, 0.2362, 0.2359, 0.2359, 0.235, 0.2348, 0.2347, 0.2345, 0.2341, 0.233, 0.233, 0.2323, 0.2318, 0.2317, 0.2314, 0.231, 0.2288, 0.2263, 0.2303, 0.2286, 0.2266, 0.1977, 0.2216, 0.209, 0.2112, 0.2288, 0.2285, 0.2073, 0.215, 0.2058, 0.2218, 0.2281, 0.1319, 0.1986, 0.1644, 0.147, 0.2013, 0.1751, 0.1674, 0.1563, 0.1823, 0.1686, 0.1417, 0.1325, 0.0894, -0.003, 0.1599, 0.0806, 0.1042, 1.3023, 1.2753, 1.2641, 1.2592, 1.2503, 1.2259, 1.2114, 1.2109, 1.2038, 1.1943, 1.1925, 1.192, 1.1903, 1.1874, 1.1822, 1.1806, 1.1726, 1.172, 1.1675, 1.1654, 1.1607, 1.1591, 1.1589, 1.1588, 1.1505, 1.1481, 1.1458, 1.1393, 1.1367, 1.1358, 1.1345, 1.1334, 1.1303, 1.1133, 1.0156, 0.9717, 1.0721, 0.8972, 0.9682, 1.0609, 0.8563, 0.972, 0.78, 0.859, 0.5037, 0.3227, 0.5144, 0.0099, 0.8198, 0.7619, 0.8395, 0.6752, 0.1717, 0.6838, 0.2081, -0.643, -0.378, 0.6087, -1.3299, 0.0136, -0.3317, -0.761, -0.4615, -0.6474, -0.7174, -0.1792, -0.1471, -0.9192, -0.8422, -0.5719]}, \"token.table\": {\"Topic\": [1, 1, 2, 1, 2, 1, 2, 1, 2, 1, 1, 1, 2, 1, 2, 2, 1, 1, 2, 1, 2, 2, 1, 1, 2, 1, 2, 1, 2, 1, 2, 1, 2, 1, 2, 1, 2, 1, 2, 1, 2, 1, 2, 1, 2, 1, 2, 1, 2, 1, 1, 2, 2, 1, 2, 1, 2, 2, 1, 2, 1, 2, 1, 2, 1, 2, 1, 1, 2, 1, 2, 1, 2, 1, 2, 1, 2, 1, 2, 1, 2, 1, 2, 1, 2, 1, 2, 1, 2, 1, 2, 1, 2, 1, 2, 1, 2, 1, 1, 1, 2, 1, 2, 1, 2, 1, 2, 1, 1, 1, 2, 1, 2, 1, 2, 1, 2, 2, 1, 2, 2, 1, 2, 1, 2, 1, 2, 1, 2, 1, 2, 1, 1, 1, 1, 2, 1, 2, 1, 1, 2, 2, 2, 2, 1, 2, 1, 2, 1, 2, 1, 2, 2, 1, 2, 1, 2, 1, 2, 1, 2, 1, 2, 1, 2, 1, 2, 1, 2, 1, 2, 1, 1, 2, 1, 1, 2, 1, 2, 1, 2, 1, 2, 1, 2, 2, 1, 1, 2, 1, 2, 2, 1, 2, 1, 2, 1, 1, 1, 2, 1, 2, 1, 1, 1, 2, 1, 2], \"Freq\": [0.985088399446388, 0.9606443563584925, 0.040026848181603854, 0.9267725199238434, 0.08968766321843645, 0.9009849625751065, 0.1072601145922746, 0.9310791494346643, 0.0689688258840492, 0.96063932386723, 0.943282180071095, 0.2601111790279247, 0.7803335370837742, 0.304514286303669, 0.609028572607338, 0.5791615907673647, 1.0034974142682433, 0.9570806275948391, 0.05317114597749106, 0.37162700826137424, 0.7432540165227485, 0.7293792010095111, 0.9575057806996125, 0.2334612872854988, 0.7003838618564964, 0.329160667298383, 0.658321334596766, 0.9565192130564109, 0.028132918031070906, 0.3263070135492362, 0.6526140270984724, 0.7164734646745049, 0.286589385869802, 0.32401132763751145, 0.6480226552750229, 0.6955810233829487, 0.33122905875378506, 0.5978146183013101, 0.47825169464104805, 0.5264582136016667, 0.42116657088133336, 0.8753277209249015, 0.12872466484189726, 0.3208777366098181, 0.6417554732196362, 0.9821622998270605, 0.04270270868813306, 0.8512893098824497, 0.16610523119657555, 0.9823849819290172, 0.382183917309854, 0.6369731955164234, 0.5940103501233936, 0.42502735846176226, 0.5312841980772028, 0.9522547312040482, 0.045345463390668965, 1.0124854967572086, 0.8785579459052743, 0.1405692713448439, 0.8491930346232499, 0.1572579693746759, 0.9572629702087716, 0.031908765673625716, 0.9601787761698612, 0.043644489825902785, 0.954908229959237, 0.9274499592417962, 0.0741959967393437, 0.24781136639622167, 0.743434099188665, 0.20821444468326003, 0.8328577787330401, 0.8801990393806615, 0.11581566307640283, 0.6065515680849363, 0.38992600805460187, 0.99301486821289, 0.049650743410644495, 0.44496245933897244, 0.5932832791186299, 0.4740577299439303, 0.4740577299439303, 0.9775605805897609, 0.02125131696934263, 0.3349265410294312, 0.6698530820588624, 0.35330772405540195, 0.7066154481108039, 0.2793424443236177, 0.5586848886472354, 0.9800362456160621, 0.027223229044890614, 0.7744310632030619, 0.22880917776454102, 0.9547469924913363, 0.03818987969965345, 0.9958373299698294, 0.966074790763574, 0.9005728910777966, 0.0973592314678699, 0.7558438057602446, 0.23620118930007641, 0.981825113920797, 0.6588317541795718, 0.9233629574968958, 0.5751721304643922, 0.9346071008369381, 0.9846125053749061, 0.9612960371619855, 0.05654682571541091, 0.9525981477105016, 0.05953738423190635, 0.9891483326839888, 0.02909259802011732, 0.3704745283865879, 0.5557117925798818, 0.7762020491949893, 0.3771359285498582, 0.6034174856797732, 0.8171456513334892, 0.43563159670810214, 0.5227579160497225, 0.24442614619317118, 0.7332784385795135, 0.9578271439136518, 0.05041195494282378, 0.9157544822253337, 0.09811655166700003, 0.6259902849880156, 0.37559417099280934, 0.9686813247429329, 0.9561255360677556, 0.9800009225920454, 0.5717692292833494, 0.45741538342667953, 0.9200937617257221, 0.09200937617257221, 0.9297704607535497, 0.39789702400746385, 0.5305293653432851, 0.5723533380479783, 0.9415706757554763, 0.6393494563537534, 0.5845764015896119, 0.43843230119220894, 0.9732913561931291, 0.021158507743328895, 0.9662643838725847, 0.05085602020382025, 0.4968735224565775, 0.4968735224565775, 0.5100984236654122, 0.4863728454847626, 0.9727456909695252, 0.9539624745629106, 0.04542678450299575, 0.9611981179396012, 0.023443856535112224, 0.9022307357466878, 0.1061447924407868, 0.45351326692915844, 0.9070265338583169, 0.8433554723667807, 0.1744873391103684, 0.9398743374686135, 0.0601082425125276, 0.5130236891786423, 0.5130236891786423, 0.7409326493501077, 0.2593264272725377, 0.9720811761446349, 0.20811616701271965, 0.8324646680508786, 0.9919326798338896, 0.4154971687355598, 0.8309943374711196, 0.7833374982584719, 0.2088899995355925, 0.27232865653662963, 0.8169859696098889, 0.23924482875466763, 0.7177344862640029, 0.8854362312228273, 0.10732560378458512, 0.5997760051564816, 0.9486501212453072, 0.8001860671855235, 0.20004651679638089, 0.9868213123201651, 0.5612227098516669, 0.6494251923522847, 0.902660413580473, 0.08462441377316934, 0.5181902790811252, 0.38864270931084394, 0.9740757833012923, 0.9745886265429934, 0.9887821762993293, 0.026020583586824454, 0.49478914143379676, 0.49478914143379676, 1.0097891402055874, 0.9720171754571278, 0.9309147947063802, 0.06649391390759858, 0.41092535185578954, 0.8218507037115791], \"Term\": [\"acceptable\", \"air\", \"air\", \"aircraft\", \"aircraft\", \"airline\", \"airline\", \"aisle\", \"aisle\", \"amount\", \"arm\", \"asked\", \"asked\", \"attentive\", \"attentive\", \"auh\", \"average\", \"back\", \"back\", \"baggage\", \"baggage\", \"bed\", \"biggest\", \"bkk\", \"bkk\", \"boarding\", \"boarding\", \"boeing\", \"boeing\", \"breakfast\", \"breakfast\", \"business\", \"business\", \"buy\", \"buy\", \"cabin\", \"cabin\", \"check\", \"check\", \"choice\", \"choice\", \"class\", \"class\", \"club\", \"club\", \"comfort\", \"comfort\", \"comfortable\", \"comfortable\", \"cramped\", \"crew\", \"crew\", \"delicious\", \"drink\", \"drink\", \"economy\", \"economy\", \"english\", \"enough\", \"enough\", \"entertainment\", \"entertainment\", \"even\", \"even\", \"ever\", \"ever\", \"expected\", \"extra\", \"extra\", \"film\", \"film\", \"flat\", \"flat\", \"flight\", \"flight\", \"food\", \"food\", \"foot\", \"foot\", \"free\", \"free\", \"friendly\", \"friendly\", \"front\", \"front\", \"game\", \"game\", \"garuda\", \"garuda\", \"generally\", \"generally\", \"get\", \"get\", \"good\", \"good\", \"hard\", \"hard\", \"haul\", \"horrible\", \"hour\", \"hour\", \"ife\", \"ife\", \"impossible\", \"indonesia\", \"job\", \"kit\", \"klm\", \"knee\", \"leg\", \"leg\", \"legroom\", \"legroom\", \"long\", \"long\", \"luggage\", \"luggage\", \"malaysia\", \"meal\", \"meal\", \"menu\", \"movie\", \"movie\", \"music\", \"music\", \"never\", \"never\", \"new\", \"new\", \"nice\", \"nice\", \"overall\", \"padding\", \"person\", \"pillow\", \"pillow\", \"plane\", \"plane\", \"pocket\", \"port\", \"port\", \"present\", \"prior\", \"process\", \"provided\", \"provided\", \"recline\", \"recline\", \"reclined\", \"reclined\", \"request\", \"request\", \"reservation\", \"responsive\", \"responsive\", \"rest\", \"rest\", \"room\", \"room\", \"row\", \"row\", \"sandwich\", \"sandwich\", \"screen\", \"screen\", \"seat\", \"seat\", \"selection\", \"selection\", \"service\", \"service\", \"short\", \"show\", \"show\", \"sitting\", \"sky\", \"sky\", \"sleep\", \"sleep\", \"snack\", \"snack\", \"socket\", \"socket\", \"space\", \"space\", \"steward\", \"stretch\", \"system\", \"system\", \"table\", \"tea\", \"terminal\", \"time\", \"time\", \"took\", \"took\", \"tray\", \"tui\", \"uncomfortable\", \"uncomfortable\", \"usb\", \"usb\", \"using\", \"worst\", \"would\", \"would\", \"wt\", \"wt\"]}, \"R\": 30, \"lambda.step\": 0.01, \"plot.opts\": {\"xlab\": \"PC1\", \"ylab\": \"PC2\"}, \"topic.order\": [1, 2]};\n",
       "\n",
       "function LDAvis_load_lib(url, callback){\n",
       "  var s = document.createElement('script');\n",
       "  s.src = url;\n",
       "  s.async = true;\n",
       "  s.onreadystatechange = s.onload = callback;\n",
       "  s.onerror = function(){console.warn(\"failed to load library \" + url);};\n",
       "  document.getElementsByTagName(\"head\")[0].appendChild(s);\n",
       "}\n",
       "\n",
       "if(typeof(LDAvis) !== \"undefined\"){\n",
       "   // already loaded: just create the visualization\n",
       "   !function(LDAvis){\n",
       "       new LDAvis(\"#\" + \"ldavis_el1452818569830634568275784398\", ldavis_el1452818569830634568275784398_data);\n",
       "   }(LDAvis);\n",
       "}else if(typeof define === \"function\" && define.amd){\n",
       "   // require.js is available: use it to load d3/LDAvis\n",
       "   require.config({paths: {d3: \"https://d3js.org/d3.v5\"}});\n",
       "   require([\"d3\"], function(d3){\n",
       "      window.d3 = d3;\n",
       "      LDAvis_load_lib(\"https://cdn.jsdelivr.net/gh/bmabey/pyLDAvis@3.3.1/pyLDAvis/js/ldavis.v3.0.0.js\", function(){\n",
       "        new LDAvis(\"#\" + \"ldavis_el1452818569830634568275784398\", ldavis_el1452818569830634568275784398_data);\n",
       "      });\n",
       "    });\n",
       "}else{\n",
       "    // require.js not available: dynamically load d3 & LDAvis\n",
       "    LDAvis_load_lib(\"https://d3js.org/d3.v5.js\", function(){\n",
       "         LDAvis_load_lib(\"https://cdn.jsdelivr.net/gh/bmabey/pyLDAvis@3.3.1/pyLDAvis/js/ldavis.v3.0.0.js\", function(){\n",
       "                 new LDAvis(\"#\" + \"ldavis_el1452818569830634568275784398\", ldavis_el1452818569830634568275784398_data);\n",
       "            })\n",
       "         });\n",
       "}\n",
       "</script>"
      ],
      "text/plain": [
       "PreparedData(topic_coordinates=               x           y  topics  cluster       Freq\n",
       "topic                                                   \n",
       "0     -60.312317  141.369629       1        1  77.086216\n",
       "1      60.312561 -141.369141       2        1  22.913784, topic_info=        Term       Freq      Total Category  logprob  loglift\n",
       "1499    crew  15.000000  15.000000  Default  30.0000  30.0000\n",
       "3854    meal  13.000000  13.000000  Default  29.0000  29.0000\n",
       "2547    food  23.000000  23.000000  Default  28.0000  28.0000\n",
       "2736    good  56.000000  56.000000  Default  27.0000  27.0000\n",
       "884    cabin  30.000000  30.000000  Default  26.0000  26.0000\n",
       "...      ...        ...        ...      ...      ...      ...\n",
       "6277  system   3.829983  19.995349   Topic2  -6.7371  -0.1792\n",
       "5747   sleep   3.787364  19.148834   Topic2  -6.7483  -0.1471\n",
       "3006    hour   3.754751  41.084959   Topic2  -6.7569  -0.9192\n",
       "5360     row   3.719465  37.684373   Topic2  -6.7664  -0.8422\n",
       "2157  enough   3.680444  28.455721   Topic2  -6.7769  -0.5719\n",
       "\n",
       "[163 rows x 6 columns], token_table=      Topic      Freq        Term\n",
       "term                             \n",
       "31        1  0.985088  acceptable\n",
       "174       1  0.960644         air\n",
       "174       2  0.040027         air\n",
       "182       1  0.926773    aircraft\n",
       "182       2  0.089688    aircraft\n",
       "...     ...       ...         ...\n",
       "7129      1  0.972017       worst\n",
       "7134      1  0.930915       would\n",
       "7134      2  0.066494       would\n",
       "7150      1  0.410925          wt\n",
       "7150      2  0.821851          wt\n",
       "\n",
       "[208 rows x 3 columns], R=30, lambda_step=0.01, plot_opts={'xlab': 'PC1', 'ylab': 'PC2'}, topic_order=[1, 2])"
      ]
     },
     "execution_count": 33,
     "metadata": {},
     "output_type": "execute_result"
    }
   ],
   "source": [
    "pyLDAvis.enable_notebook()\n",
    "pyLDAvis.sklearn.prepare(lda_model3, tfidf_matrix,tfidf,mds='tsne')"
   ]
  }
 ],
 "metadata": {
  "kernelspec": {
   "display_name": "Python 3",
   "language": "python",
   "name": "python3"
  },
  "language_info": {
   "codemirror_mode": {
    "name": "ipython",
    "version": 3
   },
   "file_extension": ".py",
   "mimetype": "text/x-python",
   "name": "python",
   "nbconvert_exporter": "python",
   "pygments_lexer": "ipython3",
   "version": "3.8.8"
  }
 },
 "nbformat": 4,
 "nbformat_minor": 5
}
